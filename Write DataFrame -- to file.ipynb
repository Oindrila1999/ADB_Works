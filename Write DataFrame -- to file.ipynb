{
 "cells": [
  {
   "cell_type": "code",
   "execution_count": 0,
   "metadata": {
    "application/vnd.databricks.v1+cell": {
     "cellMetadata": {},
     "inputWidgets": {},
     "nuid": "5261e643-b93b-47dd-b4fb-719fba697760",
     "showTitle": false,
     "tableResultSettingsMap": {},
     "title": ""
    }
   },
   "outputs": [],
   "source": [
    "import pyspark\n",
    "from pyspark.sql import SparkSession\n",
    "from pyspark.sql.functions import *\n",
    "from pyspark.sql.types import *\n",
    "from pyspark.sql import *"
   ]
  },
  {
   "cell_type": "code",
   "execution_count": 0,
   "metadata": {
    "application/vnd.databricks.v1+cell": {
     "cellMetadata": {},
     "inputWidgets": {},
     "nuid": "aa30e3fd-c591-448b-ba4a-1183073a0d7c",
     "showTitle": false,
     "tableResultSettingsMap": {},
     "title": ""
    }
   },
   "outputs": [],
   "source": [
    "read_df = spark.read.format(\"csv\") \\\n",
    "                    .option(\"header\",\"True\") \\\n",
    "                    .option(\"inferSchema\",\"True\") \\\n",
    "                    .load(\"/FileStore/tables/Data_for_write_opt-1.csv\")\n",
    "\n",
    "read_df.show()"
   ]
  },
  {
   "cell_type": "code",
   "execution_count": 0,
   "metadata": {
    "application/vnd.databricks.v1+cell": {
     "cellMetadata": {},
     "inputWidgets": {},
     "nuid": "9b610bcf-bc6d-49ac-87c4-e3c3b62e5f8c",
     "showTitle": false,
     "tableResultSettingsMap": {},
     "title": ""
    }
   },
   "outputs": [],
   "source": [
    "## Write data in a file -- whole data in 1 partition\n",
    "\n",
    "read_df.write.format(\"csv\") \\\n",
    "             .option(\"header\",\"True\") \\\n",
    "             .option(\"mode\",\"overwrite\") \\\n",
    "             .option(\"path\",\"/FileStore/tables/csv_write/emp_data_to_write.csv\") \\\n",
    "             .save()"
   ]
  },
  {
   "cell_type": "code",
   "execution_count": 0,
   "metadata": {
    "application/vnd.databricks.v1+cell": {
     "cellMetadata": {},
     "inputWidgets": {},
     "nuid": "df85a9a7-71f3-4f54-ac12-4259f0fe7c28",
     "showTitle": false,
     "tableResultSettingsMap": {},
     "title": ""
    }
   },
   "outputs": [],
   "source": [
    "dbutils.fs.ls(\"/FileStore/tables/csv_write_1/\")"
   ]
  },
  {
   "cell_type": "code",
   "execution_count": 0,
   "metadata": {
    "application/vnd.databricks.v1+cell": {
     "cellMetadata": {},
     "inputWidgets": {},
     "nuid": "a124ac1b-6623-42bb-a2f6-64204f88e62a",
     "showTitle": false,
     "tableResultSettingsMap": {},
     "title": ""
    }
   },
   "outputs": [],
   "source": [
    "## write the data -- repartition it into 3 parts\n",
    "\n",
    "read_df.repartition(3).write.format(\"csv\") \\\n",
    "             .option(\"header\",\"True\") \\\n",
    "             .option(\"mode\",\"overwrite\") \\\n",
    "             .option(\"path\",\"/FileStore/tables/csv_write_1/\") \\\n",
    "             .save()"
   ]
  }
 ],
 "metadata": {
  "application/vnd.databricks.v1+notebook": {
   "computePreferences": null,
   "dashboards": [],
   "environmentMetadata": {
    "base_environment": "",
    "environment_version": "1"
   },
   "inputWidgetPreferences": null,
   "language": "python",
   "notebookMetadata": {
    "pythonIndentUnit": 4
   },
   "notebookName": "Write DataFrame -- to file",
   "widgets": {}
  },
  "language_info": {
   "name": "python"
  }
 },
 "nbformat": 4,
 "nbformat_minor": 0
}