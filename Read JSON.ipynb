{
 "cells": [
  {
   "cell_type": "code",
   "execution_count": 0,
   "metadata": {
    "application/vnd.databricks.v1+cell": {
     "cellMetadata": {
      "byteLimit": 2048000,
      "rowLimit": 10000
     },
     "inputWidgets": {},
     "nuid": "5c0eee55-80bf-45b1-9054-3242277e0e9d",
     "showTitle": false,
     "tableResultSettingsMap": {},
     "title": ""
    }
   },
   "outputs": [],
   "source": [
    "import pyspark\n",
    "from pyspark.sql import SparkSession\n",
    "from pyspark.sql.functions import *\n",
    "from pyspark.sql.types import *\n",
    "from pyspark.sql import *"
   ]
  },
  {
   "cell_type": "code",
   "execution_count": 0,
   "metadata": {
    "application/vnd.databricks.v1+cell": {
     "cellMetadata": {
      "byteLimit": 2048000,
      "rowLimit": 10000
     },
     "inputWidgets": {},
     "nuid": "86ee67d2-673d-489a-b2fc-2cc43e012b58",
     "showTitle": false,
     "tableResultSettingsMap": {},
     "title": ""
    }
   },
   "outputs": [],
   "source": [
    "## Read Line Delimited Json File\n",
    "line_delim_df = spark.read.format(\"json\") \\\n",
    "                          .load(\"/FileStore/tables/line_delimited.json\")\n",
    "line_delim_df.show()"
   ]
  },
  {
   "cell_type": "code",
   "execution_count": 0,
   "metadata": {
    "application/vnd.databricks.v1+cell": {
     "cellMetadata": {
      "byteLimit": 2048000,
      "rowLimit": 10000
     },
     "inputWidgets": {},
     "nuid": "6f66e8ac-d791-4894-8a7e-5549313389ba",
     "showTitle": false,
     "tableResultSettingsMap": {},
     "title": ""
    }
   },
   "outputs": [],
   "source": [
    "## Read Extra Filed Json File\n",
    "line_delim_extra_df = spark.read.format(\"json\") \\\n",
    "                          .load(\"/FileStore/tables/line_delim_extra_fields.json\")\n",
    "line_delim_extra_df.show()"
   ]
  },
  {
   "cell_type": "code",
   "execution_count": 0,
   "metadata": {
    "application/vnd.databricks.v1+cell": {
     "cellMetadata": {
      "byteLimit": 2048000,
      "rowLimit": 10000
     },
     "inputWidgets": {},
     "nuid": "9f0d5cb4-d0d3-4a81-8205-39f54e5885db",
     "showTitle": false,
     "tableResultSettingsMap": {},
     "title": ""
    }
   },
   "outputs": [],
   "source": [
    "## Read multi line correct json\n",
    "multi_line_corr_df = spark.read.format(\"json\") \\\n",
    "                          .option(\"multiline\",\"True\") \\\n",
    "                          .load(\"/FileStore/tables/multi_line_correct.json\")\n",
    "multi_line_corr_df.show()"
   ]
  },
  {
   "cell_type": "code",
   "execution_count": 0,
   "metadata": {
    "application/vnd.databricks.v1+cell": {
     "cellMetadata": {
      "byteLimit": 2048000,
      "rowLimit": 10000
     },
     "inputWidgets": {},
     "nuid": "0322a9b0-0fac-4468-b563-6f4483a38573",
     "showTitle": false,
     "tableResultSettingsMap": {},
     "title": ""
    }
   },
   "outputs": [],
   "source": [
    "## Read multi line in-correct json\n",
    "multi_line_incorr_df = spark.read.format(\"json\") \\\n",
    "                          .option(\"multiline\",\"True\") \\\n",
    "                          .load(\"/FileStore/tables/multi_line_incorrect.json\")\n",
    "multi_line_incorr_df.show()"
   ]
  },
  {
   "cell_type": "code",
   "execution_count": 0,
   "metadata": {
    "application/vnd.databricks.v1+cell": {
     "cellMetadata": {
      "byteLimit": 2048000,
      "rowLimit": 10000
     },
     "inputWidgets": {},
     "nuid": "4193d37e-dc3c-40a9-a92c-e3d928be65cb",
     "showTitle": false,
     "tableResultSettingsMap": {},
     "title": ""
    }
   },
   "outputs": [],
   "source": [
    "## Read corrupted json\n",
    "## It'll automatically show the corrupted record column\n",
    "corrupt_df = spark.read.format(\"json\") \\\n",
    "                          .option(\"mode\",\"PERMISSIVE\") \\\n",
    "                          .load(\"/FileStore/tables/corrupted_json.json\")\n",
    "corrupt_df.show(truncate=False)"
   ]
  },
  {
   "cell_type": "code",
   "execution_count": 0,
   "metadata": {
    "application/vnd.databricks.v1+cell": {
     "cellMetadata": {
      "byteLimit": 2048000,
      "rowLimit": 10000
     },
     "inputWidgets": {},
     "nuid": "9dbafa77-ab3a-405a-acb2-57ca9be81b1a",
     "showTitle": false,
     "tableResultSettingsMap": {},
     "title": ""
    }
   },
   "outputs": [],
   "source": [
    "## Read nested json\n",
    "spark.read.format(\"json\") \\\n",
    "          .option(\"inferSchema\",\"True\") \\\n",
    "          .option(\"mode\",\"PERMISSIVE\") \\\n",
    "          .load(\"/FileStore/tables/resturant_json_data.json\").printSchema()"
   ]
  },
  {
   "cell_type": "code",
   "execution_count": 0,
   "metadata": {
    "application/vnd.databricks.v1+cell": {
     "cellMetadata": {},
     "inputWidgets": {},
     "nuid": "0a00a071-b06a-4140-a108-7a5d4084bef5",
     "showTitle": false,
     "tableResultSettingsMap": {},
     "title": ""
    }
   },
   "outputs": [],
   "source": []
  }
 ],
 "metadata": {
  "application/vnd.databricks.v1+notebook": {
   "computePreferences": null,
   "dashboards": [],
   "environmentMetadata": {
    "base_environment": "",
    "environment_version": "1"
   },
   "inputWidgetPreferences": null,
   "language": "python",
   "notebookMetadata": {
    "pythonIndentUnit": 4
   },
   "notebookName": "Read JSON",
   "widgets": {}
  },
  "language_info": {
   "name": "python"
  }
 },
 "nbformat": 4,
 "nbformat_minor": 0
}