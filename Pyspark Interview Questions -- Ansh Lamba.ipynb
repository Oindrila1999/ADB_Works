{
 "cells": [
  {
   "cell_type": "code",
   "execution_count": 0,
   "metadata": {
    "application/vnd.databricks.v1+cell": {
     "cellMetadata": {
      "byteLimit": 2048000,
      "rowLimit": 10000
     },
     "inputWidgets": {},
     "nuid": "67a84934-a304-4de8-bfa8-528dcec750ac",
     "showTitle": false,
     "tableResultSettingsMap": {},
     "title": ""
    }
   },
   "outputs": [],
   "source": [
    "from pyspark.sql.window import Window\n",
    "from pyspark.sql.types import *\n",
    "from pyspark.sql.functions import *\n",
    "from pyspark.sql import *"
   ]
  },
  {
   "cell_type": "markdown",
   "metadata": {
    "application/vnd.databricks.v1+cell": {
     "cellMetadata": {},
     "inputWidgets": {},
     "nuid": "723096d8-92f7-4e6d-a633-cc4cd1b838e5",
     "showTitle": false,
     "tableResultSettingsMap": {},
     "title": ""
    }
   },
   "source": [
    "**Q1. While ingesting customer data from an external source, you notice duplicate entries. How would you remove duplicates and retain only the latest entry based on a timestamp column?**"
   ]
  },
  {
   "cell_type": "code",
   "execution_count": 0,
   "metadata": {
    "application/vnd.databricks.v1+cell": {
     "cellMetadata": {
      "byteLimit": 2048000,
      "rowLimit": 10000
     },
     "inputWidgets": {},
     "nuid": "b59c27b1-bb6c-4b80-bc35-59a471fc31b7",
     "showTitle": false,
     "tableResultSettingsMap": {},
     "title": ""
    }
   },
   "outputs": [
    {
     "output_type": "display_data",
     "data": {
      "text/html": [
       "<style scoped>\n",
       "  .table-result-container {\n",
       "    max-height: 300px;\n",
       "    overflow: auto;\n",
       "  }\n",
       "  table, th, td {\n",
       "    border: 1px solid black;\n",
       "    border-collapse: collapse;\n",
       "  }\n",
       "  th, td {\n",
       "    padding: 5px;\n",
       "  }\n",
       "  th {\n",
       "    text-align: left;\n",
       "  }\n",
       "</style><div class='table-result-container'><table class='table-result'><thead style='background-color: white'><tr><th>product_id</th><th>date</th><th>sales</th></tr></thead><tbody><tr><td>101</td><td>2023-12-02</td><td>150</td></tr><tr><td>102</td><td>2023-12-02</td><td>250</td></tr></tbody></table></div>"
      ]
     },
     "metadata": {
      "application/vnd.databricks.v1+output": {
       "addedWidgets": {},
       "aggData": [],
       "aggError": "",
       "aggOverflow": false,
       "aggSchema": [],
       "aggSeriesLimitReached": false,
       "aggType": "",
       "arguments": {},
       "columnCustomDisplayInfos": {},
       "data": [
        [
         "101",
         "2023-12-02",
         150
        ],
        [
         "102",
         "2023-12-02",
         250
        ]
       ],
       "datasetInfos": [],
       "dbfsResultPath": null,
       "isJsonSchema": true,
       "metadata": {},
       "overflow": false,
       "plotOptions": {
        "customPlotOptions": {},
        "displayType": "table",
        "pivotAggregation": null,
        "pivotColumns": null,
        "xColumns": null,
        "yColumns": null
       },
       "removedWidgets": [],
       "schema": [
        {
         "metadata": "{}",
         "name": "product_id",
         "type": "\"string\""
        },
        {
         "metadata": "{}",
         "name": "date",
         "type": "\"date\""
        },
        {
         "metadata": "{}",
         "name": "sales",
         "type": "\"long\""
        }
       ],
       "type": "table"
      }
     },
     "output_type": "display_data"
    },
    {
     "output_type": "display_data",
     "data": {
      "text/html": [
       "<style scoped>\n",
       "  .table-result-container {\n",
       "    max-height: 300px;\n",
       "    overflow: auto;\n",
       "  }\n",
       "  table, th, td {\n",
       "    border: 1px solid black;\n",
       "    border-collapse: collapse;\n",
       "  }\n",
       "  th, td {\n",
       "    padding: 5px;\n",
       "  }\n",
       "  th {\n",
       "    text-align: left;\n",
       "  }\n",
       "</style><div class='table-result-container'><table class='table-result'><thead style='background-color: white'><tr><th>product_id</th><th>date</th><th>sales</th></tr></thead><tbody><tr><td>101</td><td>2023-12-02</td><td>150</td></tr><tr><td>102</td><td>2023-12-02</td><td>250</td></tr></tbody></table></div>"
      ]
     },
     "metadata": {
      "application/vnd.databricks.v1+output": {
       "addedWidgets": {},
       "aggData": [],
       "aggError": "",
       "aggOverflow": false,
       "aggSchema": [],
       "aggSeriesLimitReached": false,
       "aggType": "",
       "arguments": {},
       "columnCustomDisplayInfos": {},
       "data": [
        [
         "101",
         "2023-12-02",
         150
        ],
        [
         "102",
         "2023-12-02",
         250
        ]
       ],
       "datasetInfos": [],
       "dbfsResultPath": null,
       "isJsonSchema": true,
       "metadata": {},
       "overflow": false,
       "plotOptions": {
        "customPlotOptions": {},
        "displayType": "table",
        "pivotAggregation": null,
        "pivotColumns": null,
        "xColumns": null,
        "yColumns": null
       },
       "removedWidgets": [],
       "schema": [
        {
         "metadata": "{}",
         "name": "product_id",
         "type": "\"string\""
        },
        {
         "metadata": "{}",
         "name": "date",
         "type": "\"date\""
        },
        {
         "metadata": "{}",
         "name": "sales",
         "type": "\"long\""
        }
       ],
       "type": "table"
      }
     },
     "output_type": "display_data"
    }
   ],
   "source": [
    "data = [(\"101\",\"2023-12-01\",100),(\"101\",\"2023-12-02\",150),\n",
    "        (\"102\",\"2023-12-01\",200),(\"102\",\"2023-12-02\",250)]\n",
    "\n",
    "schema = [\"product_id\",\"date\",\"sales\"]\n",
    "\n",
    "sales_df = spark.createDataFrame(data,schema)\n",
    "\n",
    "sales_df = sales_df.withColumn(\"date\",col(\"date\").cast(DateType()))\n",
    "\n",
    "# SOLUTION-1\n",
    "window = Window.partitionBy(\"product_id\").orderBy(desc(\"date\"))\n",
    "sales_df.withColumn(\"rank\",rank().over(window)).filter(col(\"rank\") == 1).select(\"product_id\",\"date\",\"sales\").display()\n",
    "\n",
    "# SOLUTION-2\n",
    "sales_df.sort(\"product_id\",\"date\",ascending=[1,0]).dropDuplicates(subset=[\"product_id\"]).display()"
   ]
  },
  {
   "cell_type": "markdown",
   "metadata": {
    "application/vnd.databricks.v1+cell": {
     "cellMetadata": {},
     "inputWidgets": {},
     "nuid": "5d03a794-93ac-40c3-9925-20740397c410",
     "showTitle": false,
     "tableResultSettingsMap": {},
     "title": ""
    }
   },
   "source": [
    "**Q2. While processing data from multiple files with inconsistent schemas, you need to merge them on a single dataframe. How would you handle this inconsistency in pyspark?**"
   ]
  },
  {
   "cell_type": "code",
   "execution_count": 0,
   "metadata": {
    "application/vnd.databricks.v1+cell": {
     "cellMetadata": {
      "byteLimit": 2048000,
      "rowLimit": 10000
     },
     "inputWidgets": {},
     "nuid": "b1b70802-d4d0-4383-a6fb-4d1ee6bc20a7",
     "showTitle": false,
     "tableResultSettingsMap": {},
     "title": ""
    }
   },
   "outputs": [
    {
     "output_type": "display_data",
     "data": {
      "text/html": [
       "<style scoped>\n",
       "  .table-result-container {\n",
       "    max-height: 300px;\n",
       "    overflow: auto;\n",
       "  }\n",
       "  table, th, td {\n",
       "    border: 1px solid black;\n",
       "    border-collapse: collapse;\n",
       "  }\n",
       "  th, td {\n",
       "    padding: 5px;\n",
       "  }\n",
       "  th {\n",
       "    text-align: left;\n",
       "  }\n",
       "</style><div class='table-result-container'><table class='table-result'><thead style='background-color: white'><tr><th>empid</th><th>empname</th><th>gender</th><th>sal</th><th>dept</th><th>Hello</th></tr></thead><tbody><tr><td>1</td><td>wafa</td><td>male</td><td>5000</td><td>IT</td><td>null</td></tr><tr><td>2</td><td>maheer</td><td>male</td><td>3000</td><td>Payroll</td><td>null</td></tr><tr><td>3</td><td>asmin</td><td>female</td><td>3000</td><td>Payroll</td><td>null</td></tr><tr><td>4</td><td>sarfarj</td><td>male</td><td>4000</td><td>HR</td><td>null</td></tr><tr><td>5</td><td>ayesha</td><td>female</td><td>3000</td><td>IT</td><td>null</td></tr><tr><td>6</td><td>arfin</td><td>female</td><td>2500</td><td>HR</td><td>null</td></tr><tr><td>7</td><td>shahin</td><td>female</td><td>4000</td><td>IT</td><td>null</td></tr><tr><td>8</td><td>mahaboob</td><td>male</td><td>2000</td><td>Payroll</td><td>null</td></tr><tr><td>9</td><td>pyarijan</td><td>female</td><td>1500</td><td>IT</td><td>null</td></tr><tr><td>10</td><td>imam</td><td>male</td><td>2000</td><td>IT</td><td>null</td></tr><tr><td>11</td><td>shajarun</td><td>female</td><td>3000</td><td>IT</td><td>null</td></tr></tbody></table></div>"
      ]
     },
     "metadata": {
      "application/vnd.databricks.v1+output": {
       "addedWidgets": {},
       "aggData": [],
       "aggError": "",
       "aggOverflow": false,
       "aggSchema": [],
       "aggSeriesLimitReached": false,
       "aggType": "",
       "arguments": {},
       "columnCustomDisplayInfos": {},
       "data": [
        [
         "1",
         "wafa",
         "male",
         "5000",
         "IT",
         null
        ],
        [
         "2",
         "maheer",
         "male",
         "3000",
         "Payroll",
         null
        ],
        [
         "3",
         "asmin",
         "female",
         "3000",
         "Payroll",
         null
        ],
        [
         "4",
         "sarfarj",
         "male",
         "4000",
         "HR",
         null
        ],
        [
         "5",
         "ayesha",
         "female",
         "3000",
         "IT",
         null
        ],
        [
         "6",
         "arfin",
         "female",
         "2500",
         "HR",
         null
        ],
        [
         "7",
         "shahin",
         "female",
         "4000",
         "IT",
         null
        ],
        [
         "8",
         "mahaboob",
         "male",
         "2000",
         "Payroll",
         null
        ],
        [
         "9",
         "pyarijan",
         "female",
         "1500",
         "IT",
         null
        ],
        [
         "10",
         "imam",
         "male",
         "2000",
         "IT",
         null
        ],
        [
         "11",
         "shajarun",
         "female",
         "3000",
         "IT",
         null
        ]
       ],
       "datasetInfos": [],
       "dbfsResultPath": null,
       "isJsonSchema": true,
       "metadata": {},
       "overflow": false,
       "plotOptions": {
        "customPlotOptions": {},
        "displayType": "table",
        "pivotAggregation": null,
        "pivotColumns": null,
        "xColumns": null,
        "yColumns": null
       },
       "removedWidgets": [],
       "schema": [
        {
         "metadata": "{}",
         "name": "empid",
         "type": "\"string\""
        },
        {
         "metadata": "{}",
         "name": "empname",
         "type": "\"string\""
        },
        {
         "metadata": "{}",
         "name": "gender",
         "type": "\"string\""
        },
        {
         "metadata": "{}",
         "name": "sal",
         "type": "\"string\""
        },
        {
         "metadata": "{}",
         "name": "dept",
         "type": "\"string\""
        },
        {
         "metadata": "{}",
         "name": "Hello",
         "type": "\"string\""
        }
       ],
       "type": "table"
      }
     },
     "output_type": "display_data"
    }
   ],
   "source": [
    "# MergeSchema -- Consider all files and create a dataframe on top of all those\n",
    "\n",
    "df = spark.read.format(\"csv\") \\\n",
    "                .option(\"header\",\"True\") \\\n",
    "                .option(\"mergeSchema\",\"True\") \\\n",
    "                .load(\"/FileStore/temp/\")\n",
    "\n",
    "df.display()"
   ]
  },
  {
   "cell_type": "markdown",
   "metadata": {
    "application/vnd.databricks.v1+cell": {
     "cellMetadata": {
      "byteLimit": 2048000,
      "rowLimit": 10000
     },
     "inputWidgets": {},
     "nuid": "827d7db1-dd95-4e3c-b9c9-88ba6a3099dd",
     "showTitle": false,
     "tableResultSettingsMap": {},
     "title": ""
    }
   },
   "source": [
    "**Q3. You are working with a real-time data pipeline. you notice missing values in that streaming data column - Category. How would you handle those null or missing values in such a scenario?** \\\n",
    "**df_stream = spark.readStream.schema(\"id INT, value STRING\").csv(\"/path/to/stream\")**"
   ]
  },
  {
   "cell_type": "code",
   "execution_count": 0,
   "metadata": {
    "application/vnd.databricks.v1+cell": {
     "cellMetadata": {
      "byteLimit": 2048000,
      "rowLimit": 10000
     },
     "inputWidgets": {},
     "nuid": "97d19a19-7bb2-4f6a-a9ac-5088e2687b12",
     "showTitle": false,
     "tableResultSettingsMap": {},
     "title": ""
    }
   },
   "outputs": [
    {
     "output_type": "display_data",
     "data": {
      "text/html": [
       "<style scoped>\n",
       "  .table-result-container {\n",
       "    max-height: 300px;\n",
       "    overflow: auto;\n",
       "  }\n",
       "  table, th, td {\n",
       "    border: 1px solid black;\n",
       "    border-collapse: collapse;\n",
       "  }\n",
       "  th, td {\n",
       "    padding: 5px;\n",
       "  }\n",
       "  th {\n",
       "    text-align: left;\n",
       "  }\n",
       "</style><div class='table-result-container'><table class='table-result'><thead style='background-color: white'><tr><th>empid</th><th>empname</th><th>gender</th><th>sal</th><th>dept</th><th>Hello</th></tr></thead><tbody><tr><td>1</td><td>wafa</td><td>male</td><td>5000</td><td>IT</td><td>N/A</td></tr><tr><td>2</td><td>maheer</td><td>male</td><td>3000</td><td>Payroll</td><td>N/A</td></tr><tr><td>3</td><td>asmin</td><td>female</td><td>3000</td><td>Payroll</td><td>N/A</td></tr><tr><td>4</td><td>sarfarj</td><td>male</td><td>4000</td><td>HR</td><td>N/A</td></tr><tr><td>5</td><td>ayesha</td><td>female</td><td>3000</td><td>IT</td><td>N/A</td></tr><tr><td>6</td><td>arfin</td><td>female</td><td>2500</td><td>HR</td><td>N/A</td></tr><tr><td>7</td><td>shahin</td><td>female</td><td>4000</td><td>IT</td><td>N/A</td></tr><tr><td>8</td><td>mahaboob</td><td>male</td><td>2000</td><td>Payroll</td><td>N/A</td></tr><tr><td>9</td><td>pyarijan</td><td>female</td><td>1500</td><td>IT</td><td>N/A</td></tr><tr><td>10</td><td>imam</td><td>male</td><td>2000</td><td>IT</td><td>N/A</td></tr><tr><td>11</td><td>shajarun</td><td>female</td><td>3000</td><td>IT</td><td>N/A</td></tr></tbody></table></div>"
      ]
     },
     "metadata": {
      "application/vnd.databricks.v1+output": {
       "addedWidgets": {},
       "aggData": [],
       "aggError": "",
       "aggOverflow": false,
       "aggSchema": [],
       "aggSeriesLimitReached": false,
       "aggType": "",
       "arguments": {},
       "columnCustomDisplayInfos": {},
       "data": [
        [
         "1",
         "wafa",
         "male",
         "5000",
         "IT",
         "N/A"
        ],
        [
         "2",
         "maheer",
         "male",
         "3000",
         "Payroll",
         "N/A"
        ],
        [
         "3",
         "asmin",
         "female",
         "3000",
         "Payroll",
         "N/A"
        ],
        [
         "4",
         "sarfarj",
         "male",
         "4000",
         "HR",
         "N/A"
        ],
        [
         "5",
         "ayesha",
         "female",
         "3000",
         "IT",
         "N/A"
        ],
        [
         "6",
         "arfin",
         "female",
         "2500",
         "HR",
         "N/A"
        ],
        [
         "7",
         "shahin",
         "female",
         "4000",
         "IT",
         "N/A"
        ],
        [
         "8",
         "mahaboob",
         "male",
         "2000",
         "Payroll",
         "N/A"
        ],
        [
         "9",
         "pyarijan",
         "female",
         "1500",
         "IT",
         "N/A"
        ],
        [
         "10",
         "imam",
         "male",
         "2000",
         "IT",
         "N/A"
        ],
        [
         "11",
         "shajarun",
         "female",
         "3000",
         "IT",
         "N/A"
        ]
       ],
       "datasetInfos": [],
       "dbfsResultPath": null,
       "isJsonSchema": true,
       "metadata": {},
       "overflow": false,
       "plotOptions": {
        "customPlotOptions": {},
        "displayType": "table",
        "pivotAggregation": null,
        "pivotColumns": null,
        "xColumns": null,
        "yColumns": null
       },
       "removedWidgets": [],
       "schema": [
        {
         "metadata": "{}",
         "name": "empid",
         "type": "\"string\""
        },
        {
         "metadata": "{}",
         "name": "empname",
         "type": "\"string\""
        },
        {
         "metadata": "{}",
         "name": "gender",
         "type": "\"string\""
        },
        {
         "metadata": "{}",
         "name": "sal",
         "type": "\"string\""
        },
        {
         "metadata": "{}",
         "name": "dept",
         "type": "\"string\""
        },
        {
         "metadata": "{}",
         "name": "Hello",
         "type": "\"string\""
        }
       ],
       "type": "table"
      }
     },
     "output_type": "display_data"
    }
   ],
   "source": [
    "result_df = df.fillna({\"Hello\":\"N/A\"})\n",
    "result_df.display()"
   ]
  },
  {
   "cell_type": "markdown",
   "metadata": {
    "application/vnd.databricks.v1+cell": {
     "cellMetadata": {},
     "inputWidgets": {},
     "nuid": "41206571-75ea-4076-a7c8-5aa00e819666",
     "showTitle": false,
     "tableResultSettingsMap": {},
     "title": ""
    },
    "jupyter": {
     "outputs_hidden": true
    }
   },
   "source": [
    "**Q4. You need to calculate total number of actions performed by user given in the system. How would you calculate the top 5 most active users?**"
   ]
  },
  {
   "cell_type": "code",
   "execution_count": 0,
   "metadata": {
    "application/vnd.databricks.v1+cell": {
     "cellMetadata": {
      "byteLimit": 2048000,
      "rowLimit": 10000
     },
     "inputWidgets": {},
     "nuid": "c000f4ed-02a0-493f-a0d6-545d5f011399",
     "showTitle": false,
     "tableResultSettingsMap": {},
     "title": ""
    }
   },
   "outputs": [
    {
     "output_type": "display_data",
     "data": {
      "text/html": [
       "<style scoped>\n",
       "  .table-result-container {\n",
       "    max-height: 300px;\n",
       "    overflow: auto;\n",
       "  }\n",
       "  table, th, td {\n",
       "    border: 1px solid black;\n",
       "    border-collapse: collapse;\n",
       "  }\n",
       "  th, td {\n",
       "    padding: 5px;\n",
       "  }\n",
       "  th {\n",
       "    text-align: left;\n",
       "  }\n",
       "</style><div class='table-result-container'><table class='table-result'><thead style='background-color: white'><tr><th>user_id</th><th>Total_Actions</th></tr></thead><tbody><tr><td>user1</td><td>7</td></tr><tr><td>user2</td><td>11</td></tr><tr><td>user3</td><td>2</td></tr><tr><td>user4</td><td>10</td></tr><tr><td>user6</td><td>18</td></tr><tr><td>user7</td><td>22</td></tr><tr><td>user9</td><td>10</td></tr></tbody></table></div>"
      ]
     },
     "metadata": {
      "application/vnd.databricks.v1+output": {
       "addedWidgets": {},
       "aggData": [],
       "aggError": "",
       "aggOverflow": false,
       "aggSchema": [],
       "aggSeriesLimitReached": false,
       "aggType": "",
       "arguments": {},
       "columnCustomDisplayInfos": {},
       "data": [
        [
         "user1",
         7
        ],
        [
         "user2",
         11
        ],
        [
         "user3",
         2
        ],
        [
         "user4",
         10
        ],
        [
         "user6",
         18
        ],
        [
         "user7",
         22
        ],
        [
         "user9",
         10
        ]
       ],
       "datasetInfos": [],
       "dbfsResultPath": null,
       "isJsonSchema": true,
       "metadata": {},
       "overflow": false,
       "plotOptions": {
        "customPlotOptions": {},
        "displayType": "table",
        "pivotAggregation": null,
        "pivotColumns": null,
        "xColumns": null,
        "yColumns": null
       },
       "removedWidgets": [],
       "schema": [
        {
         "metadata": "{}",
         "name": "user_id",
         "type": "\"string\""
        },
        {
         "metadata": "{}",
         "name": "Total_Actions",
         "type": "\"long\""
        }
       ],
       "type": "table"
      }
     },
     "output_type": "display_data"
    },
    {
     "output_type": "display_data",
     "data": {
      "text/html": [
       "<style scoped>\n",
       "  .table-result-container {\n",
       "    max-height: 300px;\n",
       "    overflow: auto;\n",
       "  }\n",
       "  table, th, td {\n",
       "    border: 1px solid black;\n",
       "    border-collapse: collapse;\n",
       "  }\n",
       "  th, td {\n",
       "    padding: 5px;\n",
       "  }\n",
       "  th {\n",
       "    text-align: left;\n",
       "  }\n",
       "</style><div class='table-result-container'><table class='table-result'><thead style='background-color: white'><tr><th>user_id</th><th>Total_Actions</th></tr></thead><tbody><tr><td>user7</td><td>22</td></tr><tr><td>user6</td><td>18</td></tr><tr><td>user2</td><td>11</td></tr><tr><td>user4</td><td>10</td></tr><tr><td>user9</td><td>10</td></tr></tbody></table></div>"
      ]
     },
     "metadata": {
      "application/vnd.databricks.v1+output": {
       "addedWidgets": {},
       "aggData": [],
       "aggError": "",
       "aggOverflow": false,
       "aggSchema": [],
       "aggSeriesLimitReached": false,
       "aggType": "",
       "arguments": {},
       "columnCustomDisplayInfos": {},
       "data": [
        [
         "user7",
         22
        ],
        [
         "user6",
         18
        ],
        [
         "user2",
         11
        ],
        [
         "user4",
         10
        ],
        [
         "user9",
         10
        ]
       ],
       "datasetInfos": [],
       "dbfsResultPath": null,
       "isJsonSchema": true,
       "metadata": {},
       "overflow": false,
       "plotOptions": {
        "customPlotOptions": {},
        "displayType": "table",
        "pivotAggregation": null,
        "pivotColumns": null,
        "xColumns": null,
        "yColumns": null
       },
       "removedWidgets": [],
       "schema": [
        {
         "metadata": "{}",
         "name": "user_id",
         "type": "\"string\""
        },
        {
         "metadata": "{}",
         "name": "Total_Actions",
         "type": "\"long\""
        }
       ],
       "type": "table"
      }
     },
     "output_type": "display_data"
    }
   ],
   "source": [
    "data = [(\"user1\",5),(\"user2\",8),(\"user3\",2),(\"user4\",10),(\"user2\",3),(\"user6\",18),(\"user7\",22),(\"user1\",2),(\"user9\",10)]\n",
    "\n",
    "columns = [\"user_id\",\"actions\"]\n",
    "\n",
    "user_df = spark.createDataFrame(data,columns)\n",
    "\n",
    "total_actions = user_df.groupBy(\"user_id\").agg(sum(col(\"actions\")).alias(\"Total_Actions\"))\n",
    "\n",
    "total_actions.display()\n",
    "\n",
    "top_5 = total_actions.sort(col(\"Total_Actions\").desc()).limit(5)\n",
    "\n",
    "top_5.display()"
   ]
  },
  {
   "cell_type": "markdown",
   "metadata": {
    "application/vnd.databricks.v1+cell": {
     "cellMetadata": {},
     "inputWidgets": {},
     "nuid": "06be5148-d64f-4b73-b83f-270c9682bc94",
     "showTitle": false,
     "tableResultSettingsMap": {},
     "title": ""
    }
   },
   "source": [
    "**Q5. While processing sales transaction data, you need to identify the most recent transaction for each customer. How would you approach to this task?**"
   ]
  },
  {
   "cell_type": "code",
   "execution_count": 0,
   "metadata": {
    "application/vnd.databricks.v1+cell": {
     "cellMetadata": {
      "byteLimit": 2048000,
      "rowLimit": 10000
     },
     "inputWidgets": {},
     "nuid": "7d2f773b-e6f8-4a19-b7ce-2e2d1ca3efb7",
     "showTitle": false,
     "tableResultSettingsMap": {},
     "title": ""
    }
   },
   "outputs": [
    {
     "output_type": "display_data",
     "data": {
      "text/html": [
       "<style scoped>\n",
       "  .table-result-container {\n",
       "    max-height: 300px;\n",
       "    overflow: auto;\n",
       "  }\n",
       "  table, th, td {\n",
       "    border: 1px solid black;\n",
       "    border-collapse: collapse;\n",
       "  }\n",
       "  th, td {\n",
       "    padding: 5px;\n",
       "  }\n",
       "  th {\n",
       "    text-align: left;\n",
       "  }\n",
       "</style><div class='table-result-container'><table class='table-result'><thead style='background-color: white'><tr><th>cust_id</th><th>transaction_date</th><th>sales</th></tr></thead><tbody><tr><td>cust1</td><td>2023-12-03</td><td>200</td></tr><tr><td>cust2</td><td>2023-12-04</td><td>250</td></tr></tbody></table></div>"
      ]
     },
     "metadata": {
      "application/vnd.databricks.v1+output": {
       "addedWidgets": {},
       "aggData": [],
       "aggError": "",
       "aggOverflow": false,
       "aggSchema": [],
       "aggSeriesLimitReached": false,
       "aggType": "",
       "arguments": {},
       "columnCustomDisplayInfos": {},
       "data": [
        [
         "cust1",
         "2023-12-03",
         200
        ],
        [
         "cust2",
         "2023-12-04",
         250
        ]
       ],
       "datasetInfos": [],
       "dbfsResultPath": null,
       "isJsonSchema": true,
       "metadata": {},
       "overflow": false,
       "plotOptions": {
        "customPlotOptions": {},
        "displayType": "table",
        "pivotAggregation": null,
        "pivotColumns": null,
        "xColumns": null,
        "yColumns": null
       },
       "removedWidgets": [],
       "schema": [
        {
         "metadata": "{}",
         "name": "cust_id",
         "type": "\"string\""
        },
        {
         "metadata": "{}",
         "name": "transaction_date",
         "type": "\"date\""
        },
        {
         "metadata": "{}",
         "name": "sales",
         "type": "\"long\""
        }
       ],
       "type": "table"
      }
     },
     "output_type": "display_data"
    }
   ],
   "source": [
    "data = [(\"cust1\",\"2023-12-01\",100),(\"cust2\",\"2023-12-02\",150),\n",
    "        (\"cust1\",\"2023-12-03\",200),(\"cust2\",\"2023-12-04\",250)]\n",
    "\n",
    "columns = [\"cust_id\",\"transaction_date\",\"sales\"]\n",
    "\n",
    "cust_sales_df = spark.createDataFrame(data,columns)\n",
    "\n",
    "cust_sales_df.withColumn(\"transaction_date\",to_date(col(\"transaction_date\"))) \\\n",
    "             .withColumn(\"recent_txn\",dense_rank().over(Window.partitionBy(\"cust_id\").orderBy(desc(\"transaction_date\")))) \\\n",
    "             .filter(col(\"recent_txn\") == 1).select(\"cust_id\",\"transaction_date\",\"sales\").display()"
   ]
  },
  {
   "cell_type": "markdown",
   "metadata": {
    "application/vnd.databricks.v1+cell": {
     "cellMetadata": {},
     "inputWidgets": {},
     "nuid": "6394ecd5-5a1e-41bb-afd2-6fafc690a973",
     "showTitle": false,
     "tableResultSettingsMap": {},
     "title": ""
    }
   },
   "source": [
    "**Q6. You need to identify customers who haven't made any purchase in the last 30 days. How would you filter such customers?**"
   ]
  },
  {
   "cell_type": "code",
   "execution_count": 0,
   "metadata": {
    "application/vnd.databricks.v1+cell": {
     "cellMetadata": {
      "byteLimit": 2048000,
      "rowLimit": 10000
     },
     "inputWidgets": {},
     "nuid": "173fb24b-be56-4698-b6da-e805d9b00be8",
     "showTitle": false,
     "tableResultSettingsMap": {},
     "title": ""
    }
   },
   "outputs": [
    {
     "output_type": "display_data",
     "data": {
      "text/html": [
       "<style scoped>\n",
       "  .table-result-container {\n",
       "    max-height: 300px;\n",
       "    overflow: auto;\n",
       "  }\n",
       "  table, th, td {\n",
       "    border: 1px solid black;\n",
       "    border-collapse: collapse;\n",
       "  }\n",
       "  th, td {\n",
       "    padding: 5px;\n",
       "  }\n",
       "  th {\n",
       "    text-align: left;\n",
       "  }\n",
       "</style><div class='table-result-container'><table class='table-result'><thead style='background-color: white'><tr><th>cust_id</th><th>last_purchase_date</th></tr></thead><tbody><tr><td>cust2</td><td>2024-11-20</td></tr><tr><td>cust3</td><td>2024-11-25</td></tr></tbody></table></div>"
      ]
     },
     "metadata": {
      "application/vnd.databricks.v1+output": {
       "addedWidgets": {},
       "aggData": [],
       "aggError": "",
       "aggOverflow": false,
       "aggSchema": [],
       "aggSeriesLimitReached": false,
       "aggType": "",
       "arguments": {},
       "columnCustomDisplayInfos": {},
       "data": [
        [
         "cust2",
         "2024-11-20"
        ],
        [
         "cust3",
         "2024-11-25"
        ]
       ],
       "datasetInfos": [],
       "dbfsResultPath": null,
       "isJsonSchema": true,
       "metadata": {},
       "overflow": false,
       "plotOptions": {
        "customPlotOptions": {},
        "displayType": "table",
        "pivotAggregation": null,
        "pivotColumns": null,
        "xColumns": null,
        "yColumns": null
       },
       "removedWidgets": [],
       "schema": [
        {
         "metadata": "{}",
         "name": "cust_id",
         "type": "\"string\""
        },
        {
         "metadata": "{}",
         "name": "last_purchase_date",
         "type": "\"date\""
        }
       ],
       "type": "table"
      }
     },
     "output_type": "display_data"
    }
   ],
   "source": [
    "data = [(\"cust1\",\"2025-03-01\"),(\"cust2\",\"2024-11-20\"),(\"cust3\",\"2024-11-25\")]\n",
    "\n",
    "columns = [\"cust_id\",\"last_purchase_date\"]\n",
    "\n",
    "cust_pur_df = spark.createDataFrame(data,columns)\n",
    "\n",
    "cust_pur_df.withColumn(\"last_purchase_date\",to_date(col(\"last_purchase_date\"))) \\\n",
    "           .filter(datediff(current_date(),col(\"last_purchase_date\")) > 30).display() "
   ]
  },
  {
   "cell_type": "markdown",
   "metadata": {
    "application/vnd.databricks.v1+cell": {
     "cellMetadata": {},
     "inputWidgets": {},
     "nuid": "2cf83536-e8bc-4bb9-b393-e5424f03cb6b",
     "showTitle": false,
     "tableResultSettingsMap": {},
     "title": ""
    }
   },
   "source": [
    "**Q7. While analyzing customer reviews, you need to identify most frequently used words in the feedback. How would you implement this?**"
   ]
  },
  {
   "cell_type": "code",
   "execution_count": 0,
   "metadata": {
    "application/vnd.databricks.v1+cell": {
     "cellMetadata": {
      "byteLimit": 2048000,
      "rowLimit": 10000
     },
     "inputWidgets": {},
     "nuid": "55eae5b1-e1f2-480b-8166-552a15084d9f",
     "showTitle": false,
     "tableResultSettingsMap": {},
     "title": ""
    }
   },
   "outputs": [
    {
     "output_type": "display_data",
     "data": {
      "text/html": [
       "<style scoped>\n",
       "  .table-result-container {\n",
       "    max-height: 300px;\n",
       "    overflow: auto;\n",
       "  }\n",
       "  table, th, td {\n",
       "    border: 1px solid black;\n",
       "    border-collapse: collapse;\n",
       "  }\n",
       "  th, td {\n",
       "    padding: 5px;\n",
       "  }\n",
       "  th {\n",
       "    text-align: left;\n",
       "  }\n",
       "</style><div class='table-result-container'><table class='table-result'><thead style='background-color: white'><tr><th>feedback</th><th>word_count</th></tr></thead><tbody><tr><td>great</td><td>2</td></tr><tr><td>is</td><td>1</td></tr><tr><td>the</td><td>1</td></tr><tr><td>product</td><td>1</td></tr><tr><td>fast</td><td>1</td></tr><tr><td>delivery</td><td>1</td></tr><tr><td>product,</td><td>1</td></tr><tr><td>could</td><td>1</td></tr><tr><td>not</td><td>1</td></tr><tr><td>be</td><td>1</td></tr><tr><td>bad,</td><td>1</td></tr><tr><td>better</td><td>1</td></tr></tbody></table></div>"
      ]
     },
     "metadata": {
      "application/vnd.databricks.v1+output": {
       "addedWidgets": {},
       "aggData": [],
       "aggError": "",
       "aggOverflow": false,
       "aggSchema": [],
       "aggSeriesLimitReached": false,
       "aggType": "",
       "arguments": {},
       "columnCustomDisplayInfos": {},
       "data": [
        [
         "great",
         2
        ],
        [
         "is",
         1
        ],
        [
         "the",
         1
        ],
        [
         "product",
         1
        ],
        [
         "fast",
         1
        ],
        [
         "delivery",
         1
        ],
        [
         "product,",
         1
        ],
        [
         "could",
         1
        ],
        [
         "not",
         1
        ],
        [
         "be",
         1
        ],
        [
         "bad,",
         1
        ],
        [
         "better",
         1
        ]
       ],
       "datasetInfos": [],
       "dbfsResultPath": null,
       "isJsonSchema": true,
       "metadata": {},
       "overflow": false,
       "plotOptions": {
        "customPlotOptions": {},
        "displayType": "table",
        "pivotAggregation": null,
        "pivotColumns": null,
        "xColumns": null,
        "yColumns": null
       },
       "removedWidgets": [],
       "schema": [
        {
         "metadata": "{}",
         "name": "feedback",
         "type": "\"string\""
        },
        {
         "metadata": "{}",
         "name": "word_count",
         "type": "\"long\""
        }
       ],
       "type": "table"
      }
     },
     "output_type": "display_data"
    }
   ],
   "source": [
    "data = [(\"cust1\",\"The product is great\"),(\"cust2\",\"Great product, fast delivery\"),(\"cust3\",\"not bad, could be better\")]\n",
    "\n",
    "columns = [\"cust_id\",\"feedback\"]\n",
    "\n",
    "cust_fdbck_df = spark.createDataFrame(data,columns)\n",
    "\n",
    "word_feedback = cust_fdbck_df.withColumn(\"feedback\",explode(split(col(\"feedback\"),\" \"))).withColumn(\"feedback\",lower(col(\"feedback\")))\n",
    "\n",
    "word_feedback.groupBy(\"feedback\").agg(count(col(\"feedback\")).alias(\"word_count\")).display()"
   ]
  },
  {
   "cell_type": "markdown",
   "metadata": {
    "application/vnd.databricks.v1+cell": {
     "cellMetadata": {},
     "inputWidgets": {},
     "nuid": "a44ac9b8-e09d-46fe-922b-0b0042ee41df",
     "showTitle": false,
     "tableResultSettingsMap": {},
     "title": ""
    }
   },
   "source": [
    "**Q8. You need to calculate cumulative sum of sales over time for each product. How would you approach this?**"
   ]
  },
  {
   "cell_type": "code",
   "execution_count": 0,
   "metadata": {
    "application/vnd.databricks.v1+cell": {
     "cellMetadata": {
      "byteLimit": 2048000,
      "rowLimit": 10000
     },
     "inputWidgets": {},
     "nuid": "b0d4a25a-5e85-40d7-ab37-44b6c47c7174",
     "showTitle": false,
     "tableResultSettingsMap": {},
     "title": ""
    }
   },
   "outputs": [
    {
     "output_type": "display_data",
     "data": {
      "text/html": [
       "<style scoped>\n",
       "  .table-result-container {\n",
       "    max-height: 300px;\n",
       "    overflow: auto;\n",
       "  }\n",
       "  table, th, td {\n",
       "    border: 1px solid black;\n",
       "    border-collapse: collapse;\n",
       "  }\n",
       "  th, td {\n",
       "    padding: 5px;\n",
       "  }\n",
       "  th {\n",
       "    text-align: left;\n",
       "  }\n",
       "</style><div class='table-result-container'><table class='table-result'><thead style='background-color: white'><tr><th>product_id</th><th>date</th><th>sales</th><th>cumsum</th></tr></thead><tbody><tr><td>product1</td><td>2023-12-01</td><td>100</td><td>100</td></tr><tr><td>product1</td><td>2023-12-03</td><td>150</td><td>250</td></tr><tr><td>product2</td><td>2023-12-02</td><td>200</td><td>200</td></tr><tr><td>product2</td><td>2023-12-04</td><td>250</td><td>450</td></tr></tbody></table></div>"
      ]
     },
     "metadata": {
      "application/vnd.databricks.v1+output": {
       "addedWidgets": {},
       "aggData": [],
       "aggError": "",
       "aggOverflow": false,
       "aggSchema": [],
       "aggSeriesLimitReached": false,
       "aggType": "",
       "arguments": {},
       "columnCustomDisplayInfos": {},
       "data": [
        [
         "product1",
         "2023-12-01",
         100,
         100
        ],
        [
         "product1",
         "2023-12-03",
         150,
         250
        ],
        [
         "product2",
         "2023-12-02",
         200,
         200
        ],
        [
         "product2",
         "2023-12-04",
         250,
         450
        ]
       ],
       "datasetInfos": [],
       "dbfsResultPath": null,
       "isJsonSchema": true,
       "metadata": {},
       "overflow": false,
       "plotOptions": {
        "customPlotOptions": {},
        "displayType": "table",
        "pivotAggregation": null,
        "pivotColumns": null,
        "xColumns": null,
        "yColumns": null
       },
       "removedWidgets": [],
       "schema": [
        {
         "metadata": "{}",
         "name": "product_id",
         "type": "\"string\""
        },
        {
         "metadata": "{}",
         "name": "date",
         "type": "\"date\""
        },
        {
         "metadata": "{}",
         "name": "sales",
         "type": "\"long\""
        },
        {
         "metadata": "{}",
         "name": "cumsum",
         "type": "\"long\""
        }
       ],
       "type": "table"
      }
     },
     "output_type": "display_data"
    }
   ],
   "source": [
    "data = [(\"product1\",\"2023-12-01\",100),(\"product2\",\"2023-12-02\",200),\n",
    "        (\"product1\",\"2023-12-03\",150),(\"product2\",\"2023-12-04\",250)]\n",
    "\n",
    "columns = [\"product_id\",\"date\",\"sales\"]\n",
    "\n",
    "prd_df = spark.createDataFrame(data,columns)\n",
    "\n",
    "prd_df.withColumn(\"date\",to_date(col(\"date\"))) \\\n",
    "      .withColumn(\"cumsum\",sum(\"sales\").over(Window.partitionBy(\"product_id\").orderBy(\"date\"))) \\\n",
    "      .display()"
   ]
  },
  {
   "cell_type": "markdown",
   "metadata": {
    "application/vnd.databricks.v1+cell": {
     "cellMetadata": {},
     "inputWidgets": {},
     "nuid": "0464ac29-52e7-417f-86b5-db629a6c0b9d",
     "showTitle": false,
     "tableResultSettingsMap": {},
     "title": ""
    }
   },
   "source": [
    "**Q9. While preparing a data pipeline, you notice some duplicate rows in the dataset. How would you remove duplicates without affecting the original order?**\n"
   ]
  },
  {
   "cell_type": "code",
   "execution_count": 0,
   "metadata": {
    "application/vnd.databricks.v1+cell": {
     "cellMetadata": {
      "byteLimit": 2048000,
      "rowLimit": 10000
     },
     "inputWidgets": {},
     "nuid": "616bd2da-4d4a-4d5f-9961-102b8240f879",
     "showTitle": false,
     "tableResultSettingsMap": {},
     "title": ""
    }
   },
   "outputs": [
    {
     "output_type": "display_data",
     "data": {
      "text/html": [
       "<style scoped>\n",
       "  .table-result-container {\n",
       "    max-height: 300px;\n",
       "    overflow: auto;\n",
       "  }\n",
       "  table, th, td {\n",
       "    border: 1px solid black;\n",
       "    border-collapse: collapse;\n",
       "  }\n",
       "  th, td {\n",
       "    padding: 5px;\n",
       "  }\n",
       "  th {\n",
       "    text-align: left;\n",
       "  }\n",
       "</style><div class='table-result-container'><table class='table-result'><thead style='background-color: white'><tr><th>name</th><th>age</th><th>r_no</th></tr></thead><tbody><tr><td>Alice</td><td>22</td><td>1</td></tr><tr><td>Jane</td><td>30</td><td>1</td></tr><tr><td>John</td><td>25</td><td>1</td></tr></tbody></table></div>"
      ]
     },
     "metadata": {
      "application/vnd.databricks.v1+output": {
       "addedWidgets": {},
       "aggData": [],
       "aggError": "",
       "aggOverflow": false,
       "aggSchema": [],
       "aggSeriesLimitReached": false,
       "aggType": "",
       "arguments": {},
       "columnCustomDisplayInfos": {},
       "data": [
        [
         "Alice",
         22,
         1
        ],
        [
         "Jane",
         30,
         1
        ],
        [
         "John",
         25,
         1
        ]
       ],
       "datasetInfos": [],
       "dbfsResultPath": null,
       "isJsonSchema": true,
       "metadata": {},
       "overflow": false,
       "plotOptions": {
        "customPlotOptions": {},
        "displayType": "table",
        "pivotAggregation": null,
        "pivotColumns": null,
        "xColumns": null,
        "yColumns": null
       },
       "removedWidgets": [],
       "schema": [
        {
         "metadata": "{}",
         "name": "name",
         "type": "\"string\""
        },
        {
         "metadata": "{}",
         "name": "age",
         "type": "\"long\""
        },
        {
         "metadata": "{}",
         "name": "r_no",
         "type": "\"integer\""
        }
       ],
       "type": "table"
      }
     },
     "output_type": "display_data"
    }
   ],
   "source": [
    "data = [(\"John\",25),(\"Jane\",30),(\"John\",25),(\"Alice\",22)]\n",
    "\n",
    "columns = [\"name\",\"age\"]\n",
    "\n",
    "data_df = spark.createDataFrame(data,columns)\n",
    "\n",
    "data_df.withColumn(\"r_no\",row_number().over(Window.partitionBy(\"name\").orderBy(\"age\"))).filter(col(\"r_no\")==1).display()"
   ]
  },
  {
   "cell_type": "markdown",
   "metadata": {
    "application/vnd.databricks.v1+cell": {
     "cellMetadata": {},
     "inputWidgets": {},
     "nuid": "ab697120-0887-47c8-abc0-5b19b002d547",
     "showTitle": false,
     "tableResultSettingsMap": {},
     "title": ""
    }
   },
   "source": [
    "**Q10. You are working with user activity data and need to average session duration per user. How would you implement this?**"
   ]
  },
  {
   "cell_type": "code",
   "execution_count": 0,
   "metadata": {
    "application/vnd.databricks.v1+cell": {
     "cellMetadata": {
      "byteLimit": 2048000,
      "rowLimit": 10000
     },
     "inputWidgets": {},
     "nuid": "6b0a60cb-4833-4b22-8bb4-e74d145f6705",
     "showTitle": false,
     "tableResultSettingsMap": {},
     "title": ""
    }
   },
   "outputs": [
    {
     "output_type": "display_data",
     "data": {
      "text/html": [
       "<style scoped>\n",
       "  .table-result-container {\n",
       "    max-height: 300px;\n",
       "    overflow: auto;\n",
       "  }\n",
       "  table, th, td {\n",
       "    border: 1px solid black;\n",
       "    border-collapse: collapse;\n",
       "  }\n",
       "  th, td {\n",
       "    padding: 5px;\n",
       "  }\n",
       "  th {\n",
       "    text-align: left;\n",
       "  }\n",
       "</style><div class='table-result-container'><table class='table-result'><thead style='background-color: white'><tr><th>user_id</th><th>Avg_duration</th></tr></thead><tbody><tr><td>user1</td><td>55.0</td></tr><tr><td>user2</td><td>60.0</td></tr></tbody></table></div>"
      ]
     },
     "metadata": {
      "application/vnd.databricks.v1+output": {
       "addedWidgets": {},
       "aggData": [],
       "aggError": "",
       "aggOverflow": false,
       "aggSchema": [],
       "aggSeriesLimitReached": false,
       "aggType": "",
       "arguments": {},
       "columnCustomDisplayInfos": {},
       "data": [
        [
         "user1",
         55.0
        ],
        [
         "user2",
         60.0
        ]
       ],
       "datasetInfos": [],
       "dbfsResultPath": null,
       "isJsonSchema": true,
       "metadata": {},
       "overflow": false,
       "plotOptions": {
        "customPlotOptions": {},
        "displayType": "table",
        "pivotAggregation": null,
        "pivotColumns": null,
        "xColumns": null,
        "yColumns": null
       },
       "removedWidgets": [],
       "schema": [
        {
         "metadata": "{}",
         "name": "user_id",
         "type": "\"string\""
        },
        {
         "metadata": "{}",
         "name": "Avg_duration",
         "type": "\"double\""
        }
       ],
       "type": "table"
      }
     },
     "output_type": "display_data"
    }
   ],
   "source": [
    "data = [(\"user1\",\"2023-12-01\",50),(\"user1\",\"2023-12-02\",60),\n",
    "        (\"user2\",\"2023-12-01\",45),(\"user2\",\"2023-12-03\",75)]\n",
    "\n",
    "columns = [\"user_id\",\"session_date\",\"duration\"]\n",
    "\n",
    "df = spark.createDataFrame(data,columns)\n",
    "\n",
    "df.groupBy(\"user_id\").agg(avg(\"duration\").alias(\"Avg_duration\")).display()"
   ]
  },
  {
   "cell_type": "markdown",
   "metadata": {
    "application/vnd.databricks.v1+cell": {
     "cellMetadata": {},
     "inputWidgets": {},
     "nuid": "452ac3e2-aae1-49e2-b149-40c647f2a298",
     "showTitle": false,
     "tableResultSettingsMap": {},
     "title": ""
    }
   },
   "source": [
    "**Q11. While analysing sales data, you need to find out the product with the highest sales for each month. How would you approach to this task?**"
   ]
  },
  {
   "cell_type": "code",
   "execution_count": 0,
   "metadata": {
    "application/vnd.databricks.v1+cell": {
     "cellMetadata": {
      "byteLimit": 2048000,
      "rowLimit": 10000
     },
     "inputWidgets": {},
     "nuid": "c2626422-5fd4-4482-91f4-1c706c669238",
     "showTitle": false,
     "tableResultSettingsMap": {},
     "title": ""
    }
   },
   "outputs": [
    {
     "output_type": "display_data",
     "data": {
      "text/html": [
       "<style scoped>\n",
       "  .table-result-container {\n",
       "    max-height: 300px;\n",
       "    overflow: auto;\n",
       "  }\n",
       "  table, th, td {\n",
       "    border: 1px solid black;\n",
       "    border-collapse: collapse;\n",
       "  }\n",
       "  th, td {\n",
       "    padding: 5px;\n",
       "  }\n",
       "  th {\n",
       "    text-align: left;\n",
       "  }\n",
       "</style><div class='table-result-container'><table class='table-result'><thead style='background-color: white'><tr><th>product_id</th><th>month</th><th>Total_monthly_sales</th></tr></thead><tbody><tr><td>product2</td><td>12</td><td>400</td></tr></tbody></table></div>"
      ]
     },
     "metadata": {
      "application/vnd.databricks.v1+output": {
       "addedWidgets": {},
       "aggData": [],
       "aggError": "",
       "aggOverflow": false,
       "aggSchema": [],
       "aggSeriesLimitReached": false,
       "aggType": "",
       "arguments": {},
       "columnCustomDisplayInfos": {},
       "data": [
        [
         "product2",
         12,
         400
        ]
       ],
       "datasetInfos": [],
       "dbfsResultPath": null,
       "isJsonSchema": true,
       "metadata": {},
       "overflow": false,
       "plotOptions": {
        "customPlotOptions": {},
        "displayType": "table",
        "pivotAggregation": null,
        "pivotColumns": null,
        "xColumns": null,
        "yColumns": null
       },
       "removedWidgets": [],
       "schema": [
        {
         "metadata": "{}",
         "name": "product_id",
         "type": "\"string\""
        },
        {
         "metadata": "{}",
         "name": "month",
         "type": "\"integer\""
        },
        {
         "metadata": "{}",
         "name": "Total_monthly_sales",
         "type": "\"long\""
        }
       ],
       "type": "table"
      }
     },
     "output_type": "display_data"
    }
   ],
   "source": [
    "data = [(\"product1\",\"2023-12-01\",100),(\"product2\",\"2023-12-01\",150),\n",
    "        (\"product1\",\"2023-12-02\",200),(\"product2\",\"2023-12-02\",250)]\n",
    "\n",
    "columns = [\"product_id\",\"date\",\"sales\"]\n",
    "\n",
    "prd_sales_df = spark.createDataFrame(data,columns)\n",
    "\n",
    "prd_sales_df.withColumn(\"date\",to_date(col(\"date\"))) \\\n",
    "                            .withColumn(\"month\",month(col(\"date\"))) \\\n",
    "                            .groupBy(\"month\",\"product_id\").agg(sum(\"sales\").alias(\"Total_monthly_sales\")) \\\n",
    "                            .withColumn(\"rank_sales\",dense_rank().over(Window.partitionBy(\"month\").orderBy(desc(\"Total_monthly_sales\")))) \\\n",
    "                            .filter(col(\"rank_sales\") == 1) \\\n",
    "                            .select(\"product_id\",\"month\",\"Total_monthly_sales\") \\\n",
    "                            .display()"
   ]
  },
  {
   "cell_type": "markdown",
   "metadata": {
    "application/vnd.databricks.v1+cell": {
     "cellMetadata": {},
     "inputWidgets": {},
     "nuid": "01485c74-6abe-4d11-aaa9-f9358131249e",
     "showTitle": false,
     "tableResultSettingsMap": {},
     "title": ""
    }
   },
   "source": [
    "**Q12: You are working with a large delta table that is frequently updated by multiple users. The data is stored in partitions, and sometimes updates can cause inconsistent read due to concurrent transactions. How would you ensure ACID compliance and avoid data corruption in pyspark?**"
   ]
  },
  {
   "cell_type": "markdown",
   "metadata": {
    "application/vnd.databricks.v1+cell": {
     "cellMetadata": {},
     "inputWidgets": {},
     "nuid": "2d492d7a-3473-4c60-85c6-6c4b619e8b82",
     "showTitle": false,
     "tableResultSettingsMap": {},
     "title": ""
    }
   },
   "source": [
    "ENSURE ACID: During Delta table creation it'll auto create delta log, which takes care for ACID compliance.\n",
    "\n",
    "HANDLE DATA CORRUPTION -- Using SCD-1 or merge or upsert"
   ]
  },
  {
   "cell_type": "markdown",
   "metadata": {
    "application/vnd.databricks.v1+cell": {
     "cellMetadata": {},
     "inputWidgets": {},
     "nuid": "e2a50a61-a001-42a8-9a5c-bbaa83bfd6ff",
     "showTitle": false,
     "tableResultSettingsMap": {},
     "title": ""
    }
   },
   "source": [
    "USING FILE PATH DELTA TABLE"
   ]
  },
  {
   "cell_type": "code",
   "execution_count": 0,
   "metadata": {
    "application/vnd.databricks.v1+cell": {
     "cellMetadata": {
      "byteLimit": 2048000,
      "rowLimit": 10000
     },
     "inputWidgets": {},
     "nuid": "1ad49c00-bf6b-41b4-808a-6525f6e562e8",
     "showTitle": false,
     "tableResultSettingsMap": {},
     "title": ""
    }
   },
   "outputs": [
    {
     "output_type": "display_data",
     "data": {
      "text/html": [
       "<style scoped>\n",
       "  .table-result-container {\n",
       "    max-height: 300px;\n",
       "    overflow: auto;\n",
       "  }\n",
       "  table, th, td {\n",
       "    border: 1px solid black;\n",
       "    border-collapse: collapse;\n",
       "  }\n",
       "  th, td {\n",
       "    padding: 5px;\n",
       "  }\n",
       "  th {\n",
       "    text-align: left;\n",
       "  }\n",
       "</style><div class='table-result-container'><table class='table-result'><thead style='background-color: white'><tr><th>user</th><th>sales</th></tr></thead><tbody><tr><td>user1</td><td>100</td></tr><tr><td>user3</td><td>500</td></tr><tr><td>user2</td><td>400</td></tr></tbody></table></div>"
      ]
     },
     "metadata": {
      "application/vnd.databricks.v1+output": {
       "addedWidgets": {},
       "aggData": [],
       "aggError": "",
       "aggOverflow": false,
       "aggSchema": [],
       "aggSeriesLimitReached": false,
       "aggType": "",
       "arguments": {},
       "columnCustomDisplayInfos": {},
       "data": [
        [
         "user1",
         100
        ],
        [
         "user3",
         500
        ],
        [
         "user2",
         400
        ]
       ],
       "datasetInfos": [],
       "dbfsResultPath": null,
       "isJsonSchema": true,
       "metadata": {},
       "overflow": false,
       "plotOptions": {
        "customPlotOptions": {},
        "displayType": "table",
        "pivotAggregation": null,
        "pivotColumns": null,
        "xColumns": null,
        "yColumns": null
       },
       "removedWidgets": [],
       "schema": [
        {
         "metadata": "{}",
         "name": "user",
         "type": "\"string\""
        },
        {
         "metadata": "{}",
         "name": "sales",
         "type": "\"long\""
        }
       ],
       "type": "table"
      }
     },
     "output_type": "display_data"
    }
   ],
   "source": [
    "old_data = [(\"user1\",100),(\"user2\",200)]\n",
    "\n",
    "# create a dataframe\n",
    "old_df = spark.createDataFrame(old_data, [\"user\",\"sales\"])\n",
    "\n",
    "# create a delta table -- first Time\n",
    "## old_df.write.format(\"delta\").save(\"/FileStore/delta/Users\")\n",
    "\n",
    "# new data\n",
    "new_data = [(\"user3\",500),(\"user2\",400)]\n",
    "\n",
    "new_df = spark.createDataFrame(new_data, [\"user\",\"sales\"])\n",
    "\n",
    "from delta.tables import DeltaTable\n",
    "\n",
    "# create a object of delta table to do advanced operation on the table\n",
    "delta_tbl = DeltaTable.forPath(spark, \"/FileStore/delta/Users\")\n",
    "\n",
    "# Perform upsert/merge on top of delta_table to avoid data corruption\n",
    "delta_tbl.alias(\"target\").merge(new_df.alias(\"source\"), \"target.user = source.user\") \\\n",
    "                        .whenMatchedUpdate(set = {\"sales\": \"source.sales\"}) \\\n",
    "                        .whenNotMatchedInsert(values = {\"user\":\"source.user\",\n",
    "                                                        \"sales\":\"source.sales\"}) \\\n",
    "                        .execute()\n",
    "\n",
    "# Read delta table data\n",
    "result_df = spark.read.format(\"delta\").load(\"/FileStore/delta/Users\")\n",
    "\n",
    "result_df.display()"
   ]
  },
  {
   "cell_type": "markdown",
   "metadata": {
    "application/vnd.databricks.v1+cell": {
     "cellMetadata": {},
     "inputWidgets": {},
     "nuid": "1147e7b1-3727-43e9-a0ee-ff42ca0be23e",
     "showTitle": false,
     "tableResultSettingsMap": {},
     "title": ""
    }
   },
   "source": [
    "USING MANAGED DELTA TABLE WHICH STORED IN METASTORE AND CAN SEE OUTPUT USING SQL QUERY"
   ]
  },
  {
   "cell_type": "code",
   "execution_count": 0,
   "metadata": {
    "application/vnd.databricks.v1+cell": {
     "cellMetadata": {
      "byteLimit": 2048000,
      "rowLimit": 10000
     },
     "inputWidgets": {},
     "nuid": "08b74dca-6cca-42e7-b158-01e8e3ef2ed5",
     "showTitle": false,
     "tableResultSettingsMap": {},
     "title": ""
    }
   },
   "outputs": [],
   "source": [
    "old_data = [(\"cust1\",\"2023-12-01\",100),(\"cust2\",\"2023-11-05\",200)]\n",
    "\n",
    "# create a dataframe\n",
    "old_df = spark.createDataFrame(old_data, [\"cust_id\",\"sales_date\",\"sales\"])\n",
    "\n",
    "# create a delta table -- first Time\n",
    "## old_df.write.format(\"delta\").saveAsTable(\"customer_table\")\n",
    "\n",
    "new_data = [(\"cust1\",\"2023-12-05\",590),(\"cust3\",\"2024-11-10\",4000)]\n",
    "\n",
    "# create a dataframe\n",
    "new_df = spark.createDataFrame(new_data, [\"cust_id\",\"sales_date\",\"sales\"])\n",
    "\n",
    "from delta.tables import DeltaTable\n",
    "\n",
    "delta_tbl = DeltaTable.forName(spark, \"customer_table\")\n",
    "\n",
    "delta_tbl.alias(\"Target\") \\\n",
    "        .merge(new_df.alias(\"Source\"), \"Source.cust_id == Target.cust_id\") \\\n",
    "        .whenMatchedUpdate(\n",
    "            set = {\n",
    "                \"sales_date\" : \"Source.sales_date\",\n",
    "                \"sales\" : \"Source.sales\"\n",
    "            }\n",
    "        ) \\\n",
    "        .whenNotMatchedInsert(\n",
    "            values = {\n",
    "                \"cust_id\" : \"Source.cust_id\",\n",
    "                \"sales_date\" : \"Source.sales_date\",\n",
    "                \"sales\" : \"Source.sales\"\n",
    "            }\n",
    "        ) \\\n",
    "        .execute()"
   ]
  },
  {
   "cell_type": "markdown",
   "metadata": {
    "application/vnd.databricks.v1+cell": {
     "cellMetadata": {
      "byteLimit": 2048000,
      "rowLimit": 10000
     },
     "inputWidgets": {},
     "nuid": "73ba5094-3c92-49a3-880e-193dbddbaadf",
     "showTitle": false,
     "tableResultSettingsMap": {},
     "title": ""
    }
   },
   "source": [
    "**Q13: You need to process large dataset stored in parquet format and ensure that all columns have the right schema(Almost).How would you do this?**"
   ]
  },
  {
   "cell_type": "code",
   "execution_count": 0,
   "metadata": {
    "application/vnd.databricks.v1+cell": {
     "cellMetadata": {
      "byteLimit": 2048000,
      "rowLimit": 10000
     },
     "inputWidgets": {},
     "nuid": "7cafff8b-092e-4bed-8936-3e113254881a",
     "showTitle": false,
     "tableResultSettingsMap": {},
     "title": ""
    }
   },
   "outputs": [
    {
     "output_type": "display_data",
     "data": {
      "text/html": [
       "<style scoped>\n",
       "  .table-result-container {\n",
       "    max-height: 300px;\n",
       "    overflow: auto;\n",
       "  }\n",
       "  table, th, td {\n",
       "    border: 1px solid black;\n",
       "    border-collapse: collapse;\n",
       "  }\n",
       "  th, td {\n",
       "    padding: 5px;\n",
       "  }\n",
       "  th {\n",
       "    text-align: left;\n",
       "  }\n",
       "</style><div class='table-result-container'><table class='table-result'><thead style='background-color: white'><tr><th>DEST_COUNTRY_NAME</th><th>ORIGIN_COUNTRY_NAME</th><th>count</th></tr></thead><tbody><tr><td>United States</td><td>Romania</td><td>1</td></tr><tr><td>United States</td><td>Ireland</td><td>264</td></tr><tr><td>United States</td><td>India</td><td>69</td></tr><tr><td>Egypt</td><td>United States</td><td>24</td></tr><tr><td>Equatorial Guinea</td><td>United States</td><td>1</td></tr><tr><td>United States</td><td>Singapore</td><td>25</td></tr><tr><td>United States</td><td>Grenada</td><td>54</td></tr><tr><td>Costa Rica</td><td>United States</td><td>477</td></tr><tr><td>Senegal</td><td>United States</td><td>29</td></tr><tr><td>United States</td><td>Marshall Islands</td><td>44</td></tr><tr><td>Guyana</td><td>United States</td><td>17</td></tr><tr><td>United States</td><td>Sint Maarten</td><td>53</td></tr><tr><td>Malta</td><td>United States</td><td>1</td></tr><tr><td>Bolivia</td><td>United States</td><td>46</td></tr><tr><td>Anguilla</td><td>United States</td><td>21</td></tr><tr><td>Turks and Caicos Islands</td><td>United States</td><td>136</td></tr><tr><td>United States</td><td>Afghanistan</td><td>2</td></tr><tr><td>Saint Vincent and the Grenadines</td><td>United States</td><td>1</td></tr><tr><td>Italy</td><td>United States</td><td>390</td></tr><tr><td>United States</td><td>Russia</td><td>156</td></tr><tr><td>United States</td><td>Federated States of Micronesia</td><td>48</td></tr><tr><td>Pakistan</td><td>United States</td><td>9</td></tr><tr><td>United States</td><td>Netherlands</td><td>570</td></tr><tr><td>Iceland</td><td>United States</td><td>118</td></tr><tr><td>Marshall Islands</td><td>United States</td><td>77</td></tr><tr><td>Luxembourg</td><td>United States</td><td>91</td></tr><tr><td>Honduras</td><td>United States</td><td>391</td></tr><tr><td>The Bahamas</td><td>United States</td><td>903</td></tr><tr><td>El Salvador</td><td>United States</td><td>519</td></tr><tr><td>United States</td><td>Senegal</td><td>46</td></tr><tr><td>Samoa</td><td>United States</td><td>28</td></tr><tr><td>United States</td><td>Angola</td><td>18</td></tr><tr><td>Kazakhstan</td><td>United States</td><td>3</td></tr><tr><td>Switzerland</td><td>United States</td><td>315</td></tr><tr><td>United States</td><td>Anguilla</td><td>20</td></tr><tr><td>Sint Maarten</td><td>United States</td><td>61</td></tr><tr><td>Hong Kong</td><td>United States</td><td>252</td></tr><tr><td>Trinidad and Tobago</td><td>United States</td><td>187</td></tr><tr><td>Latvia</td><td>United States</td><td>12</td></tr><tr><td>United States</td><td>Ecuador</td><td>345</td></tr><tr><td>Slovakia</td><td>United States</td><td>1</td></tr><tr><td>Suriname</td><td>United States</td><td>12</td></tr><tr><td>Mexico</td><td>United States</td><td>6200</td></tr><tr><td>United States</td><td>Cyprus</td><td>1</td></tr><tr><td>Ecuador</td><td>United States</td><td>272</td></tr><tr><td>United States</td><td>Bosnia and Herzegovina</td><td>1</td></tr><tr><td>United States</td><td>Portugal</td><td>104</td></tr><tr><td>United States</td><td>Costa Rica</td><td>501</td></tr><tr><td>United States</td><td>Guatemala</td><td>333</td></tr><tr><td>United States</td><td>Suriname</td><td>13</td></tr><tr><td>Colombia</td><td>United States</td><td>785</td></tr><tr><td>United States</td><td>Cape Verde</td><td>18</td></tr><tr><td>United States</td><td>Jamaica</td><td>757</td></tr><tr><td>United States</td><td>Malaysia</td><td>3</td></tr><tr><td>Norway</td><td>United States</td><td>29</td></tr><tr><td>United States</td><td>Morocco</td><td>16</td></tr><tr><td>Thailand</td><td>United States</td><td>16</td></tr><tr><td>Venezuela</td><td>United States</td><td>377</td></tr><tr><td>United States</td><td>Palau</td><td>30</td></tr><tr><td>United States</td><td>Samoa</td><td>28</td></tr><tr><td>United States</td><td>Algeria</td><td>1</td></tr><tr><td>United States</td><td>Venezuela</td><td>341</td></tr><tr><td>Panama</td><td>United States</td><td>355</td></tr><tr><td>United States</td><td>Finland</td><td>20</td></tr><tr><td>United States</td><td>Chile</td><td>176</td></tr><tr><td>Morocco</td><td>United States</td><td>16</td></tr><tr><td>United States</td><td>Greece</td><td>61</td></tr><tr><td>Antigua and Barbuda</td><td>United States</td><td>123</td></tr><tr><td>Azerbaijan</td><td>United States</td><td>1</td></tr><tr><td>United States</td><td>The Bahamas</td><td>959</td></tr><tr><td>New Zealand</td><td>United States</td><td>86</td></tr><tr><td>Liberia</td><td>United States</td><td>1</td></tr><tr><td>United States</td><td>Hong Kong</td><td>293</td></tr><tr><td>Hungary</td><td>United States</td><td>14</td></tr><tr><td>United States</td><td>China</td><td>505</td></tr><tr><td>United States</td><td>Vietnam</td><td>1</td></tr><tr><td>Sweden</td><td>United States</td><td>65</td></tr><tr><td>United States</td><td>Kuwait</td><td>25</td></tr><tr><td>United States</td><td>Dominican Republic</td><td>1150</td></tr><tr><td>United States</td><td>Egypt</td><td>25</td></tr><tr><td>Israel</td><td>United States</td><td>117</td></tr><tr><td>United States</td><td>United States</td><td>348113</td></tr><tr><td>United States</td><td>Luxembourg</td><td>90</td></tr><tr><td>Ethiopia</td><td>United States</td><td>12</td></tr><tr><td>United States</td><td>Poland</td><td>61</td></tr><tr><td>Martinique</td><td>United States</td><td>23</td></tr><tr><td>Saint Barthelemy</td><td>United States</td><td>28</td></tr><tr><td>United States</td><td>Saint Barthelemy</td><td>29</td></tr><tr><td>United States</td><td>Turkey</td><td>87</td></tr><tr><td>Barbados</td><td>United States</td><td>130</td></tr><tr><td>United States</td><td>Estonia</td><td>1</td></tr><tr><td>United States</td><td>Azerbaijan</td><td>1</td></tr><tr><td>Germany</td><td>United States</td><td>1392</td></tr><tr><td>Kyrgyzstan</td><td>United States</td><td>2</td></tr><tr><td>United States</td><td>South Korea</td><td>621</td></tr><tr><td>United States</td><td>El Salvador</td><td>464</td></tr><tr><td>Ireland</td><td>United States</td><td>231</td></tr><tr><td>United States</td><td>Hungary</td><td>15</td></tr><tr><td>United States</td><td>Serbia</td><td>1</td></tr><tr><td>Malaysia</td><td>United States</td><td>1</td></tr><tr><td>United States</td><td>Panama</td><td>363</td></tr><tr><td>United States</td><td>Ethiopia</td><td>12</td></tr><tr><td>United States</td><td>Aruba</td><td>349</td></tr><tr><td>United States</td><td>Thailand</td><td>13</td></tr><tr><td>United States</td><td>Netherlands Antilles</td><td>289</td></tr><tr><td>United States</td><td>Turks and Caicos Islands</td><td>147</td></tr><tr><td>Cyprus</td><td>United States</td><td>2</td></tr><tr><td>United States</td><td>Pakistan</td><td>15</td></tr><tr><td>United States</td><td>Honduras</td><td>393</td></tr><tr><td>Qatar</td><td>United States</td><td>41</td></tr><tr><td>Fiji</td><td>United States</td><td>53</td></tr><tr><td>Saint Kitts and Nevis</td><td>United States</td><td>113</td></tr><tr><td>Taiwan</td><td>United States</td><td>275</td></tr><tr><td>Haiti</td><td>United States</td><td>238</td></tr><tr><td>Kuwait</td><td>United States</td><td>26</td></tr><tr><td>Canada</td><td>United States</td><td>8271</td></tr><tr><td>Federated States of Micronesia</td><td>United States</td><td>46</td></tr><tr><td>United States</td><td>Liberia</td><td>1</td></tr><tr><td>Jamaica</td><td>United States</td><td>733</td></tr><tr><td>United States</td><td>Malta</td><td>2</td></tr><tr><td>Dominican Republic</td><td>United States</td><td>1109</td></tr><tr><td>Japan</td><td>United States</td><td>1383</td></tr><tr><td>United States</td><td>Saint Vincent and the Grenadines</td><td>16</td></tr><tr><td>United States</td><td>Guadeloupe</td><td>33</td></tr><tr><td>Finland</td><td>United States</td><td>24</td></tr><tr><td>United States</td><td>Ukraine</td><td>17</td></tr><tr><td>United States</td><td>France</td><td>776</td></tr><tr><td>United States</td><td>Norway</td><td>36</td></tr><tr><td>Aruba</td><td>United States</td><td>359</td></tr><tr><td>French Guiana</td><td>United States</td><td>4</td></tr><tr><td>United States</td><td>Kiribati</td><td>18</td></tr><tr><td>India</td><td>United States</td><td>66</td></tr><tr><td>British Virgin Islands</td><td>United States</td><td>49</td></tr><tr><td>United States</td><td>Germany</td><td>1406</td></tr><tr><td>Brazil</td><td>United States</td><td>995</td></tr><tr><td>United States</td><td>New Zealand</td><td>71</td></tr><tr><td>French Polynesia</td><td>United States</td><td>38</td></tr><tr><td>United Arab Emirates</td><td>United States</td><td>165</td></tr><tr><td>Singapore</td><td>United States</td><td>25</td></tr><tr><td>United States</td><td>Mexico</td><td>6220</td></tr><tr><td>Netherlands</td><td>United States</td><td>586</td></tr><tr><td>United States</td><td>Sweden</td><td>73</td></tr><tr><td>United States</td><td>Gabon</td><td>1</td></tr><tr><td>United States</td><td>Martinique</td><td>20</td></tr><tr><td>United States</td><td>United Arab Emirates</td><td>156</td></tr><tr><td>United States</td><td>Bulgaria</td><td>2</td></tr><tr><td>China</td><td>United States</td><td>448</td></tr><tr><td>Denmark</td><td>United States</td><td>98</td></tr><tr><td>United States</td><td>Philippines</td><td>116</td></tr><tr><td>United States</td><td>Nicaragua</td><td>181</td></tr><tr><td>United States</td><td>Belgium</td><td>355</td></tr><tr><td>Peru</td><td>United States</td><td>212</td></tr><tr><td>Argentina</td><td>United States</td><td>184</td></tr><tr><td>Cayman Islands</td><td>United States</td><td>247</td></tr><tr><td>South Africa</td><td>United States</td><td>25</td></tr><tr><td>United States</td><td>Iceland</td><td>129</td></tr><tr><td>United States</td><td>Argentina</td><td>159</td></tr><tr><td>Spain</td><td>United States</td><td>422</td></tr><tr><td>Netherlands Antilles</td><td>United States</td><td>286</td></tr><tr><td>Bermuda</td><td>United States</td><td>183</td></tr><tr><td>United States</td><td>Austria</td><td>34</td></tr><tr><td>United States</td><td>Nigeria</td><td>18</td></tr><tr><td>United States</td><td>Bonaire, Sint Eustatius, and Saba</td><td>16</td></tr><tr><td>Kiribati</td><td>United States</td><td>17</td></tr><tr><td>Saudi Arabia</td><td>United States</td><td>42</td></tr><tr><td>Czech Republic</td><td>United States</td><td>21</td></tr><tr><td>Belgium</td><td>United States</td><td>408</td></tr><tr><td>United States</td><td>Israel</td><td>122</td></tr><tr><td>United States</td><td>Bahrain</td><td>1</td></tr><tr><td>United States</td><td>Saint Lucia</td><td>121</td></tr><tr><td>Afghanistan</td><td>United States</td><td>11</td></tr><tr><td>United States</td><td>British Virgin Islands</td><td>47</td></tr><tr><td>Curacao</td><td>United States</td><td>20</td></tr><tr><td>Georgia</td><td>United States</td><td>2</td></tr><tr><td>United States</td><td>Guyana</td><td>20</td></tr><tr><td>United States</td><td>Denmark</td><td>107</td></tr><tr><td>Philippines</td><td>United States</td><td>132</td></tr><tr><td>Grenada</td><td>United States</td><td>65</td></tr><tr><td>Cape Verde</td><td>United States</td><td>18</td></tr><tr><td>Ukraine</td><td>United States</td><td>19</td></tr><tr><td>United States</td><td>Papua New Guinea</td><td>1</td></tr><tr><td>United States</td><td>Saudi Arabia</td><td>54</td></tr><tr><td>Russia</td><td>United States</td><td>152</td></tr><tr><td>Guatemala</td><td>United States</td><td>386</td></tr><tr><td>Saint Lucia</td><td>United States</td><td>116</td></tr><tr><td>Paraguay</td><td>United States</td><td>90</td></tr><tr><td>United States</td><td>Curacao</td><td>14</td></tr><tr><td>United States</td><td>Taiwan</td><td>252</td></tr><tr><td>United States</td><td>South Africa</td><td>15</td></tr><tr><td>Turkey</td><td>United States</td><td>75</td></tr><tr><td>United Kingdom</td><td>United States</td><td>1629</td></tr><tr><td>United States</td><td>Greenland</td><td>2</td></tr><tr><td>United States</td><td>Spain</td><td>442</td></tr><tr><td>Cuba</td><td>United States</td><td>243</td></tr><tr><td>United States</td><td>Italy</td><td>433</td></tr><tr><td>United States</td><td>Switzerland</td><td>334</td></tr><tr><td>Dominica</td><td>United States</td><td>28</td></tr><tr><td>United States</td><td>Japan</td><td>1307</td></tr><tr><td>Portugal</td><td>United States</td><td>102</td></tr><tr><td>United States</td><td>Brazil</td><td>578</td></tr><tr><td>Bahrain</td><td>United States</td><td>30</td></tr><tr><td>United States</td><td>Peru</td><td>284</td></tr><tr><td>Vietnam</td><td>United States</td><td>1</td></tr><tr><td>United States</td><td>United Kingdom</td><td>1503</td></tr><tr><td>United States</td><td>Belize</td><td>118</td></tr><tr><td>Belize</td><td>United States</td><td>121</td></tr><tr><td>United States</td><td>Ghana</td><td>28</td></tr><tr><td>United States</td><td>Indonesia</td><td>1</td></tr><tr><td>United States</td><td>Fiji</td><td>51</td></tr><tr><td>United States</td><td>Canada</td><td>8305</td></tr><tr><td>United States</td><td>French Polynesia</td><td>38</td></tr><tr><td>United States</td><td>Antigua and Barbuda</td><td>121</td></tr><tr><td>United States</td><td>Burkina Faso</td><td>1</td></tr><tr><td>Nicaragua</td><td>United States</td><td>178</td></tr><tr><td>United States</td><td>Latvia</td><td>13</td></tr><tr><td>United States</td><td>Dominica</td><td>32</td></tr><tr><td>United States</td><td>Czech Republic</td><td>22</td></tr><tr><td>United States</td><td>Australia</td><td>216</td></tr><tr><td>Austria</td><td>United States</td><td>36</td></tr><tr><td>United States</td><td>Cook Islands</td><td>12</td></tr><tr><td>Jordan</td><td>United States</td><td>50</td></tr><tr><td>Palau</td><td>United States</td><td>31</td></tr><tr><td>Uganda</td><td>United States</td><td>2</td></tr><tr><td>United States</td><td>Cameroon</td><td>1</td></tr><tr><td>South Korea</td><td>United States</td><td>683</td></tr><tr><td>Angola</td><td>United States</td><td>14</td></tr><tr><td>Ghana</td><td>United States</td><td>27</td></tr><tr><td>Guadeloupe</td><td>United States</td><td>40</td></tr><tr><td>France</td><td>United States</td><td>774</td></tr><tr><td>United States</td><td>Kyrgyzstan</td><td>12</td></tr><tr><td>Poland</td><td>United States</td><td>62</td></tr><tr><td>Nigeria</td><td>United States</td><td>16</td></tr><tr><td>United States</td><td>Uruguay</td><td>24</td></tr><tr><td>Greenland</td><td>United States</td><td>2</td></tr><tr><td>Chile</td><td>United States</td><td>166</td></tr><tr><td>United States</td><td>Bermuda</td><td>180</td></tr><tr><td>United States</td><td>Cuba</td><td>235</td></tr><tr><td>United States</td><td>Colombia</td><td>832</td></tr><tr><td>United States</td><td>Qatar</td><td>40</td></tr><tr><td>United States</td><td>Barbados</td><td>119</td></tr><tr><td>Australia</td><td>United States</td><td>290</td></tr><tr><td>United States</td><td>Jordan</td><td>51</td></tr><tr><td>United States</td><td>Cayman Islands</td><td>251</td></tr><tr><td>United States</td><td>Trinidad and Tobago</td><td>200</td></tr><tr><td>United States</td><td>Bolivia</td><td>39</td></tr><tr><td>United States</td><td>Slovakia</td><td>1</td></tr><tr><td>Uruguay</td><td>United States</td><td>54</td></tr><tr><td>Cook Islands</td><td>United States</td><td>13</td></tr><tr><td>United States</td><td>Saint Kitts and Nevis</td><td>127</td></tr><tr><td>Bulgaria</td><td>United States</td><td>1</td></tr><tr><td>United States</td><td>French Guiana</td><td>1</td></tr><tr><td>United States</td><td>Haiti</td><td>226</td></tr><tr><td>United States</td><td>Uganda</td><td>1</td></tr><tr><td>Bonaire, Sint Eustatius, and Saba</td><td>United States</td><td>16</td></tr><tr><td>Greece</td><td>United States</td><td>50</td></tr></tbody></table></div>"
      ]
     },
     "metadata": {
      "application/vnd.databricks.v1+output": {
       "addedWidgets": {},
       "aggData": [],
       "aggError": "",
       "aggOverflow": false,
       "aggSchema": [],
       "aggSeriesLimitReached": false,
       "aggType": "",
       "arguments": {},
       "columnCustomDisplayInfos": {},
       "data": [
        [
         "United States",
         "Romania",
         1
        ],
        [
         "United States",
         "Ireland",
         264
        ],
        [
         "United States",
         "India",
         69
        ],
        [
         "Egypt",
         "United States",
         24
        ],
        [
         "Equatorial Guinea",
         "United States",
         1
        ],
        [
         "United States",
         "Singapore",
         25
        ],
        [
         "United States",
         "Grenada",
         54
        ],
        [
         "Costa Rica",
         "United States",
         477
        ],
        [
         "Senegal",
         "United States",
         29
        ],
        [
         "United States",
         "Marshall Islands",
         44
        ],
        [
         "Guyana",
         "United States",
         17
        ],
        [
         "United States",
         "Sint Maarten",
         53
        ],
        [
         "Malta",
         "United States",
         1
        ],
        [
         "Bolivia",
         "United States",
         46
        ],
        [
         "Anguilla",
         "United States",
         21
        ],
        [
         "Turks and Caicos Islands",
         "United States",
         136
        ],
        [
         "United States",
         "Afghanistan",
         2
        ],
        [
         "Saint Vincent and the Grenadines",
         "United States",
         1
        ],
        [
         "Italy",
         "United States",
         390
        ],
        [
         "United States",
         "Russia",
         156
        ],
        [
         "United States",
         "Federated States of Micronesia",
         48
        ],
        [
         "Pakistan",
         "United States",
         9
        ],
        [
         "United States",
         "Netherlands",
         570
        ],
        [
         "Iceland",
         "United States",
         118
        ],
        [
         "Marshall Islands",
         "United States",
         77
        ],
        [
         "Luxembourg",
         "United States",
         91
        ],
        [
         "Honduras",
         "United States",
         391
        ],
        [
         "The Bahamas",
         "United States",
         903
        ],
        [
         "El Salvador",
         "United States",
         519
        ],
        [
         "United States",
         "Senegal",
         46
        ],
        [
         "Samoa",
         "United States",
         28
        ],
        [
         "United States",
         "Angola",
         18
        ],
        [
         "Kazakhstan",
         "United States",
         3
        ],
        [
         "Switzerland",
         "United States",
         315
        ],
        [
         "United States",
         "Anguilla",
         20
        ],
        [
         "Sint Maarten",
         "United States",
         61
        ],
        [
         "Hong Kong",
         "United States",
         252
        ],
        [
         "Trinidad and Tobago",
         "United States",
         187
        ],
        [
         "Latvia",
         "United States",
         12
        ],
        [
         "United States",
         "Ecuador",
         345
        ],
        [
         "Slovakia",
         "United States",
         1
        ],
        [
         "Suriname",
         "United States",
         12
        ],
        [
         "Mexico",
         "United States",
         6200
        ],
        [
         "United States",
         "Cyprus",
         1
        ],
        [
         "Ecuador",
         "United States",
         272
        ],
        [
         "United States",
         "Bosnia and Herzegovina",
         1
        ],
        [
         "United States",
         "Portugal",
         104
        ],
        [
         "United States",
         "Costa Rica",
         501
        ],
        [
         "United States",
         "Guatemala",
         333
        ],
        [
         "United States",
         "Suriname",
         13
        ],
        [
         "Colombia",
         "United States",
         785
        ],
        [
         "United States",
         "Cape Verde",
         18
        ],
        [
         "United States",
         "Jamaica",
         757
        ],
        [
         "United States",
         "Malaysia",
         3
        ],
        [
         "Norway",
         "United States",
         29
        ],
        [
         "United States",
         "Morocco",
         16
        ],
        [
         "Thailand",
         "United States",
         16
        ],
        [
         "Venezuela",
         "United States",
         377
        ],
        [
         "United States",
         "Palau",
         30
        ],
        [
         "United States",
         "Samoa",
         28
        ],
        [
         "United States",
         "Algeria",
         1
        ],
        [
         "United States",
         "Venezuela",
         341
        ],
        [
         "Panama",
         "United States",
         355
        ],
        [
         "United States",
         "Finland",
         20
        ],
        [
         "United States",
         "Chile",
         176
        ],
        [
         "Morocco",
         "United States",
         16
        ],
        [
         "United States",
         "Greece",
         61
        ],
        [
         "Antigua and Barbuda",
         "United States",
         123
        ],
        [
         "Azerbaijan",
         "United States",
         1
        ],
        [
         "United States",
         "The Bahamas",
         959
        ],
        [
         "New Zealand",
         "United States",
         86
        ],
        [
         "Liberia",
         "United States",
         1
        ],
        [
         "United States",
         "Hong Kong",
         293
        ],
        [
         "Hungary",
         "United States",
         14
        ],
        [
         "United States",
         "China",
         505
        ],
        [
         "United States",
         "Vietnam",
         1
        ],
        [
         "Sweden",
         "United States",
         65
        ],
        [
         "United States",
         "Kuwait",
         25
        ],
        [
         "United States",
         "Dominican Republic",
         1150
        ],
        [
         "United States",
         "Egypt",
         25
        ],
        [
         "Israel",
         "United States",
         117
        ],
        [
         "United States",
         "United States",
         348113
        ],
        [
         "United States",
         "Luxembourg",
         90
        ],
        [
         "Ethiopia",
         "United States",
         12
        ],
        [
         "United States",
         "Poland",
         61
        ],
        [
         "Martinique",
         "United States",
         23
        ],
        [
         "Saint Barthelemy",
         "United States",
         28
        ],
        [
         "United States",
         "Saint Barthelemy",
         29
        ],
        [
         "United States",
         "Turkey",
         87
        ],
        [
         "Barbados",
         "United States",
         130
        ],
        [
         "United States",
         "Estonia",
         1
        ],
        [
         "United States",
         "Azerbaijan",
         1
        ],
        [
         "Germany",
         "United States",
         1392
        ],
        [
         "Kyrgyzstan",
         "United States",
         2
        ],
        [
         "United States",
         "South Korea",
         621
        ],
        [
         "United States",
         "El Salvador",
         464
        ],
        [
         "Ireland",
         "United States",
         231
        ],
        [
         "United States",
         "Hungary",
         15
        ],
        [
         "United States",
         "Serbia",
         1
        ],
        [
         "Malaysia",
         "United States",
         1
        ],
        [
         "United States",
         "Panama",
         363
        ],
        [
         "United States",
         "Ethiopia",
         12
        ],
        [
         "United States",
         "Aruba",
         349
        ],
        [
         "United States",
         "Thailand",
         13
        ],
        [
         "United States",
         "Netherlands Antilles",
         289
        ],
        [
         "United States",
         "Turks and Caicos Islands",
         147
        ],
        [
         "Cyprus",
         "United States",
         2
        ],
        [
         "United States",
         "Pakistan",
         15
        ],
        [
         "United States",
         "Honduras",
         393
        ],
        [
         "Qatar",
         "United States",
         41
        ],
        [
         "Fiji",
         "United States",
         53
        ],
        [
         "Saint Kitts and Nevis",
         "United States",
         113
        ],
        [
         "Taiwan",
         "United States",
         275
        ],
        [
         "Haiti",
         "United States",
         238
        ],
        [
         "Kuwait",
         "United States",
         26
        ],
        [
         "Canada",
         "United States",
         8271
        ],
        [
         "Federated States of Micronesia",
         "United States",
         46
        ],
        [
         "United States",
         "Liberia",
         1
        ],
        [
         "Jamaica",
         "United States",
         733
        ],
        [
         "United States",
         "Malta",
         2
        ],
        [
         "Dominican Republic",
         "United States",
         1109
        ],
        [
         "Japan",
         "United States",
         1383
        ],
        [
         "United States",
         "Saint Vincent and the Grenadines",
         16
        ],
        [
         "United States",
         "Guadeloupe",
         33
        ],
        [
         "Finland",
         "United States",
         24
        ],
        [
         "United States",
         "Ukraine",
         17
        ],
        [
         "United States",
         "France",
         776
        ],
        [
         "United States",
         "Norway",
         36
        ],
        [
         "Aruba",
         "United States",
         359
        ],
        [
         "French Guiana",
         "United States",
         4
        ],
        [
         "United States",
         "Kiribati",
         18
        ],
        [
         "India",
         "United States",
         66
        ],
        [
         "British Virgin Islands",
         "United States",
         49
        ],
        [
         "United States",
         "Germany",
         1406
        ],
        [
         "Brazil",
         "United States",
         995
        ],
        [
         "United States",
         "New Zealand",
         71
        ],
        [
         "French Polynesia",
         "United States",
         38
        ],
        [
         "United Arab Emirates",
         "United States",
         165
        ],
        [
         "Singapore",
         "United States",
         25
        ],
        [
         "United States",
         "Mexico",
         6220
        ],
        [
         "Netherlands",
         "United States",
         586
        ],
        [
         "United States",
         "Sweden",
         73
        ],
        [
         "United States",
         "Gabon",
         1
        ],
        [
         "United States",
         "Martinique",
         20
        ],
        [
         "United States",
         "United Arab Emirates",
         156
        ],
        [
         "United States",
         "Bulgaria",
         2
        ],
        [
         "China",
         "United States",
         448
        ],
        [
         "Denmark",
         "United States",
         98
        ],
        [
         "United States",
         "Philippines",
         116
        ],
        [
         "United States",
         "Nicaragua",
         181
        ],
        [
         "United States",
         "Belgium",
         355
        ],
        [
         "Peru",
         "United States",
         212
        ],
        [
         "Argentina",
         "United States",
         184
        ],
        [
         "Cayman Islands",
         "United States",
         247
        ],
        [
         "South Africa",
         "United States",
         25
        ],
        [
         "United States",
         "Iceland",
         129
        ],
        [
         "United States",
         "Argentina",
         159
        ],
        [
         "Spain",
         "United States",
         422
        ],
        [
         "Netherlands Antilles",
         "United States",
         286
        ],
        [
         "Bermuda",
         "United States",
         183
        ],
        [
         "United States",
         "Austria",
         34
        ],
        [
         "United States",
         "Nigeria",
         18
        ],
        [
         "United States",
         "Bonaire, Sint Eustatius, and Saba",
         16
        ],
        [
         "Kiribati",
         "United States",
         17
        ],
        [
         "Saudi Arabia",
         "United States",
         42
        ],
        [
         "Czech Republic",
         "United States",
         21
        ],
        [
         "Belgium",
         "United States",
         408
        ],
        [
         "United States",
         "Israel",
         122
        ],
        [
         "United States",
         "Bahrain",
         1
        ],
        [
         "United States",
         "Saint Lucia",
         121
        ],
        [
         "Afghanistan",
         "United States",
         11
        ],
        [
         "United States",
         "British Virgin Islands",
         47
        ],
        [
         "Curacao",
         "United States",
         20
        ],
        [
         "Georgia",
         "United States",
         2
        ],
        [
         "United States",
         "Guyana",
         20
        ],
        [
         "United States",
         "Denmark",
         107
        ],
        [
         "Philippines",
         "United States",
         132
        ],
        [
         "Grenada",
         "United States",
         65
        ],
        [
         "Cape Verde",
         "United States",
         18
        ],
        [
         "Ukraine",
         "United States",
         19
        ],
        [
         "United States",
         "Papua New Guinea",
         1
        ],
        [
         "United States",
         "Saudi Arabia",
         54
        ],
        [
         "Russia",
         "United States",
         152
        ],
        [
         "Guatemala",
         "United States",
         386
        ],
        [
         "Saint Lucia",
         "United States",
         116
        ],
        [
         "Paraguay",
         "United States",
         90
        ],
        [
         "United States",
         "Curacao",
         14
        ],
        [
         "United States",
         "Taiwan",
         252
        ],
        [
         "United States",
         "South Africa",
         15
        ],
        [
         "Turkey",
         "United States",
         75
        ],
        [
         "United Kingdom",
         "United States",
         1629
        ],
        [
         "United States",
         "Greenland",
         2
        ],
        [
         "United States",
         "Spain",
         442
        ],
        [
         "Cuba",
         "United States",
         243
        ],
        [
         "United States",
         "Italy",
         433
        ],
        [
         "United States",
         "Switzerland",
         334
        ],
        [
         "Dominica",
         "United States",
         28
        ],
        [
         "United States",
         "Japan",
         1307
        ],
        [
         "Portugal",
         "United States",
         102
        ],
        [
         "United States",
         "Brazil",
         578
        ],
        [
         "Bahrain",
         "United States",
         30
        ],
        [
         "United States",
         "Peru",
         284
        ],
        [
         "Vietnam",
         "United States",
         1
        ],
        [
         "United States",
         "United Kingdom",
         1503
        ],
        [
         "United States",
         "Belize",
         118
        ],
        [
         "Belize",
         "United States",
         121
        ],
        [
         "United States",
         "Ghana",
         28
        ],
        [
         "United States",
         "Indonesia",
         1
        ],
        [
         "United States",
         "Fiji",
         51
        ],
        [
         "United States",
         "Canada",
         8305
        ],
        [
         "United States",
         "French Polynesia",
         38
        ],
        [
         "United States",
         "Antigua and Barbuda",
         121
        ],
        [
         "United States",
         "Burkina Faso",
         1
        ],
        [
         "Nicaragua",
         "United States",
         178
        ],
        [
         "United States",
         "Latvia",
         13
        ],
        [
         "United States",
         "Dominica",
         32
        ],
        [
         "United States",
         "Czech Republic",
         22
        ],
        [
         "United States",
         "Australia",
         216
        ],
        [
         "Austria",
         "United States",
         36
        ],
        [
         "United States",
         "Cook Islands",
         12
        ],
        [
         "Jordan",
         "United States",
         50
        ],
        [
         "Palau",
         "United States",
         31
        ],
        [
         "Uganda",
         "United States",
         2
        ],
        [
         "United States",
         "Cameroon",
         1
        ],
        [
         "South Korea",
         "United States",
         683
        ],
        [
         "Angola",
         "United States",
         14
        ],
        [
         "Ghana",
         "United States",
         27
        ],
        [
         "Guadeloupe",
         "United States",
         40
        ],
        [
         "France",
         "United States",
         774
        ],
        [
         "United States",
         "Kyrgyzstan",
         12
        ],
        [
         "Poland",
         "United States",
         62
        ],
        [
         "Nigeria",
         "United States",
         16
        ],
        [
         "United States",
         "Uruguay",
         24
        ],
        [
         "Greenland",
         "United States",
         2
        ],
        [
         "Chile",
         "United States",
         166
        ],
        [
         "United States",
         "Bermuda",
         180
        ],
        [
         "United States",
         "Cuba",
         235
        ],
        [
         "United States",
         "Colombia",
         832
        ],
        [
         "United States",
         "Qatar",
         40
        ],
        [
         "United States",
         "Barbados",
         119
        ],
        [
         "Australia",
         "United States",
         290
        ],
        [
         "United States",
         "Jordan",
         51
        ],
        [
         "United States",
         "Cayman Islands",
         251
        ],
        [
         "United States",
         "Trinidad and Tobago",
         200
        ],
        [
         "United States",
         "Bolivia",
         39
        ],
        [
         "United States",
         "Slovakia",
         1
        ],
        [
         "Uruguay",
         "United States",
         54
        ],
        [
         "Cook Islands",
         "United States",
         13
        ],
        [
         "United States",
         "Saint Kitts and Nevis",
         127
        ],
        [
         "Bulgaria",
         "United States",
         1
        ],
        [
         "United States",
         "French Guiana",
         1
        ],
        [
         "United States",
         "Haiti",
         226
        ],
        [
         "United States",
         "Uganda",
         1
        ],
        [
         "Bonaire, Sint Eustatius, and Saba",
         "United States",
         16
        ],
        [
         "Greece",
         "United States",
         50
        ]
       ],
       "datasetInfos": [],
       "dbfsResultPath": null,
       "isJsonSchema": true,
       "metadata": {},
       "overflow": false,
       "plotOptions": {
        "customPlotOptions": {},
        "displayType": "table",
        "pivotAggregation": null,
        "pivotColumns": null,
        "xColumns": null,
        "yColumns": null
       },
       "removedWidgets": [],
       "schema": [
        {
         "metadata": "{}",
         "name": "DEST_COUNTRY_NAME",
         "type": "\"string\""
        },
        {
         "metadata": "{}",
         "name": "ORIGIN_COUNTRY_NAME",
         "type": "\"string\""
        },
        {
         "metadata": "{}",
         "name": "count",
         "type": "\"long\""
        }
       ],
       "type": "table"
      }
     },
     "output_type": "display_data"
    }
   ],
   "source": [
    "df_13 = spark.read.format(\"parquet\") \\\n",
    "                  .option(\"header\",\"true\") \\\n",
    "                  .option(\"inferSchema\",\"true\") \\\n",
    "                .load(\"/FileStore/tables/part_r_00000_1a9822ba_b8fb_4d8e_844a_ea30d0801b9e_gz.parquet\")\n",
    "\n",
    "df_13.display()"
   ]
  },
  {
   "cell_type": "markdown",
   "metadata": {
    "application/vnd.databricks.v1+cell": {
     "cellMetadata": {},
     "inputWidgets": {},
     "nuid": "272deff5-20b4-4a9b-a30d-cbb72b2aa436",
     "showTitle": false,
     "tableResultSettingsMap": {},
     "title": ""
    }
   },
   "source": [
    "**Q14: You are reading a csv file and need to handle corrupt records gracefully by skipping them.How would you do this?**"
   ]
  },
  {
   "cell_type": "code",
   "execution_count": 0,
   "metadata": {
    "application/vnd.databricks.v1+cell": {
     "cellMetadata": {
      "byteLimit": 2048000,
      "rowLimit": 10000
     },
     "inputWidgets": {},
     "nuid": "6717ef85-7c01-495d-9fb5-915ddd9ad924",
     "showTitle": false,
     "tableResultSettingsMap": {},
     "title": ""
    }
   },
   "outputs": [
    {
     "output_type": "display_data",
     "data": {
      "text/html": [
       "<style scoped>\n",
       "  .table-result-container {\n",
       "    max-height: 300px;\n",
       "    overflow: auto;\n",
       "  }\n",
       "  table, th, td {\n",
       "    border: 1px solid black;\n",
       "    border-collapse: collapse;\n",
       "  }\n",
       "  th, td {\n",
       "    padding: 5px;\n",
       "  }\n",
       "  th {\n",
       "    text-align: left;\n",
       "  }\n",
       "</style><div class='table-result-container'><table class='table-result'><thead style='background-color: white'><tr><th>id</th><th>name</th><th>age</th><th>salary</th><th>address</th><th>nominee</th></tr></thead><tbody><tr><td>1</td><td>Manish</td><td>26</td><td>75000</td><td>bihar</td><td>n1</td></tr><tr><td>2</td><td>Nikita</td><td>23</td><td>100000</td><td>up</td><td>n2</td></tr></tbody></table></div>"
      ]
     },
     "metadata": {
      "application/vnd.databricks.v1+output": {
       "addedWidgets": {},
       "aggData": [],
       "aggError": "",
       "aggOverflow": false,
       "aggSchema": [],
       "aggSeriesLimitReached": false,
       "aggType": "",
       "arguments": {},
       "columnCustomDisplayInfos": {},
       "data": [
        [
         1,
         "Manish",
         26,
         75000,
         "bihar",
         "n1"
        ],
        [
         2,
         "Nikita",
         23,
         100000,
         "up",
         "n2"
        ]
       ],
       "datasetInfos": [],
       "dbfsResultPath": null,
       "isJsonSchema": true,
       "metadata": {},
       "overflow": false,
       "plotOptions": {
        "customPlotOptions": {},
        "displayType": "table",
        "pivotAggregation": null,
        "pivotColumns": null,
        "xColumns": null,
        "yColumns": null
       },
       "removedWidgets": [],
       "schema": [
        {
         "metadata": "{}",
         "name": "id",
         "type": "\"integer\""
        },
        {
         "metadata": "{}",
         "name": "name",
         "type": "\"string\""
        },
        {
         "metadata": "{}",
         "name": "age",
         "type": "\"integer\""
        },
        {
         "metadata": "{}",
         "name": "salary",
         "type": "\"integer\""
        },
        {
         "metadata": "{}",
         "name": "address",
         "type": "\"string\""
        },
        {
         "metadata": "{}",
         "name": "nominee",
         "type": "\"string\""
        }
       ],
       "type": "table"
      }
     },
     "output_type": "display_data"
    }
   ],
   "source": [
    "corrupt_csv_df = spark.read.format(\"csv\") \\\n",
    "                            .option(\"header\",\"true\") \\\n",
    "                            .option(\"inferSchema\",\"true\") \\\n",
    "                            .option(\"mode\",\"DROPMALFORMED\") \\\n",
    "                            .load(\"/FileStore/tables/Emp_pysp_details-1.csv\")\n",
    "\n",
    "corrupt_csv_df.display()"
   ]
  },
  {
   "cell_type": "markdown",
   "metadata": {
    "application/vnd.databricks.v1+cell": {
     "cellMetadata": {},
     "inputWidgets": {},
     "nuid": "cc4eeff1-e75c-4c46-97ca-5b3531e395bb",
     "showTitle": false,
     "tableResultSettingsMap": {},
     "title": ""
    }
   },
   "source": [
    "**Q15. You have a dataset containing names of employees and their departments.You need to find department with most employees.**"
   ]
  },
  {
   "cell_type": "code",
   "execution_count": 0,
   "metadata": {
    "application/vnd.databricks.v1+cell": {
     "cellMetadata": {
      "byteLimit": 2048000,
      "rowLimit": 10000
     },
     "inputWidgets": {},
     "nuid": "6b39d337-4a9f-4f7a-af07-ad00151d0b8a",
     "showTitle": false,
     "tableResultSettingsMap": {},
     "title": ""
    }
   },
   "outputs": [
    {
     "output_type": "display_data",
     "data": {
      "text/html": [
       "<style scoped>\n",
       "  .table-result-container {\n",
       "    max-height: 300px;\n",
       "    overflow: auto;\n",
       "  }\n",
       "  table, th, td {\n",
       "    border: 1px solid black;\n",
       "    border-collapse: collapse;\n",
       "  }\n",
       "  th, td {\n",
       "    padding: 5px;\n",
       "  }\n",
       "  th {\n",
       "    text-align: left;\n",
       "  }\n",
       "</style><div class='table-result-container'><table class='table-result'><thead style='background-color: white'><tr><th>dept</th><th>employee_count</th></tr></thead><tbody><tr><td>HR</td><td>2</td></tr><tr><td>Finance</td><td>2</td></tr><tr><td>Engineering</td><td>1</td></tr></tbody></table></div>"
      ]
     },
     "metadata": {
      "application/vnd.databricks.v1+output": {
       "addedWidgets": {},
       "aggData": [],
       "aggError": "",
       "aggOverflow": false,
       "aggSchema": [],
       "aggSeriesLimitReached": false,
       "aggType": "",
       "arguments": {},
       "columnCustomDisplayInfos": {},
       "data": [
        [
         "HR",
         2
        ],
        [
         "Finance",
         2
        ],
        [
         "Engineering",
         1
        ]
       ],
       "datasetInfos": [],
       "dbfsResultPath": null,
       "isJsonSchema": true,
       "metadata": {},
       "overflow": false,
       "plotOptions": {
        "customPlotOptions": {},
        "displayType": "table",
        "pivotAggregation": null,
        "pivotColumns": null,
        "xColumns": null,
        "yColumns": null
       },
       "removedWidgets": [],
       "schema": [
        {
         "metadata": "{}",
         "name": "dept",
         "type": "\"string\""
        },
        {
         "metadata": "{}",
         "name": "employee_count",
         "type": "\"long\""
        }
       ],
       "type": "table"
      }
     },
     "output_type": "display_data"
    }
   ],
   "source": [
    "data = [(\"Alice\",\"HR\"),(\"Bob\",\"Finance\"),(\"Charlie\",\"HR\"),(\"David\",\"Engineering\"),(\"Eve\",\"Finance\")]\n",
    "\n",
    "schema = [\"emp\",\"dept\"]\n",
    "\n",
    "emp_dept_df = spark.createDataFrame(data,schema)\n",
    "\n",
    "emp_dept_df.groupBy(\"dept\").agg(count(\"emp\").alias(\"employee_count\")).sort(col(\"employee_count\").desc()).display()"
   ]
  },
  {
   "cell_type": "markdown",
   "metadata": {
    "application/vnd.databricks.v1+cell": {
     "cellMetadata": {},
     "inputWidgets": {},
     "nuid": "f1ca7647-b6a8-411d-8c2e-18f88bbf620f",
     "showTitle": false,
     "tableResultSettingsMap": {},
     "title": ""
    }
   },
   "source": [
    "**Q16. While processing sales data, you need to classify each transaction as either \"high\" or \"low\" based on it's amount. How would you approach to this task using when condition?**"
   ]
  },
  {
   "cell_type": "code",
   "execution_count": 0,
   "metadata": {
    "application/vnd.databricks.v1+cell": {
     "cellMetadata": {
      "byteLimit": 2048000,
      "rowLimit": 10000
     },
     "inputWidgets": {},
     "nuid": "3ce59190-c5e2-4c04-a4d3-bb483ac5c193",
     "showTitle": false,
     "tableResultSettingsMap": {},
     "title": ""
    }
   },
   "outputs": [
    {
     "output_type": "display_data",
     "data": {
      "text/html": [
       "<style scoped>\n",
       "  .table-result-container {\n",
       "    max-height: 300px;\n",
       "    overflow: auto;\n",
       "  }\n",
       "  table, th, td {\n",
       "    border: 1px solid black;\n",
       "    border-collapse: collapse;\n",
       "  }\n",
       "  th, td {\n",
       "    padding: 5px;\n",
       "  }\n",
       "  th {\n",
       "    text-align: left;\n",
       "  }\n",
       "</style><div class='table-result-container'><table class='table-result'><thead style='background-color: white'><tr><th>product_id</th><th>sales</th><th>txn_category</th></tr></thead><tbody><tr><td>product1</td><td>100</td><td>high</td></tr><tr><td>product2</td><td>300</td><td>high</td></tr><tr><td>product3</td><td>50</td><td>low</td></tr></tbody></table></div>"
      ]
     },
     "metadata": {
      "application/vnd.databricks.v1+output": {
       "addedWidgets": {},
       "aggData": [],
       "aggError": "",
       "aggOverflow": false,
       "aggSchema": [],
       "aggSeriesLimitReached": false,
       "aggType": "",
       "arguments": {},
       "columnCustomDisplayInfos": {},
       "data": [
        [
         "product1",
         100,
         "high"
        ],
        [
         "product2",
         300,
         "high"
        ],
        [
         "product3",
         50,
         "low"
        ]
       ],
       "datasetInfos": [],
       "dbfsResultPath": null,
       "isJsonSchema": true,
       "metadata": {},
       "overflow": false,
       "plotOptions": {
        "customPlotOptions": {},
        "displayType": "table",
        "pivotAggregation": null,
        "pivotColumns": null,
        "xColumns": null,
        "yColumns": null
       },
       "removedWidgets": [],
       "schema": [
        {
         "metadata": "{}",
         "name": "product_id",
         "type": "\"string\""
        },
        {
         "metadata": "{}",
         "name": "sales",
         "type": "\"long\""
        },
        {
         "metadata": "{}",
         "name": "txn_category",
         "type": "\"string\""
        }
       ],
       "type": "table"
      }
     },
     "output_type": "display_data"
    }
   ],
   "source": [
    "data = [(\"product1\",100),(\"product2\",300),(\"product3\",50)]\n",
    "\n",
    "columns = [\"product_id\",\"sales\"]\n",
    "\n",
    "prd_txn_df = spark.createDataFrame(data,columns)\n",
    "\n",
    "prd_txn_df.withColumn(\"txn_category\", when(col(\"sales\") > 50 , \"high\")\n",
    "                                    .otherwise(\"low\"))\\\n",
    "          .display()"
   ]
  },
  {
   "cell_type": "markdown",
   "metadata": {
    "application/vnd.databricks.v1+cell": {
     "cellMetadata": {},
     "inputWidgets": {},
     "nuid": "7c18918f-7400-41ca-bdff-039d0283e069",
     "showTitle": false,
     "tableResultSettingsMap": {},
     "title": ""
    }
   },
   "source": [
    "**Q17. While analysing a large dataset, you need to create a new column that holds a timestamp of when the record was processed.How would you implement this and what would be the best USE CASE?**"
   ]
  },
  {
   "cell_type": "code",
   "execution_count": 0,
   "metadata": {
    "application/vnd.databricks.v1+cell": {
     "cellMetadata": {
      "byteLimit": 2048000,
      "rowLimit": 10000
     },
     "inputWidgets": {},
     "nuid": "42c92914-592d-4544-a31c-62293d98220f",
     "showTitle": false,
     "tableResultSettingsMap": {},
     "title": ""
    }
   },
   "outputs": [
    {
     "output_type": "display_data",
     "data": {
      "text/html": [
       "<style scoped>\n",
       "  .table-result-container {\n",
       "    max-height: 300px;\n",
       "    overflow: auto;\n",
       "  }\n",
       "  table, th, td {\n",
       "    border: 1px solid black;\n",
       "    border-collapse: collapse;\n",
       "  }\n",
       "  th, td {\n",
       "    padding: 5px;\n",
       "  }\n",
       "  th {\n",
       "    text-align: left;\n",
       "  }\n",
       "</style><div class='table-result-container'><table class='table-result'><thead style='background-color: white'><tr><th>product_id</th><th>sales</th><th>processed_time</th></tr></thead><tbody><tr><td>product1</td><td>100</td><td>2025-03-25T12:52:32.798+0000</td></tr><tr><td>product2</td><td>200</td><td>2025-03-25T12:52:32.798+0000</td></tr><tr><td>product3</td><td>300</td><td>2025-03-25T12:52:32.798+0000</td></tr></tbody></table></div>"
      ]
     },
     "metadata": {
      "application/vnd.databricks.v1+output": {
       "addedWidgets": {},
       "aggData": [],
       "aggError": "",
       "aggOverflow": false,
       "aggSchema": [],
       "aggSeriesLimitReached": false,
       "aggType": "",
       "arguments": {},
       "columnCustomDisplayInfos": {},
       "data": [
        [
         "product1",
         100,
         "2025-03-25T12:52:32.798+0000"
        ],
        [
         "product2",
         200,
         "2025-03-25T12:52:32.798+0000"
        ],
        [
         "product3",
         300,
         "2025-03-25T12:52:32.798+0000"
        ]
       ],
       "datasetInfos": [],
       "dbfsResultPath": null,
       "isJsonSchema": true,
       "metadata": {},
       "overflow": false,
       "plotOptions": {
        "customPlotOptions": {},
        "displayType": "table",
        "pivotAggregation": null,
        "pivotColumns": null,
        "xColumns": null,
        "yColumns": null
       },
       "removedWidgets": [],
       "schema": [
        {
         "metadata": "{}",
         "name": "product_id",
         "type": "\"string\""
        },
        {
         "metadata": "{}",
         "name": "sales",
         "type": "\"long\""
        },
        {
         "metadata": "{}",
         "name": "processed_time",
         "type": "\"timestamp\""
        }
       ],
       "type": "table"
      }
     },
     "output_type": "display_data"
    }
   ],
   "source": [
    "data = [(\"product1\",100),(\"product2\",200),(\"product3\",300)]\n",
    "\n",
    "columns = [\"product_id\",\"sales\"]\n",
    "\n",
    "prd_17_df = spark.createDataFrame(data,columns)\n",
    "\n",
    "prd_17_df.withColumn(\"processed_time\", current_timestamp()) \\\n",
    "        .display()\n",
    "\n",
    "\n",
    "## USE CASE\n",
    "## For slowly changing dimension we need the date and time when exactly the data got changed"
   ]
  },
  {
   "cell_type": "markdown",
   "metadata": {
    "application/vnd.databricks.v1+cell": {
     "cellMetadata": {},
     "inputWidgets": {},
     "nuid": "7e539f3a-ef8e-471b-b823-0a942c53f428",
     "showTitle": false,
     "tableResultSettingsMap": {},
     "title": ""
    }
   },
   "source": [
    "**Q18. You need to registed this PySpark dataframe as a temporary sql object and run a query on it.How would you implement this ?**"
   ]
  },
  {
   "cell_type": "code",
   "execution_count": 0,
   "metadata": {
    "application/vnd.databricks.v1+cell": {
     "cellMetadata": {
      "byteLimit": 2048000,
      "rowLimit": 10000
     },
     "inputWidgets": {},
     "nuid": "3f98b887-d46a-4133-adc9-f03c7e003b11",
     "showTitle": false,
     "tableResultSettingsMap": {},
     "title": ""
    }
   },
   "outputs": [],
   "source": [
    "data = [(\"product1\",100),(\"product2\",200),(\"product3\",300)]\n",
    "\n",
    "columns = [\"product_id\",\"sales\"]\n",
    "\n",
    "prd_18_df = spark.createDataFrame(data,columns)\n",
    "\n",
    "prd_18_df.createOrReplaceTempView(\"Product_table\")"
   ]
  },
  {
   "cell_type": "code",
   "execution_count": 0,
   "metadata": {
    "application/vnd.databricks.v1+cell": {
     "cellMetadata": {
      "byteLimit": 2048000,
      "implicitDf": true,
      "rowLimit": 10000
     },
     "inputWidgets": {},
     "nuid": "481137d9-57d3-49ce-9332-9831945fcb74",
     "showTitle": false,
     "tableResultSettingsMap": {},
     "title": ""
    }
   },
   "outputs": [
    {
     "output_type": "display_data",
     "data": {
      "text/html": [
       "<style scoped>\n",
       "  .table-result-container {\n",
       "    max-height: 300px;\n",
       "    overflow: auto;\n",
       "  }\n",
       "  table, th, td {\n",
       "    border: 1px solid black;\n",
       "    border-collapse: collapse;\n",
       "  }\n",
       "  th, td {\n",
       "    padding: 5px;\n",
       "  }\n",
       "  th {\n",
       "    text-align: left;\n",
       "  }\n",
       "</style><div class='table-result-container'><table class='table-result'><thead style='background-color: white'><tr><th>product_id</th><th>sales</th></tr></thead><tbody><tr><td>product1</td><td>100</td></tr><tr><td>product2</td><td>200</td></tr><tr><td>product3</td><td>300</td></tr></tbody></table></div>"
      ]
     },
     "metadata": {
      "application/vnd.databricks.v1+output": {
       "addedWidgets": {},
       "aggData": [],
       "aggError": "",
       "aggOverflow": false,
       "aggSchema": [],
       "aggSeriesLimitReached": false,
       "aggType": "",
       "arguments": {},
       "columnCustomDisplayInfos": {},
       "data": [
        [
         "product1",
         100
        ],
        [
         "product2",
         200
        ],
        [
         "product3",
         300
        ]
       ],
       "datasetInfos": [],
       "dbfsResultPath": null,
       "isJsonSchema": true,
       "metadata": {},
       "overflow": false,
       "plotOptions": {
        "customPlotOptions": {},
        "displayType": "table",
        "pivotAggregation": null,
        "pivotColumns": null,
        "xColumns": null,
        "yColumns": null
       },
       "removedWidgets": [],
       "schema": [
        {
         "metadata": "{}",
         "name": "product_id",
         "type": "\"string\""
        },
        {
         "metadata": "{}",
         "name": "sales",
         "type": "\"long\""
        }
       ],
       "type": "table"
      }
     },
     "output_type": "display_data"
    }
   ],
   "source": [
    "%sql\n",
    "select * from Product_table"
   ]
  },
  {
   "cell_type": "markdown",
   "metadata": {
    "application/vnd.databricks.v1+cell": {
     "cellMetadata": {},
     "inputWidgets": {},
     "nuid": "0ee98137-72de-464b-b8e8-f6b675ffd5ee",
     "showTitle": false,
     "tableResultSettingsMap": {},
     "title": ""
    }
   },
   "source": [
    "**Q19. You need to registed this PySpark dataframe as a temporary sql object and run a query on it(FROM DIFFERENT NOTEBOOK AS WELL).How would you implement this ?**"
   ]
  },
  {
   "cell_type": "code",
   "execution_count": 0,
   "metadata": {
    "application/vnd.databricks.v1+cell": {
     "cellMetadata": {
      "byteLimit": 2048000,
      "rowLimit": 10000
     },
     "inputWidgets": {},
     "nuid": "e1a472c9-28a3-4a5d-91af-fd8bfdf52606",
     "showTitle": false,
     "tableResultSettingsMap": {},
     "title": ""
    }
   },
   "outputs": [],
   "source": [
    "data = [(\"product1\",100),(\"product2\",200),(\"product3\",300)]\n",
    "\n",
    "columns = [\"product_id\",\"sales\"]\n",
    "\n",
    "prd_19_df = spark.createDataFrame(data,columns)\n",
    "\n",
    "prd_19_df.createOrReplaceGlobalTempView(\"Product_table_global\")"
   ]
  },
  {
   "cell_type": "code",
   "execution_count": 0,
   "metadata": {
    "application/vnd.databricks.v1+cell": {
     "cellMetadata": {
      "byteLimit": 2048000,
      "implicitDf": true,
      "rowLimit": 10000
     },
     "inputWidgets": {},
     "nuid": "86e007b6-f238-48b8-8208-36ac946a2065",
     "showTitle": false,
     "tableResultSettingsMap": {},
     "title": ""
    }
   },
   "outputs": [
    {
     "output_type": "display_data",
     "data": {
      "text/html": [
       "<style scoped>\n",
       "  .table-result-container {\n",
       "    max-height: 300px;\n",
       "    overflow: auto;\n",
       "  }\n",
       "  table, th, td {\n",
       "    border: 1px solid black;\n",
       "    border-collapse: collapse;\n",
       "  }\n",
       "  th, td {\n",
       "    padding: 5px;\n",
       "  }\n",
       "  th {\n",
       "    text-align: left;\n",
       "  }\n",
       "</style><div class='table-result-container'><table class='table-result'><thead style='background-color: white'><tr><th>product_id</th><th>sales</th></tr></thead><tbody><tr><td>product1</td><td>100</td></tr><tr><td>product2</td><td>200</td></tr><tr><td>product3</td><td>300</td></tr></tbody></table></div>"
      ]
     },
     "metadata": {
      "application/vnd.databricks.v1+output": {
       "addedWidgets": {},
       "aggData": [],
       "aggError": "",
       "aggOverflow": false,
       "aggSchema": [],
       "aggSeriesLimitReached": false,
       "aggType": "",
       "arguments": {},
       "columnCustomDisplayInfos": {},
       "data": [
        [
         "product1",
         100
        ],
        [
         "product2",
         200
        ],
        [
         "product3",
         300
        ]
       ],
       "datasetInfos": [],
       "dbfsResultPath": null,
       "isJsonSchema": true,
       "metadata": {},
       "overflow": false,
       "plotOptions": {
        "customPlotOptions": {},
        "displayType": "table",
        "pivotAggregation": null,
        "pivotColumns": null,
        "xColumns": null,
        "yColumns": null
       },
       "removedWidgets": [],
       "schema": [
        {
         "metadata": "{}",
         "name": "product_id",
         "type": "\"string\""
        },
        {
         "metadata": "{}",
         "name": "sales",
         "type": "\"long\""
        }
       ],
       "type": "table"
      }
     },
     "output_type": "display_data"
    }
   ],
   "source": [
    "%sql\n",
    "select * from global_temp.Product_table_global"
   ]
  },
  {
   "cell_type": "markdown",
   "metadata": {
    "application/vnd.databricks.v1+cell": {
     "cellMetadata": {},
     "inputWidgets": {},
     "nuid": "ec7d3eaf-eb73-44c8-974a-ea620cec3692",
     "showTitle": false,
     "tableResultSettingsMap": {},
     "title": ""
    }
   },
   "source": [
    "**Q20. You need to query data from a PySpark DataFrame using SQL, but the data include a nested structure. How would you flatten the data for easier of use?**"
   ]
  },
  {
   "cell_type": "code",
   "execution_count": 0,
   "metadata": {
    "application/vnd.databricks.v1+cell": {
     "cellMetadata": {
      "byteLimit": 2048000,
      "rowLimit": 10000
     },
     "inputWidgets": {},
     "nuid": "d7c7717a-88cd-412c-8dce-5d96f43965b1",
     "showTitle": false,
     "tableResultSettingsMap": {},
     "title": ""
    }
   },
   "outputs": [],
   "source": [
    "data = [(\"product1\",{\"price\":100,\"quantity\":2}),(\"product2\",{\"price\":200,\"quantity\":5})]\n",
    "\n",
    "columns = [\"product_id\",\"product_info\"]\n",
    "\n",
    "prd_nested_df = spark.createDataFrame(data,columns)\n",
    "\n",
    "prd_nested_df.withColumn(\"price\",col(\"product_info.price\")) \\\n",
    "            .withColumn(\"qty\",col(\"product_info.quantity\")) \\\n",
    "            .drop(col(\"product_info\")) \\\n",
    "            .createOrReplaceTempView(\"flat_prd_table\")"
   ]
  },
  {
   "cell_type": "code",
   "execution_count": 0,
   "metadata": {
    "application/vnd.databricks.v1+cell": {
     "cellMetadata": {
      "byteLimit": 2048000,
      "implicitDf": true,
      "rowLimit": 10000
     },
     "inputWidgets": {},
     "nuid": "e2e79d0e-f3cc-44df-a7d7-eeeab25f56d6",
     "showTitle": false,
     "tableResultSettingsMap": {},
     "title": ""
    }
   },
   "outputs": [
    {
     "output_type": "display_data",
     "data": {
      "text/html": [
       "<style scoped>\n",
       "  .table-result-container {\n",
       "    max-height: 300px;\n",
       "    overflow: auto;\n",
       "  }\n",
       "  table, th, td {\n",
       "    border: 1px solid black;\n",
       "    border-collapse: collapse;\n",
       "  }\n",
       "  th, td {\n",
       "    padding: 5px;\n",
       "  }\n",
       "  th {\n",
       "    text-align: left;\n",
       "  }\n",
       "</style><div class='table-result-container'><table class='table-result'><thead style='background-color: white'><tr><th>product_id</th><th>price</th><th>qty</th></tr></thead><tbody><tr><td>product1</td><td>100</td><td>2</td></tr><tr><td>product2</td><td>200</td><td>5</td></tr></tbody></table></div>"
      ]
     },
     "metadata": {
      "application/vnd.databricks.v1+output": {
       "addedWidgets": {},
       "aggData": [],
       "aggError": "",
       "aggOverflow": false,
       "aggSchema": [],
       "aggSeriesLimitReached": false,
       "aggType": "",
       "arguments": {},
       "columnCustomDisplayInfos": {},
       "data": [
        [
         "product1",
         100,
         2
        ],
        [
         "product2",
         200,
         5
        ]
       ],
       "datasetInfos": [],
       "dbfsResultPath": null,
       "isJsonSchema": true,
       "metadata": {},
       "overflow": false,
       "plotOptions": {
        "customPlotOptions": {},
        "displayType": "table",
        "pivotAggregation": null,
        "pivotColumns": null,
        "xColumns": null,
        "yColumns": null
       },
       "removedWidgets": [],
       "schema": [
        {
         "metadata": "{}",
         "name": "product_id",
         "type": "\"string\""
        },
        {
         "metadata": "{}",
         "name": "price",
         "type": "\"long\""
        },
        {
         "metadata": "{}",
         "name": "qty",
         "type": "\"long\""
        }
       ],
       "type": "table"
      }
     },
     "output_type": "display_data"
    }
   ],
   "source": [
    "%sql\n",
    "select * from flat_prd_table"
   ]
  },
  {
   "cell_type": "markdown",
   "metadata": {
    "application/vnd.databricks.v1+cell": {
     "cellMetadata": {},
     "inputWidgets": {},
     "nuid": "8b6c3ed9-ada8-4224-9db2-e01ee8fd9623",
     "showTitle": false,
     "tableResultSettingsMap": {},
     "title": ""
    }
   },
   "source": [
    "**Q21. While reading data from Parquet, you need to optimize performance the data based on a column. How would you implement this?**"
   ]
  },
  {
   "cell_type": "code",
   "execution_count": 0,
   "metadata": {
    "application/vnd.databricks.v1+cell": {
     "cellMetadata": {
      "byteLimit": 2048000,
      "rowLimit": 10000
     },
     "inputWidgets": {},
     "nuid": "ec54f0ff-2bbd-46a6-9f0d-90841cbb2e8a",
     "showTitle": false,
     "tableResultSettingsMap": {},
     "title": ""
    }
   },
   "outputs": [],
   "source": [
    "data = [(\"cust1\",200,\"IT\"),(\"cust2\",500,\"HR\")]\n",
    "\n",
    "schema = [\"cust_id\",\"sales\",\"dept\"]\n",
    "\n",
    "df = spark.createDataFrame(data,schema)\n",
    "\n",
    "df.write.format(\"parquet\").partitionBy(\"dept\").save(\"/FileStore/parq_data/customer.parquet\")"
   ]
  },
  {
   "cell_type": "code",
   "execution_count": 0,
   "metadata": {
    "application/vnd.databricks.v1+cell": {
     "cellMetadata": {
      "byteLimit": 2048000,
      "rowLimit": 10000
     },
     "inputWidgets": {},
     "nuid": "9b563104-1d72-426d-80f0-e93992a09919",
     "showTitle": false,
     "tableResultSettingsMap": {},
     "title": ""
    }
   },
   "outputs": [
    {
     "output_type": "stream",
     "name": "stdout",
     "output_type": "stream",
     "text": [
      "+------+-----+\n|partid|count|\n+------+-----+\n|     0|    1|\n|     1|    1|\n+------+-----+\n\n"
     ]
    }
   ],
   "source": [
    "df1 = spark.read.parquet(\"/FileStore/parq_data/customer.parquet/\")\n",
    "df1.rdd.getNumPartitions()\n",
    "df1.select(spark_partition_id().alias('partid')).groupBy('partid').count().show()"
   ]
  },
  {
   "cell_type": "markdown",
   "metadata": {
    "application/vnd.databricks.v1+cell": {
     "cellMetadata": {},
     "inputWidgets": {},
     "nuid": "82ba0bdb-1c1c-47e3-8613-56dc3fb249ff",
     "showTitle": false,
     "tableResultSettingsMap": {},
     "title": ""
    }
   },
   "source": [
    "**Q22. You are working with large dataset in Parquet format and you need to ensure that the data is written in an optimized manner with proper compression. How would you implement this?**"
   ]
  },
  {
   "cell_type": "code",
   "execution_count": 0,
   "metadata": {
    "application/vnd.databricks.v1+cell": {
     "cellMetadata": {
      "byteLimit": 2048000,
      "rowLimit": 10000
     },
     "inputWidgets": {},
     "nuid": "f838fb1c-5657-4c14-9034-7ba138263998",
     "showTitle": false,
     "tableResultSettingsMap": {},
     "title": ""
    }
   },
   "outputs": [],
   "source": [
    "data = [(\"cust1\",200,\"IT\"),(\"cust2\",500,\"HR\")]\n",
    "\n",
    "schema = [\"cust_id\",\"sales\",\"dept\"]\n",
    "\n",
    "df = spark.createDataFrame(data,schema)\n",
    "\n",
    "df.write.format(\"parquet\").option(\"compression\",\"snappy\").save(\"/FileStore/parq_data/customer_compress.parquet\")"
   ]
  },
  {
   "cell_type": "markdown",
   "metadata": {
    "application/vnd.databricks.v1+cell": {
     "cellMetadata": {},
     "inputWidgets": {},
     "nuid": "2a85c8fa-5e65-4284-83f2-9d853ee9d2b5",
     "showTitle": false,
     "tableResultSettingsMap": {},
     "title": ""
    }
   },
   "source": [
    "**Q23. You are processing sales data. Group by product categories and create a list of all product names in each category.**"
   ]
  },
  {
   "cell_type": "code",
   "execution_count": 0,
   "metadata": {
    "application/vnd.databricks.v1+cell": {
     "cellMetadata": {
      "byteLimit": 2048000,
      "rowLimit": 10000
     },
     "inputWidgets": {},
     "nuid": "a11794a7-eb64-4910-b747-7519d28d8ef8",
     "showTitle": false,
     "tableResultSettingsMap": {},
     "title": ""
    }
   },
   "outputs": [
    {
     "output_type": "display_data",
     "data": {
      "text/html": [
       "<style scoped>\n",
       "  .table-result-container {\n",
       "    max-height: 300px;\n",
       "    overflow: auto;\n",
       "  }\n",
       "  table, th, td {\n",
       "    border: 1px solid black;\n",
       "    border-collapse: collapse;\n",
       "  }\n",
       "  th, td {\n",
       "    padding: 5px;\n",
       "  }\n",
       "  th {\n",
       "    text-align: left;\n",
       "  }\n",
       "</style><div class='table-result-container'><table class='table-result'><thead style='background-color: white'><tr><th>category</th><th>product_list</th></tr></thead><tbody><tr><td>Electronics</td><td>List(Laptop, smartphone)</td></tr><tr><td>Furniture</td><td>List(chair, Table)</td></tr></tbody></table></div>"
      ]
     },
     "metadata": {
      "application/vnd.databricks.v1+output": {
       "addedWidgets": {},
       "aggData": [],
       "aggError": "",
       "aggOverflow": false,
       "aggSchema": [],
       "aggSeriesLimitReached": false,
       "aggType": "",
       "arguments": {},
       "columnCustomDisplayInfos": {},
       "data": [
        [
         "Electronics",
         [
          "Laptop",
          "smartphone"
         ]
        ],
        [
         "Furniture",
         [
          "chair",
          "Table"
         ]
        ]
       ],
       "datasetInfos": [],
       "dbfsResultPath": null,
       "isJsonSchema": true,
       "metadata": {},
       "overflow": false,
       "plotOptions": {
        "customPlotOptions": {},
        "displayType": "table",
        "pivotAggregation": null,
        "pivotColumns": null,
        "xColumns": null,
        "yColumns": null
       },
       "removedWidgets": [],
       "schema": [
        {
         "metadata": "{}",
         "name": "category",
         "type": "\"string\""
        },
        {
         "metadata": "{}",
         "name": "product_list",
         "type": "{\"type\":\"array\",\"elementType\":\"string\",\"containsNull\":false}"
        }
       ],
       "type": "table"
      }
     },
     "output_type": "display_data"
    }
   ],
   "source": [
    "data = [(\"Electronics\",\"Laptop\"),(\"Electronics\",\"smartphone\"),(\"Furniture\",\"chair\"),(\"Furniture\",\"Table\")]\n",
    "\n",
    "schema = [\"category\",\"product\"]\n",
    "\n",
    "df_23 = spark.createDataFrame(data,schema)\n",
    "\n",
    "df_23.groupBy(\"category\").agg(collect_list(\"product\").alias(\"product_list\")).display()"
   ]
  },
  {
   "cell_type": "markdown",
   "metadata": {
    "application/vnd.databricks.v1+cell": {
     "cellMetadata": {},
     "inputWidgets": {},
     "nuid": "ffff8c8e-0137-41d9-b813-ea1a08a7942f",
     "showTitle": false,
     "tableResultSettingsMap": {},
     "title": ""
    }
   },
   "source": [
    "**Q24. You are analyzing orders, Group by customer IDs and list all unique product IDs each customer purchased.**"
   ]
  },
  {
   "cell_type": "code",
   "execution_count": 0,
   "metadata": {
    "application/vnd.databricks.v1+cell": {
     "cellMetadata": {
      "byteLimit": 2048000,
      "rowLimit": 10000
     },
     "inputWidgets": {},
     "nuid": "7567fce1-3e08-4cac-a45a-e9aac9b9d1d4",
     "showTitle": false,
     "tableResultSettingsMap": {},
     "title": ""
    }
   },
   "outputs": [
    {
     "output_type": "display_data",
     "data": {
      "text/html": [
       "<style scoped>\n",
       "  .table-result-container {\n",
       "    max-height: 300px;\n",
       "    overflow: auto;\n",
       "  }\n",
       "  table, th, td {\n",
       "    border: 1px solid black;\n",
       "    border-collapse: collapse;\n",
       "  }\n",
       "  th, td {\n",
       "    padding: 5px;\n",
       "  }\n",
       "  th {\n",
       "    text-align: left;\n",
       "  }\n",
       "</style><div class='table-result-container'><table class='table-result'><thead style='background-color: white'><tr><th>customer_id</th><th>unique_product_list</th></tr></thead><tbody><tr><td>101</td><td>List(P002, P001)</td></tr><tr><td>102</td><td>List(P001)</td></tr></tbody></table></div>"
      ]
     },
     "metadata": {
      "application/vnd.databricks.v1+output": {
       "addedWidgets": {},
       "aggData": [],
       "aggError": "",
       "aggOverflow": false,
       "aggSchema": [],
       "aggSeriesLimitReached": false,
       "aggType": "",
       "arguments": {},
       "columnCustomDisplayInfos": {},
       "data": [
        [
         101,
         [
          "P002",
          "P001"
         ]
        ],
        [
         102,
         [
          "P001"
         ]
        ]
       ],
       "datasetInfos": [],
       "dbfsResultPath": null,
       "isJsonSchema": true,
       "metadata": {},
       "overflow": false,
       "plotOptions": {
        "customPlotOptions": {},
        "displayType": "table",
        "pivotAggregation": null,
        "pivotColumns": null,
        "xColumns": null,
        "yColumns": null
       },
       "removedWidgets": [],
       "schema": [
        {
         "metadata": "{}",
         "name": "customer_id",
         "type": "\"long\""
        },
        {
         "metadata": "{}",
         "name": "unique_product_list",
         "type": "{\"type\":\"array\",\"elementType\":\"string\",\"containsNull\":false}"
        }
       ],
       "type": "table"
      }
     },
     "output_type": "display_data"
    }
   ],
   "source": [
    "data = [(101,\"P001\"),(101,\"P002\"),(102,\"P001\"),(101,\"P001\")]\n",
    "\n",
    "schema = [\"customer_id\",\"product_id\"]\n",
    "\n",
    "df_24 = spark.createDataFrame(data,schema)\n",
    "\n",
    "df_24.groupBy(\"customer_id\").agg(collect_set(\"product_id\").alias(\"unique_product_list\")).display()"
   ]
  },
  {
   "cell_type": "markdown",
   "metadata": {
    "application/vnd.databricks.v1+cell": {
     "cellMetadata": {},
     "inputWidgets": {},
     "nuid": "f585a603-e46b-4dd1-a1e8-638c36a2111f",
     "showTitle": false,
     "tableResultSettingsMap": {},
     "title": ""
    }
   },
   "source": [
    "**Q25. For customer records, combine first and last names only if email address exists.**"
   ]
  },
  {
   "cell_type": "code",
   "execution_count": 0,
   "metadata": {
    "application/vnd.databricks.v1+cell": {
     "cellMetadata": {
      "byteLimit": 2048000,
      "rowLimit": 10000
     },
     "inputWidgets": {},
     "nuid": "48e81ada-81be-4da1-9043-e2e55629676b",
     "showTitle": false,
     "tableResultSettingsMap": {},
     "title": ""
    }
   },
   "outputs": [
    {
     "output_type": "display_data",
     "data": {
      "text/html": [
       "<style scoped>\n",
       "  .table-result-container {\n",
       "    max-height: 300px;\n",
       "    overflow: auto;\n",
       "  }\n",
       "  table, th, td {\n",
       "    border: 1px solid black;\n",
       "    border-collapse: collapse;\n",
       "  }\n",
       "  th, td {\n",
       "    padding: 5px;\n",
       "  }\n",
       "  th {\n",
       "    text-align: left;\n",
       "  }\n",
       "</style><div class='table-result-container'><table class='table-result'><thead style='background-color: white'><tr><th>name</th><th>surname</th><th>email</th><th>Full_name</th></tr></thead><tbody><tr><td>John</td><td>Doe</td><td>john.doe@gmail.com</td><td>John Doe</td></tr><tr><td>Jane</td><td>Smith</td><td>null</td><td>null</td></tr></tbody></table></div>"
      ]
     },
     "metadata": {
      "application/vnd.databricks.v1+output": {
       "addedWidgets": {},
       "aggData": [],
       "aggError": "",
       "aggOverflow": false,
       "aggSchema": [],
       "aggSeriesLimitReached": false,
       "aggType": "",
       "arguments": {},
       "columnCustomDisplayInfos": {},
       "data": [
        [
         "John",
         "Doe",
         "john.doe@gmail.com",
         "John Doe"
        ],
        [
         "Jane",
         "Smith",
         null,
         null
        ]
       ],
       "datasetInfos": [],
       "dbfsResultPath": null,
       "isJsonSchema": true,
       "metadata": {},
       "overflow": false,
       "plotOptions": {
        "customPlotOptions": {},
        "displayType": "table",
        "pivotAggregation": null,
        "pivotColumns": null,
        "xColumns": null,
        "yColumns": null
       },
       "removedWidgets": [],
       "schema": [
        {
         "metadata": "{}",
         "name": "name",
         "type": "\"string\""
        },
        {
         "metadata": "{}",
         "name": "surname",
         "type": "\"string\""
        },
        {
         "metadata": "{}",
         "name": "email",
         "type": "\"string\""
        },
        {
         "metadata": "{}",
         "name": "Full_name",
         "type": "\"string\""
        }
       ],
       "type": "table"
      }
     },
     "output_type": "display_data"
    }
   ],
   "source": [
    "data = [(\"John\",\"Doe\",\"john.doe@gmail.com\"),(\"Jane\",\"Smith\",None)]\n",
    "\n",
    "schema = [\"name\",\"surname\",\"email\"]\n",
    "\n",
    "df_25 = spark.createDataFrame(data,schema)\n",
    "\n",
    "df_25.withColumn(\"Full_name\",when(col(\"email\").isNotNull(),concat_ws(\" \",\"name\",\"surname\"))\n",
    "                            .otherwise(None)).display()"
   ]
  },
  {
   "cell_type": "markdown",
   "metadata": {
    "application/vnd.databricks.v1+cell": {
     "cellMetadata": {},
     "inputWidgets": {},
     "nuid": "f6254e4e-3e92-4e89-9428-0d2b22ae0efa",
     "showTitle": false,
     "tableResultSettingsMap": {},
     "title": ""
    }
   },
   "source": [
    "**Q26. You have a dataframe containing customer IDs and a list of their purchased product IDs. Calculate the number of products each customer has purchased.**"
   ]
  },
  {
   "cell_type": "code",
   "execution_count": 0,
   "metadata": {
    "application/vnd.databricks.v1+cell": {
     "cellMetadata": {
      "byteLimit": 2048000,
      "rowLimit": 10000
     },
     "inputWidgets": {},
     "nuid": "2f336824-b1a7-4f8a-8d54-dad873634366",
     "showTitle": false,
     "tableResultSettingsMap": {},
     "title": ""
    }
   },
   "outputs": [
    {
     "output_type": "display_data",
     "data": {
      "text/html": [
       "<style scoped>\n",
       "  .table-result-container {\n",
       "    max-height: 300px;\n",
       "    overflow: auto;\n",
       "  }\n",
       "  table, th, td {\n",
       "    border: 1px solid black;\n",
       "    border-collapse: collapse;\n",
       "  }\n",
       "  th, td {\n",
       "    padding: 5px;\n",
       "  }\n",
       "  th {\n",
       "    text-align: left;\n",
       "  }\n",
       "</style><div class='table-result-container'><table class='table-result'><thead style='background-color: white'><tr><th>customer_id</th><th>product_ids</th><th>number_of_products</th></tr></thead><tbody><tr><td>1</td><td>List(prod1, prod2, prod3)</td><td>3</td></tr><tr><td>2</td><td>List(prod4)</td><td>1</td></tr><tr><td>3</td><td>List(prod5, prod6)</td><td>2</td></tr></tbody></table></div>"
      ]
     },
     "metadata": {
      "application/vnd.databricks.v1+output": {
       "addedWidgets": {},
       "aggData": [],
       "aggError": "",
       "aggOverflow": false,
       "aggSchema": [],
       "aggSeriesLimitReached": false,
       "aggType": "",
       "arguments": {},
       "columnCustomDisplayInfos": {},
       "data": [
        [
         1,
         [
          "prod1",
          "prod2",
          "prod3"
         ],
         3
        ],
        [
         2,
         [
          "prod4"
         ],
         1
        ],
        [
         3,
         [
          "prod5",
          "prod6"
         ],
         2
        ]
       ],
       "datasetInfos": [],
       "dbfsResultPath": null,
       "isJsonSchema": true,
       "metadata": {},
       "overflow": false,
       "plotOptions": {
        "customPlotOptions": {},
        "displayType": "table",
        "pivotAggregation": null,
        "pivotColumns": null,
        "xColumns": null,
        "yColumns": null
       },
       "removedWidgets": [],
       "schema": [
        {
         "metadata": "{}",
         "name": "customer_id",
         "type": "\"integer\""
        },
        {
         "metadata": "{}",
         "name": "product_ids",
         "type": "{\"type\":\"array\",\"elementType\":\"string\",\"containsNull\":true}"
        },
        {
         "metadata": "{}",
         "name": "number_of_products",
         "type": "\"integer\""
        }
       ],
       "type": "table"
      }
     },
     "output_type": "display_data"
    }
   ],
   "source": [
    "data = [\n",
    "    (1,[\"prod1\", \"prod2\", \"prod3\"]),\n",
    "    (2, [\"prod4\"]),\n",
    "    (3, [\"prod5\",\"prod6\"])\n",
    "]\n",
    "\n",
    "schema = \"customer_id INT, product_ids array<STRING>\"\n",
    "\n",
    "df_26 = spark.createDataFrame(data,schema)\n",
    "\n",
    "df_26.withColumn(\"number_of_products\",size(col(\"product_ids\"))).display()"
   ]
  },
  {
   "cell_type": "markdown",
   "metadata": {
    "application/vnd.databricks.v1+cell": {
     "cellMetadata": {},
     "inputWidgets": {},
     "nuid": "e3811d2f-a622-4148-b4ea-be89a20ca60c",
     "showTitle": false,
     "tableResultSettingsMap": {},
     "title": ""
    }
   },
   "source": [
    "**Q27. You have employee IDs of varying lengths. Ensure IDs are 6 characters long by padding with leading zeroes.**"
   ]
  },
  {
   "cell_type": "code",
   "execution_count": 0,
   "metadata": {
    "application/vnd.databricks.v1+cell": {
     "cellMetadata": {
      "byteLimit": 2048000,
      "rowLimit": 10000
     },
     "inputWidgets": {},
     "nuid": "22a714e2-d20f-4687-942c-ddfaa669d80a",
     "showTitle": false,
     "tableResultSettingsMap": {},
     "title": ""
    }
   },
   "outputs": [
    {
     "output_type": "display_data",
     "data": {
      "text/html": [
       "<style scoped>\n",
       "  .table-result-container {\n",
       "    max-height: 300px;\n",
       "    overflow: auto;\n",
       "  }\n",
       "  table, th, td {\n",
       "    border: 1px solid black;\n",
       "    border-collapse: collapse;\n",
       "  }\n",
       "  th, td {\n",
       "    padding: 5px;\n",
       "  }\n",
       "  th {\n",
       "    text-align: left;\n",
       "  }\n",
       "</style><div class='table-result-container'><table class='table-result'><thead style='background-color: white'><tr><th>customer_id</th></tr></thead><tbody><tr><td>000001</td></tr><tr><td>000123</td></tr><tr><td>045679</td></tr></tbody></table></div>"
      ]
     },
     "metadata": {
      "application/vnd.databricks.v1+output": {
       "addedWidgets": {},
       "aggData": [],
       "aggError": "",
       "aggOverflow": false,
       "aggSchema": [],
       "aggSeriesLimitReached": false,
       "aggType": "",
       "arguments": {},
       "columnCustomDisplayInfos": {},
       "data": [
        [
         "000001"
        ],
        [
         "000123"
        ],
        [
         "045679"
        ]
       ],
       "datasetInfos": [],
       "dbfsResultPath": null,
       "isJsonSchema": true,
       "metadata": {},
       "overflow": false,
       "plotOptions": {
        "customPlotOptions": {},
        "displayType": "table",
        "pivotAggregation": null,
        "pivotColumns": null,
        "xColumns": null,
        "yColumns": null
       },
       "removedWidgets": [],
       "schema": [
        {
         "metadata": "{}",
         "name": "customer_id",
         "type": "\"string\""
        }
       ],
       "type": "table"
      }
     },
     "output_type": "display_data"
    }
   ],
   "source": [
    "data = [\n",
    "    (\"1\",),\n",
    "    (\"123\",),\n",
    "    (\"45679\",)\n",
    "]\n",
    "\n",
    "schema = [\"customer_id\"]\n",
    "\n",
    "df_27 = spark.createDataFrame(data,schema)\n",
    "\n",
    "df_27.withColumn(\"customer_id\",lpad(col(\"customer_id\"),6,\"0\")).display()"
   ]
  },
  {
   "cell_type": "markdown",
   "metadata": {
    "application/vnd.databricks.v1+cell": {
     "cellMetadata": {},
     "inputWidgets": {},
     "nuid": "a9ad8e02-ba64-4be4-9f4a-5754dda6c485",
     "showTitle": false,
     "tableResultSettingsMap": {},
     "title": ""
    }
   },
   "source": [
    "**Q28. You need to validate phone numbers by checking if they start with '91'**"
   ]
  },
  {
   "cell_type": "code",
   "execution_count": 0,
   "metadata": {
    "application/vnd.databricks.v1+cell": {
     "cellMetadata": {
      "byteLimit": 2048000,
      "rowLimit": 10000
     },
     "inputWidgets": {},
     "nuid": "28f311d2-f4aa-400d-ba17-5205dcaa9e44",
     "showTitle": false,
     "tableResultSettingsMap": {},
     "title": ""
    }
   },
   "outputs": [
    {
     "output_type": "display_data",
     "data": {
      "text/html": [
       "<style scoped>\n",
       "  .table-result-container {\n",
       "    max-height: 300px;\n",
       "    overflow: auto;\n",
       "  }\n",
       "  table, th, td {\n",
       "    border: 1px solid black;\n",
       "    border-collapse: collapse;\n",
       "  }\n",
       "  th, td {\n",
       "    padding: 5px;\n",
       "  }\n",
       "  th {\n",
       "    text-align: left;\n",
       "  }\n",
       "</style><div class='table-result-container'><table class='table-result'><thead style='background-color: white'><tr><th>phone_number</th></tr></thead><tbody><tr><td>9112345677</td></tr><tr><td>9123567890</td></tr></tbody></table></div>"
      ]
     },
     "metadata": {
      "application/vnd.databricks.v1+output": {
       "addedWidgets": {},
       "aggData": [],
       "aggError": "",
       "aggOverflow": false,
       "aggSchema": [],
       "aggSeriesLimitReached": false,
       "aggType": "",
       "arguments": {},
       "columnCustomDisplayInfos": {},
       "data": [
        [
         "9112345677"
        ],
        [
         "9123567890"
        ]
       ],
       "datasetInfos": [],
       "dbfsResultPath": null,
       "isJsonSchema": true,
       "metadata": {},
       "overflow": false,
       "plotOptions": {
        "customPlotOptions": {},
        "displayType": "table",
        "pivotAggregation": null,
        "pivotColumns": null,
        "xColumns": null,
        "yColumns": null
       },
       "removedWidgets": [],
       "schema": [
        {
         "metadata": "{}",
         "name": "phone_number",
         "type": "\"string\""
        }
       ],
       "type": "table"
      }
     },
     "output_type": "display_data"
    }
   ],
   "source": [
    "data = [\n",
    "    (\"9112345677\",),\n",
    "    (\"8112459879\",),\n",
    "    (\"9123567890\",)\n",
    "]\n",
    "\n",
    "schema = [\"phone_number\"]\n",
    "\n",
    "df_28 = spark.createDataFrame(data,schema)\n",
    "\n",
    "df_28.filter(substring(\"phone_number\",1,2) == \"91\").display()"
   ]
  },
  {
   "cell_type": "markdown",
   "metadata": {
    "application/vnd.databricks.v1+cell": {
     "cellMetadata": {},
     "inputWidgets": {},
     "nuid": "fef9be6c-aecd-430f-8f9e-0665ce50493f",
     "showTitle": false,
     "tableResultSettingsMap": {},
     "title": ""
    }
   },
   "source": [
    "**Q29. You have a dataset with courses taken by students. Calculate the average number of courses per student.**"
   ]
  },
  {
   "cell_type": "code",
   "execution_count": 0,
   "metadata": {
    "application/vnd.databricks.v1+cell": {
     "cellMetadata": {
      "byteLimit": 2048000,
      "rowLimit": 10000
     },
     "inputWidgets": {},
     "nuid": "321e9001-7b96-4326-ab48-a1ec2208c143",
     "showTitle": false,
     "tableResultSettingsMap": {},
     "title": ""
    }
   },
   "outputs": [
    {
     "output_type": "display_data",
     "data": {
      "text/html": [
       "<style scoped>\n",
       "  .table-result-container {\n",
       "    max-height: 300px;\n",
       "    overflow: auto;\n",
       "  }\n",
       "  table, th, td {\n",
       "    border: 1px solid black;\n",
       "    border-collapse: collapse;\n",
       "  }\n",
       "  th, td {\n",
       "    padding: 5px;\n",
       "  }\n",
       "  th {\n",
       "    text-align: left;\n",
       "  }\n",
       "</style><div class='table-result-container'><table class='table-result'><thead style='background-color: white'><tr><th>avg(courses)</th></tr></thead><tbody><tr><td>2.0</td></tr></tbody></table></div>"
      ]
     },
     "metadata": {
      "application/vnd.databricks.v1+output": {
       "addedWidgets": {},
       "aggData": [],
       "aggError": "",
       "aggOverflow": false,
       "aggSchema": [],
       "aggSeriesLimitReached": false,
       "aggType": "",
       "arguments": {},
       "columnCustomDisplayInfos": {},
       "data": [
        [
         2.0
        ]
       ],
       "datasetInfos": [],
       "dbfsResultPath": null,
       "isJsonSchema": true,
       "metadata": {},
       "overflow": false,
       "plotOptions": {
        "customPlotOptions": {},
        "displayType": "table",
        "pivotAggregation": null,
        "pivotColumns": null,
        "xColumns": null,
        "yColumns": null
       },
       "removedWidgets": [],
       "schema": [
        {
         "metadata": "{}",
         "name": "avg(courses)",
         "type": "\"double\""
        }
       ],
       "type": "table"
      }
     },
     "output_type": "display_data"
    }
   ],
   "source": [
    "data = [\n",
    "    (1, [\"Math\",\"Science\"]),\n",
    "    (2, [\"History\"]),\n",
    "    (3, [\"Art\",\"PE\",\"Biology\"])\n",
    "]\n",
    "\n",
    "schema = [\"student_id\",\"courses\"]\n",
    "\n",
    "df_29 = spark.createDataFrame(data,schema)\n",
    "\n",
    "df_29.withColumn(\"courses\",size(col(\"courses\"))).agg(avg(\"courses\")).display()"
   ]
  },
  {
   "cell_type": "markdown",
   "metadata": {
    "application/vnd.databricks.v1+cell": {
     "cellMetadata": {},
     "inputWidgets": {},
     "nuid": "db95c939-a2ce-427c-8489-ef8a120da2e5",
     "showTitle": false,
     "tableResultSettingsMap": {},
     "title": ""
    }
   },
   "source": [
    "**Q30. You have a dataset with primary and secondary contact numbers. Use the primary number if available, otherwise use the secondary contact.**"
   ]
  },
  {
   "cell_type": "code",
   "execution_count": 0,
   "metadata": {
    "application/vnd.databricks.v1+cell": {
     "cellMetadata": {
      "byteLimit": 2048000,
      "rowLimit": 10000
     },
     "inputWidgets": {},
     "nuid": "b3b35876-a04f-45de-822e-f6bb1a13882f",
     "showTitle": false,
     "tableResultSettingsMap": {},
     "title": ""
    }
   },
   "outputs": [
    {
     "output_type": "display_data",
     "data": {
      "text/html": [
       "<style scoped>\n",
       "  .table-result-container {\n",
       "    max-height: 300px;\n",
       "    overflow: auto;\n",
       "  }\n",
       "  table, th, td {\n",
       "    border: 1px solid black;\n",
       "    border-collapse: collapse;\n",
       "  }\n",
       "  th, td {\n",
       "    padding: 5px;\n",
       "  }\n",
       "  th {\n",
       "    text-align: left;\n",
       "  }\n",
       "</style><div class='table-result-container'><table class='table-result'><thead style='background-color: white'><tr><th>p_c</th><th>s_c</th><th>use_contact</th></tr></thead><tbody><tr><td>null</td><td>1234567890</td><td>1234567890</td></tr><tr><td>9876543210</td><td>null</td><td>9876543210</td></tr><tr><td>7891234579</td><td>8963638300</td><td>7891234579</td></tr></tbody></table></div>"
      ]
     },
     "metadata": {
      "application/vnd.databricks.v1+output": {
       "addedWidgets": {},
       "aggData": [],
       "aggError": "",
       "aggOverflow": false,
       "aggSchema": [],
       "aggSeriesLimitReached": false,
       "aggType": "",
       "arguments": {},
       "columnCustomDisplayInfos": {},
       "data": [
        [
         null,
         "1234567890",
         "1234567890"
        ],
        [
         "9876543210",
         null,
         "9876543210"
        ],
        [
         "7891234579",
         "8963638300",
         "7891234579"
        ]
       ],
       "datasetInfos": [],
       "dbfsResultPath": null,
       "isJsonSchema": true,
       "metadata": {},
       "overflow": false,
       "plotOptions": {
        "customPlotOptions": {},
        "displayType": "table",
        "pivotAggregation": null,
        "pivotColumns": null,
        "xColumns": null,
        "yColumns": null
       },
       "removedWidgets": [],
       "schema": [
        {
         "metadata": "{}",
         "name": "p_c",
         "type": "\"string\""
        },
        {
         "metadata": "{}",
         "name": "s_c",
         "type": "\"string\""
        },
        {
         "metadata": "{}",
         "name": "use_contact",
         "type": "\"string\""
        }
       ],
       "type": "table"
      }
     },
     "output_type": "display_data"
    }
   ],
   "source": [
    "data = [\n",
    "    (None,\"1234567890\"),\n",
    "    (\"9876543210\",None),\n",
    "    (\"7891234579\",(\"8963638300\"))\n",
    "]\n",
    "\n",
    "schema = [\"p_c\",\"s_c\"]\n",
    "\n",
    "df_30 = spark.createDataFrame(data,schema)\n",
    "\n",
    "df_30.select(\"p_c\",\"s_c\",coalesce(col(\"p_c\"),col(\"s_c\")).alias(\"use_contact\")).display()"
   ]
  },
  {
   "cell_type": "markdown",
   "metadata": {
    "application/vnd.databricks.v1+cell": {
     "cellMetadata": {},
     "inputWidgets": {},
     "nuid": "e781c3bf-e9dc-459e-9437-8fa03d718605",
     "showTitle": false,
     "tableResultSettingsMap": {},
     "title": ""
    }
   },
   "source": [
    "**Q31. You are categorizing product codes based on their lengths. If the length is 5, label it as \"Standard\". Otherwise , label it as \"custom\".**"
   ]
  },
  {
   "cell_type": "code",
   "execution_count": 0,
   "metadata": {
    "application/vnd.databricks.v1+cell": {
     "cellMetadata": {
      "byteLimit": 2048000,
      "rowLimit": 10000
     },
     "inputWidgets": {},
     "nuid": "d524c8ea-4df0-41cb-926b-2216c27935d5",
     "showTitle": false,
     "tableResultSettingsMap": {},
     "title": ""
    }
   },
   "outputs": [
    {
     "output_type": "display_data",
     "data": {
      "text/html": [
       "<style scoped>\n",
       "  .table-result-container {\n",
       "    max-height: 300px;\n",
       "    overflow: auto;\n",
       "  }\n",
       "  table, th, td {\n",
       "    border: 1px solid black;\n",
       "    border-collapse: collapse;\n",
       "  }\n",
       "  th, td {\n",
       "    padding: 5px;\n",
       "  }\n",
       "  th {\n",
       "    text-align: left;\n",
       "  }\n",
       "</style><div class='table-result-container'><table class='table-result'><thead style='background-color: white'><tr><th>product_code</th><th>label</th></tr></thead><tbody><tr><td>prod1</td><td>Custom</td></tr><tr><td>prod234</td><td>Standard</td></tr><tr><td>prod9876</td><td>Standard</td></tr></tbody></table></div>"
      ]
     },
     "metadata": {
      "application/vnd.databricks.v1+output": {
       "addedWidgets": {},
       "aggData": [],
       "aggError": "",
       "aggOverflow": false,
       "aggSchema": [],
       "aggSeriesLimitReached": false,
       "aggType": "",
       "arguments": {},
       "columnCustomDisplayInfos": {},
       "data": [
        [
         "prod1",
         "Custom"
        ],
        [
         "prod234",
         "Standard"
        ],
        [
         "prod9876",
         "Standard"
        ]
       ],
       "datasetInfos": [],
       "dbfsResultPath": null,
       "isJsonSchema": true,
       "metadata": {},
       "overflow": false,
       "plotOptions": {
        "customPlotOptions": {},
        "displayType": "table",
        "pivotAggregation": null,
        "pivotColumns": null,
        "xColumns": null,
        "yColumns": null
       },
       "removedWidgets": [],
       "schema": [
        {
         "metadata": "{}",
         "name": "product_code",
         "type": "\"string\""
        },
        {
         "metadata": "{}",
         "name": "label",
         "type": "\"string\""
        }
       ],
       "type": "table"
      }
     },
     "output_type": "display_data"
    }
   ],
   "source": [
    "data = [\n",
    "    (\"prod1\",),\n",
    "    (\"prod234\",),\n",
    "    (\"prod9876\",)\n",
    "]\n",
    "\n",
    "schema = [\"product_code\"]\n",
    "\n",
    "df_31 = spark.createDataFrame(data,schema)\n",
    "\n",
    "df_31.withColumn(\"label\", when(length(col(\"product_code\")) > 5 ,\"Standard\")\n",
    "                         .otherwise(\"Custom\")).display()"
   ]
  },
  {
   "cell_type": "code",
   "execution_count": 0,
   "metadata": {
    "application/vnd.databricks.v1+cell": {
     "cellMetadata": {},
     "inputWidgets": {},
     "nuid": "f398eb98-8abb-460f-9871-0edb2fd69c06",
     "showTitle": false,
     "tableResultSettingsMap": {},
     "title": ""
    }
   },
   "outputs": [],
   "source": []
  }
 ],
 "metadata": {
  "application/vnd.databricks.v1+notebook": {
   "computePreferences": null,
   "dashboards": [],
   "environmentMetadata": {
    "base_environment": "",
    "environment_version": "1"
   },
   "inputWidgetPreferences": null,
   "language": "python",
   "notebookMetadata": {
    "mostRecentlyExecutedCommandWithImplicitDF": {
     "commandId": 247464775329403,
     "dataframes": [
      "_sqldf"
     ]
    },
    "pythonIndentUnit": 4
   },
   "notebookName": "Pyspark Interview Questions -- Ansh Lamba",
   "widgets": {}
  }
 },
 "nbformat": 4,
 "nbformat_minor": 0
}