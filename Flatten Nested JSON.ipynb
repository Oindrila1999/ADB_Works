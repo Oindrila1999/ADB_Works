{
 "cells": [
  {
   "cell_type": "code",
   "execution_count": 0,
   "metadata": {
    "application/vnd.databricks.v1+cell": {
     "cellMetadata": {
      "byteLimit": 2048000,
      "rowLimit": 10000
     },
     "inputWidgets": {},
     "nuid": "b0494630-ec87-4420-84f2-db26b3512df7",
     "showTitle": false,
     "tableResultSettingsMap": {},
     "title": ""
    }
   },
   "outputs": [],
   "source": [
    "import pyspark\n",
    "from pyspark.sql import SparkSession\n",
    "from pyspark.sql.functions import *\n",
    "from pyspark.sql.types import *\n",
    "from pyspark.sql import *"
   ]
  },
  {
   "cell_type": "code",
   "execution_count": 0,
   "metadata": {
    "application/vnd.databricks.v1+cell": {
     "cellMetadata": {
      "byteLimit": 2048000,
      "rowLimit": 10000
     },
     "inputWidgets": {},
     "nuid": "c2f98fb3-49f4-4a55-b39b-56263269e609",
     "showTitle": false,
     "tableResultSettingsMap": {},
     "title": ""
    }
   },
   "outputs": [],
   "source": [
    "## Read nested json\n",
    "resturant_df = spark.read.format(\"json\") \\\n",
    "          .option(\"inferSchema\",\"True\") \\\n",
    "          .option(\"multiline\",\"True\") \\\n",
    "          .option(\"mode\",\"PERMISSIVE\") \\\n",
    "          .load(\"/FileStore/tables/resturant_json_data.json\")\n",
    "          \n",
    "resturant_df.printSchema()"
   ]
  },
  {
   "cell_type": "markdown",
   "metadata": {
    "application/vnd.databricks.v1+cell": {
     "cellMetadata": {},
     "inputWidgets": {},
     "nuid": "55750b9b-a32f-4223-8dfd-e6f12c88d039",
     "showTitle": false,
     "tableResultSettingsMap": {},
     "title": ""
    }
   },
   "source": [
    "# FLATTEN ARRAY TYPE COLUMN"
   ]
  },
  {
   "cell_type": "code",
   "execution_count": 0,
   "metadata": {
    "application/vnd.databricks.v1+cell": {
     "cellMetadata": {
      "byteLimit": 2048000,
      "rowLimit": 10000
     },
     "inputWidgets": {},
     "nuid": "61025b45-bdac-47e5-84eb-bc3d2fe500d7",
     "showTitle": false,
     "tableResultSettingsMap": {},
     "title": ""
    }
   },
   "outputs": [],
   "source": [
    "resturant_df.select(\"*\",explode(\"restaurants\").alias(\"flatten_resturant\")) \\\n",
    "            .drop(\"restaurants\") \\\n",
    "            .select(\"*\",explode_outer(\"flatten_resturant.restaurant.establishment_types\").alias(\"flatten_establishment\")) \\\n",
    "            .select(\"*\",explode_outer(\"flatten_resturant.restaurant.offers\").alias(\"new_flatten_offers\")) \\\n",
    "            .select(\"flatten_resturant.restaurant.R.res_id\",\"flatten_resturant.restaurant.name\",\"*\") \\\n",
    "            .drop(\"flatten_resturant\",\"code\",\"message\",\"results_found\",\"results_shown\",\"results_start\",\"status\",\"new_flatten_offers\") \\\n",
    "            .show()"
   ]
  },
  {
   "cell_type": "code",
   "execution_count": 0,
   "metadata": {
    "application/vnd.databricks.v1+cell": {
     "cellMetadata": {},
     "inputWidgets": {},
     "nuid": "37ab09f8-0089-4cea-babf-e6c5108f6b51",
     "showTitle": false,
     "tableResultSettingsMap": {},
     "title": ""
    }
   },
   "outputs": [],
   "source": []
  }
 ],
 "metadata": {
  "application/vnd.databricks.v1+notebook": {
   "computePreferences": null,
   "dashboards": [],
   "environmentMetadata": {
    "base_environment": "",
    "environment_version": "1"
   },
   "inputWidgetPreferences": null,
   "language": "python",
   "notebookMetadata": {
    "pythonIndentUnit": 4
   },
   "notebookName": "Flatten Nested JSON",
   "widgets": {}
  },
  "language_info": {
   "name": "python"
  }
 },
 "nbformat": 4,
 "nbformat_minor": 0
}