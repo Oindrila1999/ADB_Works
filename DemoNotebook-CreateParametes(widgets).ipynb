{
 "cells": [
  {
   "cell_type": "code",
   "execution_count": 0,
   "metadata": {
    "application/vnd.databricks.v1+cell": {
     "cellMetadata": {
      "byteLimit": 2048000,
      "rowLimit": 10000
     },
     "inputWidgets": {},
     "nuid": "ef3a66fc-f0b9-406b-a1ed-f4a47e89e14c",
     "showTitle": false,
     "tableResultSettingsMap": {},
     "title": ""
    }
   },
   "outputs": [],
   "source": [
    "dbutils.widgets.combobox(name=\"fruitsCB\",defaultValue=\"apple\",choices=[\"apple\",\"banana\",\"orange\"],label=\"Fruits Combobox\")\n",
    "dbutils.widgets.dropdown(name=\"fruitsDD\",defaultValue=\"apple\",choices=[\"apple\",\"banana\",\"orange\"],label=\"Fruits Dropdown\")\n",
    "dbutils.widgets.multiselect(name=\"fruitsMS\",defaultValue=\"apple\",choices=[\"apple\",\"banana\",\"orange\"],label=\"Fruits Multiselect\")\n",
    "dbutils.widgets.text(name=\"fruitsTB\",defaultValue=\"apple\",label=\"Fruits Textbox\")"
   ]
  },
  {
   "cell_type": "code",
   "execution_count": 0,
   "metadata": {
    "application/vnd.databricks.v1+cell": {
     "cellMetadata": {
      "byteLimit": 2048000,
      "rowLimit": 10000
     },
     "inputWidgets": {},
     "nuid": "d0960c90-d3bc-4c51-8b98-f7494274fbe7",
     "showTitle": false,
     "tableResultSettingsMap": {},
     "title": ""
    }
   },
   "outputs": [],
   "source": [
    "print(\"The combobox value is:\",dbutils.widgets.get(\"fruitsCB\"))\n",
    "print(\"The dropdown value is:\",dbutils.widgets.get(\"fruitsDD\"))\n",
    "print(\"The multiselect value is:\",dbutils.widgets.get(\"fruitsMS\")) \n",
    "print(\"The textbox value is:\",dbutils.widgets.get(\"fruitsTB\"))"
   ]
  },
  {
   "cell_type": "code",
   "execution_count": 0,
   "metadata": {
    "application/vnd.databricks.v1+cell": {
     "cellMetadata": {},
     "inputWidgets": {},
     "nuid": "d71fb3e4-b094-404f-8649-bfb05e1d3101",
     "showTitle": false,
     "tableResultSettingsMap": {},
     "title": ""
    }
   },
   "outputs": [],
   "source": []
  }
 ],
 "metadata": {
  "application/vnd.databricks.v1+notebook": {
   "computePreferences": null,
   "dashboards": [],
   "environmentMetadata": {
    "base_environment": "",
    "environment_version": "2"
   },
   "inputWidgetPreferences": null,
   "language": "python",
   "notebookMetadata": {
    "pythonIndentUnit": 4
   },
   "notebookName": "DemoNotebook-CreateParametes(widgets)",
   "widgets": {
    "fruitsCB": {
     "currentValue": "apple",
     "nuid": "51b3097c-6502-4736-84ed-ac2d0cf07505",
     "typedWidgetInfo": {
      "autoCreated": false,
      "defaultValue": "apple",
      "label": "Fruits Combobox",
      "name": "fruitsCB",
      "options": {
       "widgetDisplayType": "Dropdown",
       "choices": [
        "apple",
        "banana",
        "orange"
       ],
       "fixedDomain": false,
       "multiselect": false
      },
      "parameterDataType": "String"
     },
     "widgetInfo": {
      "widgetType": "combobox",
      "defaultValue": "apple",
      "label": "Fruits Combobox",
      "name": "fruitsCB",
      "options": {
       "widgetType": "dropdown",
       "autoCreated": null,
       "choices": [
        "apple",
        "banana",
        "orange"
       ]
      }
     }
    },
    "fruitsDD": {
     "currentValue": "apple",
     "nuid": "97fd28ac-0f0e-4daf-b619-70d8364bf9e8",
     "typedWidgetInfo": {
      "autoCreated": false,
      "defaultValue": "apple",
      "label": "Fruits Dropdown",
      "name": "fruitsDD",
      "options": {
       "widgetDisplayType": "Dropdown",
       "choices": [
        "apple",
        "banana",
        "orange"
       ],
       "fixedDomain": true,
       "multiselect": false
      },
      "parameterDataType": "String"
     },
     "widgetInfo": {
      "widgetType": "dropdown",
      "defaultValue": "apple",
      "label": "Fruits Dropdown",
      "name": "fruitsDD",
      "options": {
       "widgetType": "dropdown",
       "autoCreated": null,
       "choices": [
        "apple",
        "banana",
        "orange"
       ]
      }
     }
    },
    "fruitsMS": {
     "currentValue": "apple,banana,orange",
     "nuid": "f7037fc4-6f5f-4edd-b737-4fe9c5a7909f",
     "typedWidgetInfo": {
      "autoCreated": false,
      "defaultValue": "apple",
      "label": "Fruits Multiselect",
      "name": "fruitsMS",
      "options": {
       "widgetDisplayType": "Dropdown",
       "choices": [
        "apple",
        "banana",
        "orange"
       ],
       "fixedDomain": true,
       "multiselect": true
      },
      "parameterDataType": "String"
     },
     "widgetInfo": {
      "widgetType": "multiselect",
      "defaultValue": "apple",
      "label": "Fruits Multiselect",
      "name": "fruitsMS",
      "options": {
       "widgetType": "dropdown",
       "autoCreated": null,
       "choices": [
        "apple",
        "banana",
        "orange"
       ]
      }
     }
    },
    "fruitsTB": {
     "currentValue": "apple",
     "nuid": "41e84fcf-221d-4e08-90e3-40c73e3b11b6",
     "typedWidgetInfo": {
      "autoCreated": false,
      "defaultValue": "apple",
      "label": "Fruits Textbox",
      "name": "fruitsTB",
      "options": {
       "widgetDisplayType": "Text",
       "validationRegex": null
      },
      "parameterDataType": "String"
     },
     "widgetInfo": {
      "widgetType": "text",
      "defaultValue": "apple",
      "label": "Fruits Textbox",
      "name": "fruitsTB",
      "options": {
       "widgetType": "text",
       "autoCreated": false,
       "validationRegex": null
      }
     }
    }
   }
  },
  "language_info": {
   "name": "python"
  }
 },
 "nbformat": 4,
 "nbformat_minor": 0
}