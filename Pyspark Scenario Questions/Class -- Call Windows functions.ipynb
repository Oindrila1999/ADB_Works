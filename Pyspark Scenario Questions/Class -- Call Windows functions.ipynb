{
 "cells": [
  {
   "cell_type": "code",
   "execution_count": 0,
   "metadata": {
    "application/vnd.databricks.v1+cell": {
     "cellMetadata": {
      "byteLimit": 2048000,
      "rowLimit": 10000
     },
     "inputWidgets": {},
     "nuid": "fd0346a4-122c-4d30-b510-82ac3cebc2b3",
     "showTitle": false,
     "tableResultSettingsMap": {},
     "title": ""
    }
   },
   "outputs": [],
   "source": [
    "from pyspark.sql.window import Window\n",
    "from pyspark.sql.functions import *\n",
    "from pyspark.sql.types import *\n",
    "from pyspark.sql import *"
   ]
  },
  {
   "cell_type": "code",
   "execution_count": 0,
   "metadata": {
    "application/vnd.databricks.v1+cell": {
     "cellMetadata": {
      "byteLimit": 2048000,
      "rowLimit": 10000
     },
     "inputWidgets": {},
     "nuid": "961cad20-675e-4f4c-a3e6-575268fc0ce6",
     "showTitle": false,
     "tableResultSettingsMap": {},
     "title": ""
    }
   },
   "outputs": [],
   "source": [
    "class callWindows:\n",
    "    def __init__(self,df):\n",
    "        self.df = df\n",
    "\n",
    "    def dense_rank_func(self,new_col,partition_col,order_col):\n",
    "        window = Window.partitionBy(partition_col).orderBy(desc(order_col))\n",
    "        self.df = self.df.withColumn(new_col,dense_rank().over(window))\n",
    "        return self.df\n",
    "    \n",
    "    def rank_func(self,new_col,partition_col,order_col):\n",
    "        window = Window.partitionBy(partition_col).orderBy(desc(order_col))\n",
    "        self.df = self.df.withColumn(new_col,rank().over(window))\n",
    "        return self.df   \n",
    "\n",
    "    def row_number_func(self,new_col,partition_col,order_col):\n",
    "        window = Window.partitionBy(partition_col).orderBy(desc(order_col))\n",
    "        self.df = self.df.withColumn(new_col,row_number().over(window))\n",
    "        return self.df   \n",
    "\n",
    "partition_col = input(\"Enter the column by which want to partition: \")\n",
    "order_col = input(\"Enter the column by which want to order: \")\n",
    "new_col = input(\"Enter the new column name: \")\n",
    "file_name = input(\"Enter the file name: \")\n",
    "\n",
    "df = spark.read.format('csv') \\\n",
    "                    .option('header','true') \\\n",
    "                    .option('inferSchema','true') \\\n",
    "                    .load(f'/FileStore/{file_name}')"
   ]
  },
  {
   "cell_type": "code",
   "execution_count": 0,
   "metadata": {
    "application/vnd.databricks.v1+cell": {
     "cellMetadata": {},
     "inputWidgets": {},
     "nuid": "b87f10f2-a840-48d0-b19a-902488319750",
     "showTitle": false,
     "tableResultSettingsMap": {},
     "title": ""
    }
   },
   "outputs": [],
   "source": []
  }
 ],
 "metadata": {
  "application/vnd.databricks.v1+notebook": {
   "computePreferences": null,
   "dashboards": [],
   "environmentMetadata": {
    "base_environment": "",
    "environment_version": "2"
   },
   "inputWidgetPreferences": null,
   "language": "python",
   "notebookMetadata": {
    "pythonIndentUnit": 4
   },
   "notebookName": "Class -- Call Windows functions",
   "widgets": {}
  },
  "language_info": {
   "name": "python"
  }
 },
 "nbformat": 4,
 "nbformat_minor": 0
}
