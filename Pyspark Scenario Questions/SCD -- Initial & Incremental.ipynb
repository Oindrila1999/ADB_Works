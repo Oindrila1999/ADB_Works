{
 "cells": [
  {
   "cell_type": "markdown",
   "metadata": {
    "application/vnd.databricks.v1+cell": {
     "cellMetadata": {},
     "inputWidgets": {},
     "nuid": "cc8c7175-cb16-47ac-97aa-166f6f590e98",
     "showTitle": false,
     "tableResultSettingsMap": {},
     "title": ""
    }
   },
   "source": [
    "### IMPORT LIBRARIES"
   ]
  },
  {
   "cell_type": "code",
   "execution_count": 0,
   "metadata": {
    "application/vnd.databricks.v1+cell": {
     "cellMetadata": {
      "byteLimit": 2048000,
      "rowLimit": 10000
     },
     "inputWidgets": {},
     "nuid": "cd645f2f-572d-4193-8e06-19e17c149340",
     "showTitle": false,
     "tableResultSettingsMap": {},
     "title": ""
    }
   },
   "outputs": [],
   "source": [
    "from pyspark.sql.functions import *\n",
    "from pyspark.sql.types import *\n",
    "from pyspark.sql import *\n",
    "from delta.tables import DeltaTable"
   ]
  },
  {
   "cell_type": "markdown",
   "metadata": {
    "application/vnd.databricks.v1+cell": {
     "cellMetadata": {},
     "inputWidgets": {},
     "nuid": "0fbbd75f-97c6-42e1-a99f-dba7964b105a",
     "showTitle": false,
     "tableResultSettingsMap": {},
     "title": ""
    }
   },
   "source": [
    "### READ DATA"
   ]
  },
  {
   "cell_type": "code",
   "execution_count": 0,
   "metadata": {
    "application/vnd.databricks.v1+cell": {
     "cellMetadata": {
      "byteLimit": 2048000,
      "rowLimit": 10000
     },
     "inputWidgets": {},
     "nuid": "7686c7e8-4b88-4abb-82eb-3aaa21a9d805",
     "showTitle": false,
     "tableResultSettingsMap": {},
     "title": ""
    }
   },
   "outputs": [],
   "source": [
    "src_df = spark.read.format('csv') \\\n",
    "                 .option(\"header\",\"true\") \\\n",
    "                 .option(\"inferSchema\",\"true\") \\\n",
    "                 .load('/FileStore/SCDsrc')\n",
    "\n",
    "src_df.display()"
   ]
  },
  {
   "cell_type": "markdown",
   "metadata": {
    "application/vnd.databricks.v1+cell": {
     "cellMetadata": {},
     "inputWidgets": {},
     "nuid": "e479c733-1132-4c6b-bbb1-659d66be531c",
     "showTitle": false,
     "tableResultSettingsMap": {},
     "title": ""
    }
   },
   "source": [
    "### TRANSFORMED DATA"
   ]
  },
  {
   "cell_type": "code",
   "execution_count": 0,
   "metadata": {
    "application/vnd.databricks.v1+cell": {
     "cellMetadata": {
      "byteLimit": 2048000,
      "rowLimit": 10000
     },
     "inputWidgets": {},
     "nuid": "70e6cd72-491b-4698-8a22-b9799f9c488e",
     "showTitle": false,
     "tableResultSettingsMap": {},
     "title": ""
    }
   },
   "outputs": [],
   "source": [
    "src_df = src_df.select('p_id','p_name','p_category','update_dt').filter(col('p_id').isNotNull())\n",
    "src_df.display()"
   ]
  },
  {
   "cell_type": "markdown",
   "metadata": {
    "application/vnd.databricks.v1+cell": {
     "cellMetadata": {},
     "inputWidgets": {},
     "nuid": "d1486c15-a7bd-47d5-81e3-8346f655bde3",
     "showTitle": false,
     "tableResultSettingsMap": {},
     "title": ""
    }
   },
   "source": [
    "### CREATE WIDGET"
   ]
  },
  {
   "cell_type": "code",
   "execution_count": 0,
   "metadata": {
    "application/vnd.databricks.v1+cell": {
     "cellMetadata": {
      "byteLimit": 2048000,
      "rowLimit": 10000
     },
     "inputWidgets": {},
     "nuid": "712d2ef2-27ab-4f2c-adf2-595269f55e85",
     "showTitle": false,
     "tableResultSettingsMap": {},
     "title": ""
    }
   },
   "outputs": [],
   "source": [
    "dbutils.widgets.text(\"initial_run\",\"0\")"
   ]
  },
  {
   "cell_type": "markdown",
   "metadata": {
    "application/vnd.databricks.v1+cell": {
     "cellMetadata": {},
     "inputWidgets": {},
     "nuid": "3b6f7013-ab39-4db6-8d34-c5c46ab1e1a9",
     "showTitle": false,
     "tableResultSettingsMap": {},
     "title": ""
    }
   },
   "source": [
    "### WRITE DATA INTO DELTA TABLE"
   ]
  },
  {
   "cell_type": "code",
   "execution_count": 0,
   "metadata": {
    "application/vnd.databricks.v1+cell": {
     "cellMetadata": {
      "byteLimit": 2048000,
      "rowLimit": 10000
     },
     "inputWidgets": {},
     "nuid": "b0f8a542-b793-4d97-b4d4-30d248da3ec9",
     "showTitle": false,
     "tableResultSettingsMap": {},
     "title": ""
    }
   },
   "outputs": [],
   "source": [
    "if dbutils.widgets.get(\"initial_run\") == \"1\":\n",
    "\n",
    "    deltatable = DeltaTable.forPath(spark, '/FileStore/SCDdest/prod_dim')\n",
    "\n",
    "    deltatable.alias('dest').merge(src_df.alias('src'),\"dest.p_id = src.p_id and dest.flag = 'Y' and dest.end_date is null\" ) \\\n",
    "                            .whenMatchedUpdate(\n",
    "                                condition = \"src.p_name != dest.p_name or src.p_category != dest.p_category\",\n",
    "                                set = {\n",
    "                                    \"end_date\" : col('src.update_dt').cast('date'),\n",
    "                                    \"flag\" : lit('N')\n",
    "                                }\n",
    "                            ) \\\n",
    "                            .whenNotMatchedInsert(\n",
    "                                values = {\n",
    "                                    \"p_id\" : col('src.p_id'),\n",
    "                                    \"p_name\" : col('src.p_name'),\n",
    "                                    \"p_category\" : col('src.p_category'),\n",
    "                                    \"update_dt\" : col('src.update_dt'),\n",
    "                                    \"start_date\" : col('src.update_dt'),\n",
    "                                    \"end_date\" : lit(None).cast(\"date\"),\n",
    "                                    \"flag\" : lit(\"Y\")\n",
    "                                }\n",
    "                            ) \\\n",
    "                            .execute()\n",
    "\n",
    "else:\n",
    "    intial_df = src_df.withColumn(\"start_date\", col('update_dt')) \\\n",
    "                           .withColumn(\"end_date\", lit(None).cast(\"date\")) \\\n",
    "                           .withColumn(\"flag\", lit(\"Y\"))\n",
    "\n",
    "    intial_df.write.format('delta') \\\n",
    "            .mode('overwrite') \\\n",
    "            .option('path','/FileStore/SCDdest/prod_dim') \\\n",
    "            .saveAsTable('Product_dim')"
   ]
  },
  {
   "cell_type": "code",
   "execution_count": 0,
   "metadata": {
    "application/vnd.databricks.v1+cell": {
     "cellMetadata": {
      "byteLimit": 2048000,
      "rowLimit": 10000
     },
     "inputWidgets": {},
     "nuid": "f3991e9a-312a-41c9-af9e-c2b3ff7a77b9",
     "showTitle": false,
     "tableResultSettingsMap": {},
     "title": ""
    }
   },
   "outputs": [],
   "source": [
    "src_df.createOrReplaceTempView('src_table')"
   ]
  },
  {
   "cell_type": "code",
   "execution_count": 0,
   "metadata": {
    "application/vnd.databricks.v1+cell": {
     "cellMetadata": {
      "byteLimit": 2048000,
      "implicitDf": true,
      "rowLimit": 10000
     },
     "inputWidgets": {},
     "nuid": "763e19c1-19a1-4daa-9814-9389f4a8c795",
     "showTitle": false,
     "tableResultSettingsMap": {},
     "title": ""
    }
   },
   "outputs": [],
   "source": [
    "%sql\n",
    "INSERT INTO Product_dim\n",
    "SELECT\n",
    "  s.p_id,\n",
    "  s.p_name,\n",
    "  s.p_category,\n",
    "  s.update_dt,\n",
    "  s.update_dt as start_date,\n",
    "  NULL as end_date,\n",
    "  'Y' as flag\n",
    "FROM src_table s\n",
    "LEFT JOIN Product_dim p\n",
    "ON s.p_id = p.p_id\n",
    "WHERE p.flag = 'N'"
   ]
  },
  {
   "cell_type": "markdown",
   "metadata": {
    "application/vnd.databricks.v1+cell": {
     "cellMetadata": {},
     "inputWidgets": {},
     "nuid": "56c2a3a5-8ce9-43ac-8c73-b0caacae4cce",
     "showTitle": false,
     "tableResultSettingsMap": {},
     "title": ""
    }
   },
   "source": [
    "### CHECK DATA"
   ]
  },
  {
   "cell_type": "code",
   "execution_count": 0,
   "metadata": {
    "application/vnd.databricks.v1+cell": {
     "cellMetadata": {
      "byteLimit": 2048000,
      "implicitDf": true,
      "rowLimit": 10000
     },
     "inputWidgets": {},
     "nuid": "4a7eba35-17b8-4ba4-a0ba-fc16386b9e3d",
     "showTitle": false,
     "tableResultSettingsMap": {},
     "title": ""
    }
   },
   "outputs": [],
   "source": [
    "%sql\n",
    "select * from Product_dim order by p_id asc,update_dt desc"
   ]
  },
  {
   "cell_type": "markdown",
   "metadata": {
    "application/vnd.databricks.v1+cell": {
     "cellMetadata": {},
     "inputWidgets": {},
     "nuid": "a6e7a9d6-d298-48e6-897a-3dec766670fa",
     "showTitle": false,
     "tableResultSettingsMap": {},
     "title": ""
    }
   },
   "source": [
    "### DELETE FILE AFTER EACH RUN"
   ]
  },
  {
   "cell_type": "code",
   "execution_count": 0,
   "metadata": {
    "application/vnd.databricks.v1+cell": {
     "cellMetadata": {
      "byteLimit": 2048000,
      "rowLimit": 10000
     },
     "inputWidgets": {},
     "nuid": "9b0946c7-0995-4166-a968-29b8157a5bb9",
     "showTitle": false,
     "tableResultSettingsMap": {},
     "title": ""
    }
   },
   "outputs": [],
   "source": [
    "dbutils.fs.rm('/FileStore/SCDsrc',True)"
   ]
  }
 ],
 "metadata": {
  "application/vnd.databricks.v1+notebook": {
   "computePreferences": null,
   "dashboards": [],
   "environmentMetadata": {
    "base_environment": "",
    "environment_version": "2"
   },
   "inputWidgetPreferences": null,
   "language": "python",
   "notebookMetadata": {
    "mostRecentlyExecutedCommandWithImplicitDF": {
     "commandId": 8734420950868170,
     "dataframes": [
      "_sqldf"
     ]
    },
    "pythonIndentUnit": 4
   },
   "notebookName": "SCD -- Initial & Incremental",
   "widgets": {
    "initial_run": {
     "currentValue": "1",
     "nuid": "3dd795c6-2234-40c4-9fc7-c26cab162efc",
     "typedWidgetInfo": {
      "autoCreated": false,
      "defaultValue": "0",
      "label": null,
      "name": "initial_run",
      "options": {
       "widgetDisplayType": "Text",
       "validationRegex": null
      },
      "parameterDataType": "String"
     },
     "widgetInfo": {
      "widgetType": "text",
      "defaultValue": "0",
      "label": null,
      "name": "initial_run",
      "options": {
       "widgetType": "text",
       "autoCreated": null,
       "validationRegex": null
      }
     }
    }
   }
  },
  "language_info": {
   "name": "python"
  }
 },
 "nbformat": 4,
 "nbformat_minor": 0
}
