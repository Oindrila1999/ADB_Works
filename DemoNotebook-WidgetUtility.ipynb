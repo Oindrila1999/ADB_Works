{
 "cells": [
  {
   "cell_type": "code",
   "execution_count": 0,
   "metadata": {
    "application/vnd.databricks.v1+cell": {
     "cellMetadata": {
      "byteLimit": 2048000,
      "rowLimit": 10000
     },
     "inputWidgets": {},
     "nuid": "c51f7ad1-1eb6-4baa-ab13-ab4fd829e26f",
     "showTitle": false,
     "tableResultSettingsMap": {},
     "title": ""
    }
   },
   "outputs": [],
   "source": [
    "dbutils.help()"
   ]
  },
  {
   "cell_type": "code",
   "execution_count": 0,
   "metadata": {
    "application/vnd.databricks.v1+cell": {
     "cellMetadata": {
      "byteLimit": 2048000,
      "rowLimit": 10000
     },
     "inputWidgets": {},
     "nuid": "fa3764f1-1cd9-4ea3-a931-d349fa29185e",
     "showTitle": false,
     "tableResultSettingsMap": {},
     "title": ""
    }
   },
   "outputs": [],
   "source": [
    "## Widgets--useful for parameterize notebooks\n",
    "dbutils.widgets.help()"
   ]
  },
  {
   "cell_type": "code",
   "execution_count": 0,
   "metadata": {
    "application/vnd.databricks.v1+cell": {
     "cellMetadata": {
      "byteLimit": 2048000,
      "rowLimit": 10000
     },
     "inputWidgets": {},
     "nuid": "05c32fb0-6359-421f-a3d5-42b13c37ff4a",
     "showTitle": false,
     "tableResultSettingsMap": {},
     "title": ""
    }
   },
   "outputs": [],
   "source": [
    "## create combobox\n",
    "dbutils.widgets.combobox(name=\"frutisCB\",defaultValue=\"apple\",choices=[\"apple\",\"banana\",\"orange\"],label=\"Fruits Combobox\")"
   ]
  },
  {
   "cell_type": "code",
   "execution_count": 0,
   "metadata": {
    "application/vnd.databricks.v1+cell": {
     "cellMetadata": {
      "byteLimit": 2048000,
      "rowLimit": 10000
     },
     "inputWidgets": {},
     "nuid": "df53932c-272f-4911-b5a4-8af90a758f5e",
     "showTitle": false,
     "tableResultSettingsMap": {},
     "title": ""
    }
   },
   "outputs": [],
   "source": [
    "## create dropdown\n",
    "dbutils.widgets.dropdown(name=\"frutisDD\",defaultValue=\"apple\",choices=[\"apple\",\"banana\",\"orange\"],label=\"Fruits Dropdown\")"
   ]
  },
  {
   "cell_type": "code",
   "execution_count": 0,
   "metadata": {
    "application/vnd.databricks.v1+cell": {
     "cellMetadata": {
      "byteLimit": 2048000,
      "rowLimit": 10000
     },
     "inputWidgets": {},
     "nuid": "6bfd7ee0-225c-4229-b67e-02e1e690612d",
     "showTitle": false,
     "tableResultSettingsMap": {},
     "title": ""
    }
   },
   "outputs": [],
   "source": [
    "## create text\n",
    "dbutils.widgets.text(name=\"frutisTT\",defaultValue=\"apple\",label=\"Fruits Textbox\")"
   ]
  },
  {
   "cell_type": "code",
   "execution_count": 0,
   "metadata": {
    "application/vnd.databricks.v1+cell": {
     "cellMetadata": {},
     "inputWidgets": {},
     "nuid": "7ccfc5fe-b22f-4a3b-b596-d981127b7ce1",
     "showTitle": false,
     "tableResultSettingsMap": {},
     "title": ""
    }
   },
   "outputs": [],
   "source": [
    "## create text\n",
    "dbutils.widgets.multiselect(name=\"frutisMS\",defaultValue=\"apple\",choices=[\"apple\",\"banana\",\"orange\"],label=\"Fruits Multiselect\")"
   ]
  },
  {
   "cell_type": "code",
   "execution_count": 0,
   "metadata": {
    "application/vnd.databricks.v1+cell": {
     "cellMetadata": {
      "byteLimit": 2048000,
      "rowLimit": 10000
     },
     "inputWidgets": {},
     "nuid": "b61a46ae-9dcc-466c-88e5-5a61b8dc2005",
     "showTitle": false,
     "tableResultSettingsMap": {},
     "title": ""
    }
   },
   "outputs": [],
   "source": [
    "## get the values of widgets\n",
    "print(\"the value of combobox is:\" , dbutils.widgets.get(\"frutisCB\"))\n",
    "print(\"the value of dropdown is:\" , dbutils.widgets.get(\"frutisDD\"))\n",
    "print(\"the value of multiselect is:\" , dbutils.widgets.get(\"frutisMS\"))\n",
    "print(\"the value of textbox is:\" , dbutils.widgets.get(\"frutisTT\"))"
   ]
  },
  {
   "cell_type": "code",
   "execution_count": 0,
   "metadata": {
    "application/vnd.databricks.v1+cell": {
     "cellMetadata": {
      "byteLimit": 2048000,
      "rowLimit": 10000
     },
     "inputWidgets": {},
     "nuid": "432c32ca-fc9b-4918-b8c6-cc3c2643e6d7",
     "showTitle": false,
     "tableResultSettingsMap": {},
     "title": ""
    }
   },
   "outputs": [],
   "source": [
    "## remove a widget\n",
    "dbutils.widgets.remove(\"frutisTT\")"
   ]
  },
  {
   "cell_type": "code",
   "execution_count": 0,
   "metadata": {
    "application/vnd.databricks.v1+cell": {
     "cellMetadata": {},
     "inputWidgets": {},
     "nuid": "9d290e15-a192-4946-9a33-40c242581208",
     "showTitle": false,
     "tableResultSettingsMap": {},
     "title": ""
    }
   },
   "outputs": [],
   "source": []
  }
 ],
 "metadata": {
  "application/vnd.databricks.v1+notebook": {
   "computePreferences": null,
   "dashboards": [],
   "environmentMetadata": {
    "base_environment": "",
    "environment_version": "2"
   },
   "inputWidgetPreferences": null,
   "language": "python",
   "notebookMetadata": {
    "pythonIndentUnit": 4
   },
   "notebookName": "DemoNotebook-WidgetUtility",
   "widgets": {
    "frutisCB": {
     "currentValue": "kiwi",
     "nuid": "2359ff04-97c1-4cf9-a11c-79fcb32ded3c",
     "typedWidgetInfo": {
      "autoCreated": false,
      "defaultValue": "apple",
      "label": "Fruits Combobox",
      "name": "frutisCB",
      "options": {
       "widgetDisplayType": "Dropdown",
       "choices": [
        "apple",
        "banana",
        "orange"
       ],
       "fixedDomain": false,
       "multiselect": false
      },
      "parameterDataType": "String"
     },
     "widgetInfo": {
      "widgetType": "combobox",
      "defaultValue": "apple",
      "label": "Fruits Combobox",
      "name": "frutisCB",
      "options": {
       "widgetType": "dropdown",
       "autoCreated": false,
       "choices": [
        "apple",
        "banana",
        "orange"
       ]
      }
     }
    },
    "frutisDD": {
     "currentValue": "orange",
     "nuid": "464ef033-66d9-4a8d-895a-7262b5a16d62",
     "typedWidgetInfo": {
      "autoCreated": false,
      "defaultValue": "apple",
      "label": "Fruits Dropdown",
      "name": "frutisDD",
      "options": {
       "widgetDisplayType": "Dropdown",
       "choices": [
        "apple",
        "banana",
        "orange"
       ],
       "fixedDomain": true,
       "multiselect": false
      },
      "parameterDataType": "String"
     },
     "widgetInfo": {
      "widgetType": "dropdown",
      "defaultValue": "apple",
      "label": "Fruits Dropdown",
      "name": "frutisDD",
      "options": {
       "widgetType": "dropdown",
       "autoCreated": false,
       "choices": [
        "apple",
        "banana",
        "orange"
       ]
      }
     }
    },
    "frutisMS": {
     "currentValue": "apple,banana",
     "nuid": "fda8b1f6-3776-4689-bad1-f2c7bca45178",
     "typedWidgetInfo": {
      "autoCreated": false,
      "defaultValue": "apple",
      "label": "Fruits Multiselect",
      "name": "frutisMS",
      "options": {
       "widgetDisplayType": "Dropdown",
       "choices": [
        "apple",
        "banana",
        "orange"
       ],
       "fixedDomain": true,
       "multiselect": true
      },
      "parameterDataType": "String"
     },
     "widgetInfo": {
      "widgetType": "multiselect",
      "defaultValue": "apple",
      "label": "Fruits Multiselect",
      "name": "frutisMS",
      "options": {
       "widgetType": "dropdown",
       "autoCreated": false,
       "choices": [
        "apple",
        "banana",
        "orange"
       ]
      }
     }
    }
   }
  },
  "language_info": {
   "name": "python"
  }
 },
 "nbformat": 4,
 "nbformat_minor": 0
}