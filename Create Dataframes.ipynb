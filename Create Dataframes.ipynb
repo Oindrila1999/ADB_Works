{
 "cells": [
  {
   "cell_type": "code",
   "execution_count": 0,
   "metadata": {
    "application/vnd.databricks.v1+cell": {
     "cellMetadata": {},
     "inputWidgets": {},
     "nuid": "e2d34992-6b23-4427-a2cc-d75dee592b31",
     "showTitle": false,
     "tableResultSettingsMap": {},
     "title": ""
    }
   },
   "outputs": [],
   "source": [
    "import pyspark\n",
    "from pyspark.sql import SparkSession\n",
    "from pyspark.sql.functions import *\n",
    "from pyspark.sql.types import *\n",
    "from pyspark.sql import *"
   ]
  },
  {
   "cell_type": "code",
   "execution_count": 0,
   "metadata": {
    "application/vnd.databricks.v1+cell": {
     "cellMetadata": {},
     "inputWidgets": {},
     "nuid": "66f56ade-691d-46f7-93dd-a209df61e202",
     "showTitle": false,
     "tableResultSettingsMap": {},
     "title": ""
    }
   },
   "outputs": [],
   "source": [
    "## Create dataframe\n",
    "\n",
    "data = [\n",
    "        (1   ,1),\n",
    "        (2   ,1),\n",
    "        (3   ,1),\n",
    "        (4   ,2),\n",
    "        (5   ,1),\n",
    "        (6   ,2),\n",
    "        (7   ,2)\n",
    "] \n",
    "\n",
    "schema = [\"id\",\"num\"]\n",
    "\n",
    "new_df = spark.createDataFrame(data,schema)\n",
    "\n",
    "new_df.show()"
   ]
  },
  {
   "cell_type": "markdown",
   "metadata": {
    "application/vnd.databricks.v1+cell": {
     "cellMetadata": {},
     "inputWidgets": {},
     "nuid": "d34d1ddc-9e12-4695-9e42-c4746acb2ed7",
     "showTitle": false,
     "tableResultSettingsMap": {},
     "title": ""
    }
   },
   "source": [
    "Different types to select columns"
   ]
  },
  {
   "cell_type": "code",
   "execution_count": 0,
   "metadata": {
    "application/vnd.databricks.v1+cell": {
     "cellMetadata": {},
     "inputWidgets": {},
     "nuid": "0107c16f-0f71-4dc8-a9ed-f18c494c0481",
     "showTitle": false,
     "tableResultSettingsMap": {},
     "title": ""
    }
   },
   "outputs": [],
   "source": [
    "## Different ways to select column\n",
    "\n",
    "read_df.select(\"*\").show()\n",
    "read_df.select(\"id\").show()\n",
    "read_df.select(col(\"name\")).show()\n",
    "read_df.select(read_df[\"age\"]).show()\n",
    "read_df.select(read_df.address).show()\n",
    "\n",
    "## Different ways to select multiple column\n",
    "\n",
    "read_df.select(\"id\",col(\"name\"),read_df[\"age\"],read_df.address).show()\n",
    "\n",
    "## to apply any manipulation\n",
    "read_df.select(col(\"age\")+2).show()"
   ]
  },
  {
   "cell_type": "markdown",
   "metadata": {
    "application/vnd.databricks.v1+cell": {
     "cellMetadata": {},
     "inputWidgets": {},
     "nuid": "c7c1bbda-90a4-4a15-ad8b-e0c5779416ed",
     "showTitle": false,
     "tableResultSettingsMap": {},
     "title": ""
    }
   },
   "source": [
    "Use expression to select columns"
   ]
  },
  {
   "cell_type": "code",
   "execution_count": 0,
   "metadata": {
    "application/vnd.databricks.v1+cell": {
     "cellMetadata": {},
     "inputWidgets": {},
     "nuid": "106370d3-b813-43c1-be77-e0eaea5d131f",
     "showTitle": false,
     "tableResultSettingsMap": {},
     "title": ""
    }
   },
   "outputs": [],
   "source": [
    "## Use of expression\n",
    "\n",
    "read_df.select(expr(\"id as emp_id\"),expr(\"age + 5 as new_age\"),expr(\"concat(name,' ',address) as concat_col\")).show()"
   ]
  },
  {
   "cell_type": "markdown",
   "metadata": {
    "application/vnd.databricks.v1+cell": {
     "cellMetadata": {},
     "inputWidgets": {},
     "nuid": "8f977f17-4fe1-4f27-9eff-383f70144e20",
     "showTitle": false,
     "tableResultSettingsMap": {},
     "title": ""
    }
   },
   "source": [
    "Spark SQL"
   ]
  },
  {
   "cell_type": "code",
   "execution_count": 0,
   "metadata": {
    "application/vnd.databricks.v1+cell": {
     "cellMetadata": {},
     "inputWidgets": {},
     "nuid": "ddad6465-4c4e-4544-82d7-a8204d206639",
     "showTitle": false,
     "tableResultSettingsMap": {},
     "title": ""
    }
   },
   "outputs": [],
   "source": [
    "## To write we need to convert dataframe into table\n",
    "\n",
    "read_df.createOrReplaceTempView(\"emp_table\")"
   ]
  },
  {
   "cell_type": "code",
   "execution_count": 0,
   "metadata": {
    "application/vnd.databricks.v1+cell": {
     "cellMetadata": {},
     "inputWidgets": {},
     "nuid": "baa64e8e-35c8-4f7c-a0fd-7a3d8f7e6c83",
     "showTitle": false,
     "tableResultSettingsMap": {},
     "title": ""
    }
   },
   "outputs": [],
   "source": [
    "%sql\n",
    "select * from emp_table"
   ]
  },
  {
   "cell_type": "code",
   "execution_count": 0,
   "metadata": {
    "application/vnd.databricks.v1+cell": {
     "cellMetadata": {},
     "inputWidgets": {},
     "nuid": "586fa859-ee86-43ab-b8d8-4c8c3de3753f",
     "showTitle": false,
     "tableResultSettingsMap": {},
     "title": ""
    }
   },
   "outputs": [],
   "source": [
    "spark.sql('''\n",
    "          select id,name,age from emp_table\n",
    "          ''').show()"
   ]
  }
 ],
 "metadata": {
  "application/vnd.databricks.v1+notebook": {
   "computePreferences": null,
   "dashboards": [],
   "environmentMetadata": {
    "base_environment": "",
    "environment_version": "1"
   },
   "inputWidgetPreferences": null,
   "language": "python",
   "notebookMetadata": {
    "pythonIndentUnit": 4
   },
   "notebookName": "Create Dataframes",
   "widgets": {}
  },
  "language_info": {
   "name": "python"
  }
 },
 "nbformat": 4,
 "nbformat_minor": 0
}