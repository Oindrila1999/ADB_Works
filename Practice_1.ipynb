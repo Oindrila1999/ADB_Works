{
 "cells": [
  {
   "cell_type": "code",
   "execution_count": 0,
   "metadata": {
    "application/vnd.databricks.v1+cell": {
     "cellMetadata": {
      "byteLimit": 2048000,
      "rowLimit": 10000
     },
     "inputWidgets": {},
     "nuid": "e4d42397-d52e-420e-b39d-7031f6076d4d",
     "showTitle": false,
     "tableResultSettingsMap": {},
     "title": ""
    }
   },
   "outputs": [],
   "source": [
    "from pyspark.sql.functions import *\n",
    "from pyspark.sql.types import *"
   ]
  },
  {
   "cell_type": "markdown",
   "metadata": {
    "application/vnd.databricks.v1+cell": {
     "cellMetadata": {},
     "inputWidgets": {},
     "nuid": "4e443c93-07b8-4899-a040-2a8d69be5e7e",
     "showTitle": false,
     "tableResultSettingsMap": {},
     "title": ""
    }
   },
   "source": [
    "### **GET WORD COUNT**"
   ]
  },
  {
   "cell_type": "code",
   "execution_count": 0,
   "metadata": {
    "application/vnd.databricks.v1+cell": {
     "cellMetadata": {
      "byteLimit": 2048000,
      "rowLimit": 10000
     },
     "inputWidgets": {},
     "nuid": "99e2e741-8134-48d7-9504-18cd339480e7",
     "showTitle": false,
     "tableResultSettingsMap": {},
     "title": ""
    }
   },
   "outputs": [],
   "source": [
    "line = spark.read.text(\"/FileStore/tables/Line.txt\")\n",
    "line.withColumn(\"split_line\",split(col(\"value\"),\" \")) \\\n",
    "    .withColumn(\"words\",explode(col(\"split_line\"))) \\\n",
    "    .withColumn(\"words\",regexp_replace(col(\"words\"),r\"\\.\",\"\")) \\\n",
    "    .drop(\"value\",\"split_line\") \\\n",
    "    .groupBy(\"words\").count() \\\n",
    "    .show(truncate=False)"
   ]
  },
  {
   "cell_type": "markdown",
   "metadata": {
    "application/vnd.databricks.v1+cell": {
     "cellMetadata": {},
     "inputWidgets": {},
     "nuid": "7ecaea86-0654-416c-bb06-7aef444cf2f9",
     "showTitle": false,
     "tableResultSettingsMap": {},
     "title": ""
    }
   },
   "source": [
    "### **SEE A KEYWORD IS PRESENT IN A LINE OR NOT**"
   ]
  },
  {
   "cell_type": "code",
   "execution_count": 0,
   "metadata": {
    "application/vnd.databricks.v1+cell": {
     "cellMetadata": {
      "byteLimit": 2048000,
      "rowLimit": 10000
     },
     "inputWidgets": {},
     "nuid": "66f4fc67-dc47-45d8-b785-64a58edc1e4a",
     "showTitle": false,
     "tableResultSettingsMap": {},
     "title": ""
    }
   },
   "outputs": [],
   "source": [
    "keyword = input(\"Enter the word: \")\n",
    "word_df = line.withColumn(\"split_line\",split(col(\"value\"),\" \")) \\\n",
    "    .withColumn(\"words\",explode(col(\"split_line\"))) \\\n",
    "    .withColumn(\"words\",regexp_replace(col(\"words\"),r\"\\.\",\"\")) \\\n",
    "    .withColumn(\"Flag\", when(col(\"words\").contains(keyword),\"The word is exists\")\n",
    "                        .otherwise(\"Doesn't exist\")) \\\n",
    "    .distinct() \\\n",
    "    .drop(\"value\",\"split_line\",\"words\") \\\n",
    "    .filter(col(\"Flag\") == \"The word is exists\").show()"
   ]
  },
  {
   "cell_type": "code",
   "execution_count": 0,
   "metadata": {
    "application/vnd.databricks.v1+cell": {
     "cellMetadata": {
      "byteLimit": 2048000,
      "rowLimit": 10000
     },
     "inputWidgets": {},
     "nuid": "0d9e8e57-8da9-43f2-a386-8efa0ac09026",
     "showTitle": false,
     "tableResultSettingsMap": {},
     "title": ""
    }
   },
   "outputs": [],
   "source": [
    "keyword = input(\"Enter the word: \")\n",
    "word_df = line.withColumn(\"split_line\",split(col(\"value\"),\" \")) \\\n",
    "    .drop(\"value\") \\\n",
    "    .withColumn(\"Flag\",array_contains(\"split_line\",keyword)) \\\n",
    "    .show()"
   ]
  },
  {
   "cell_type": "code",
   "execution_count": 0,
   "metadata": {
    "application/vnd.databricks.v1+cell": {
     "cellMetadata": {},
     "inputWidgets": {},
     "nuid": "11f92e65-7674-48fd-8892-bcecbe727d8a",
     "showTitle": false,
     "tableResultSettingsMap": {},
     "title": ""
    }
   },
   "outputs": [],
   "source": []
  }
 ],
 "metadata": {
  "application/vnd.databricks.v1+notebook": {
   "computePreferences": null,
   "dashboards": [],
   "environmentMetadata": {
    "base_environment": "",
    "environment_version": "1"
   },
   "inputWidgetPreferences": null,
   "language": "python",
   "notebookMetadata": {
    "mostRecentlyExecutedCommandWithImplicitDF": {
     "commandId": 1402283802309267,
     "dataframes": [
      "_sqldf"
     ]
    },
    "pythonIndentUnit": 4
   },
   "notebookName": "Practice_1",
   "widgets": {}
  },
  "language_info": {
   "name": "python"
  }
 },
 "nbformat": 4,
 "nbformat_minor": 0
}