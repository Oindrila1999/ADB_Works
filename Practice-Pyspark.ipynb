{
 "cells": [
  {
   "cell_type": "code",
   "execution_count": 0,
   "metadata": {
    "application/vnd.databricks.v1+cell": {
     "cellMetadata": {
      "byteLimit": 2048000,
      "rowLimit": 10000
     },
     "inputWidgets": {},
     "nuid": "f78d4b68-19dd-4c17-85c0-b7a248b038ae",
     "showTitle": false,
     "tableResultSettingsMap": {},
     "title": ""
    }
   },
   "outputs": [],
   "source": [
    "from pyspark.sql.functions import *\n",
    "from pyspark.sql.types import *\n",
    "from pyspark.sql import *"
   ]
  },
  {
   "cell_type": "code",
   "execution_count": 0,
   "metadata": {
    "application/vnd.databricks.v1+cell": {
     "cellMetadata": {
      "byteLimit": 2048000,
      "rowLimit": 10000
     },
     "inputWidgets": {},
     "nuid": "13989d54-616c-47ff-83da-26eb6fd92117",
     "showTitle": false,
     "tableResultSettingsMap": {},
     "title": ""
    }
   },
   "outputs": [],
   "source": [
    "users = [[4,'92541','A'],\n",
    "         [1,'09397','B']]\n",
    "\n",
    "txns = [[100,4,'92541'],\n",
    "        [101,4,'124'],\n",
    "        [102,4,'92541'],\n",
    "        [103,1,'09397'],\n",
    "        [104,1,'890']]\n",
    "\n",
    "users_df = spark.createDataFrame(users,['id','add','name'])\n",
    "txn_df = spark.createDataFrame(txns,['id','user_id','ship_add'])"
   ]
  },
  {
   "cell_type": "code",
   "execution_count": 0,
   "metadata": {
    "application/vnd.databricks.v1+cell": {
     "cellMetadata": {
      "byteLimit": 2048000,
      "rowLimit": 10000
     },
     "inputWidgets": {},
     "nuid": "c57844d7-049e-4a3e-bea6-1bdb651d7396",
     "showTitle": false,
     "tableResultSettingsMap": {},
     "title": ""
    }
   },
   "outputs": [
    {
     "output_type": "stream",
     "name": "stdout",
     "output_type": "stream",
     "text": [
      "+-------+-----------------+\n|user_id|  home_percentage|\n+-------+-----------------+\n|      4|66.66666666666666|\n+-------+-----------------+\n\n"
     ]
    }
   ],
   "source": [
    "result = users_df.join(txn_df, users_df['id'] == txn_df['user_id'], how='inner')\\\n",
    "                .select(col('user_id'),col('add'),col('ship_add')) \\\n",
    "                .groupby(col('user_id')).agg(count(\"*\").alias(\"total_orders\"), \n",
    "                                     sum(when(col('add') == col('ship_add'),1).\n",
    "                                         otherwise(0)).alias(\"orders_in_home\"),\n",
    "                                     sum(when(col('add') != col('ship_add'),1).\n",
    "                                         otherwise(0)).alias(\"orders_not_in_home\")\n",
    "                                    ) \\\n",
    "                .filter(col(\"orders_in_home\") > col(\"orders_not_in_home\"))\n",
    "        \n",
    "result.withColumn(\"home_percentage\", (col(\"orders_in_home\") / col(\"total_orders\")) * 100) \\\n",
    "      .select(\"user_id\",\"home_percentage\") \\\n",
    "      .show()"
   ]
  },
  {
   "cell_type": "code",
   "execution_count": 0,
   "metadata": {
    "application/vnd.databricks.v1+cell": {
     "cellMetadata": {
      "byteLimit": 2048000,
      "rowLimit": 10000
     },
     "inputWidgets": {},
     "nuid": "95624c24-875c-4d3f-a782-6524865011f8",
     "showTitle": false,
     "tableResultSettingsMap": {},
     "title": ""
    }
   },
   "outputs": [],
   "source": [
    "users_df.createOrReplaceTempView('user_tbl')"
   ]
  },
  {
   "cell_type": "code",
   "execution_count": 0,
   "metadata": {
    "application/vnd.databricks.v1+cell": {
     "cellMetadata": {
      "byteLimit": 2048000,
      "rowLimit": 10000
     },
     "inputWidgets": {},
     "nuid": "2107afee-43fd-40b2-b751-78b3ee269665",
     "showTitle": false,
     "tableResultSettingsMap": {},
     "title": ""
    }
   },
   "outputs": [],
   "source": [
    "txn_df.createOrReplaceTempView('txn_tbl')"
   ]
  },
  {
   "cell_type": "code",
   "execution_count": 0,
   "metadata": {
    "application/vnd.databricks.v1+cell": {
     "cellMetadata": {
      "byteLimit": 2048000,
      "implicitDf": true,
      "rowLimit": 10000
     },
     "inputWidgets": {},
     "nuid": "d1bed21c-1909-439b-9ba4-c523a54d838e",
     "showTitle": false,
     "tableResultSettingsMap": {},
     "title": ""
    }
   },
   "outputs": [
    {
     "output_type": "display_data",
     "data": {
      "text/html": [
       "<style scoped>\n",
       "  .table-result-container {\n",
       "    max-height: 300px;\n",
       "    overflow: auto;\n",
       "  }\n",
       "  table, th, td {\n",
       "    border: 1px solid black;\n",
       "    border-collapse: collapse;\n",
       "  }\n",
       "  th, td {\n",
       "    padding: 5px;\n",
       "  }\n",
       "  th {\n",
       "    text-align: left;\n",
       "  }\n",
       "</style><div class='table-result-container'><table class='table-result'><thead style='background-color: white'><tr><th>user_id</th><th>home_percentage</th></tr></thead><tbody><tr><td>4</td><td>66.66666666666666</td></tr></tbody></table></div>"
      ]
     },
     "metadata": {
      "application/vnd.databricks.v1+output": {
       "addedWidgets": {},
       "aggData": [],
       "aggError": "",
       "aggOverflow": false,
       "aggSchema": [],
       "aggSeriesLimitReached": false,
       "aggType": "",
       "arguments": {},
       "columnCustomDisplayInfos": {},
       "data": [
        [
         4,
         66.66666666666666
        ]
       ],
       "datasetInfos": [],
       "dbfsResultPath": null,
       "isJsonSchema": true,
       "metadata": {},
       "overflow": false,
       "plotOptions": {
        "customPlotOptions": {},
        "displayType": "table",
        "pivotAggregation": null,
        "pivotColumns": null,
        "xColumns": null,
        "yColumns": null
       },
       "removedWidgets": [],
       "schema": [
        {
         "metadata": "{}",
         "name": "user_id",
         "type": "\"long\""
        },
        {
         "metadata": "{}",
         "name": "home_percentage",
         "type": "\"double\""
        }
       ],
       "type": "table"
      }
     },
     "output_type": "display_data"
    }
   ],
   "source": [
    "%sql\n",
    "with user_ship as (\n",
    "  select user_id,add,ship_add\n",
    "  from user_tbl u\n",
    "  join txn_tbl t\n",
    "  on u.id = t.user_id\n",
    "),\n",
    "total_orders as (\n",
    "  select user_id,count(*) as total_orders\n",
    "  from user_ship\n",
    "  group by user_id\n",
    "),\n",
    "total_home_orders as (\n",
    "  select user_id,count(add) as orders_in_home\n",
    "  from user_ship\n",
    "  where add = ship_add\n",
    "  group by user_id\n",
    "),\n",
    "total_ship_orders as (\n",
    "  select user_id,count(ship_add) as orders_not_in_home\n",
    "  from user_ship\n",
    "  where add <> ship_add\n",
    "  group by user_id\n",
    ")\n",
    "select user_id,home_percentage from(\n",
    "select t_o.user_id,total_orders,orders_in_home,orders_not_in_home,((orders_in_home/total_orders)*100) as home_percentage\n",
    "from total_orders t_o\n",
    "join total_home_orders t_h_o\n",
    "on t_o.user_id = t_h_o.user_id\n",
    "join total_ship_orders t_s_o\n",
    "on t_h_o.user_id = t_s_o.user_id\n",
    "where orders_in_home > orders_not_in_home\n",
    ")tmp;"
   ]
  },
  {
   "cell_type": "code",
   "execution_count": 0,
   "metadata": {
    "application/vnd.databricks.v1+cell": {
     "cellMetadata": {
      "byteLimit": 2048000,
      "implicitDf": true,
      "rowLimit": 10000
     },
     "inputWidgets": {},
     "nuid": "ba63ac00-55d5-448f-bc71-8c79ab230073",
     "showTitle": false,
     "tableResultSettingsMap": {},
     "title": ""
    }
   },
   "outputs": [
    {
     "output_type": "display_data",
     "data": {
      "text/html": [
       "<style scoped>\n",
       "  .table-result-container {\n",
       "    max-height: 300px;\n",
       "    overflow: auto;\n",
       "  }\n",
       "  table, th, td {\n",
       "    border: 1px solid black;\n",
       "    border-collapse: collapse;\n",
       "  }\n",
       "  th, td {\n",
       "    padding: 5px;\n",
       "  }\n",
       "  th {\n",
       "    text-align: left;\n",
       "  }\n",
       "</style><div class='table-result-container'><table class='table-result'><thead style='background-color: white'><tr><th>user_id</th><th>Home_order_pect</th></tr></thead><tbody><tr><td>4</td><td>66.66666666666666</td></tr><tr><td>1</td><td>50.0</td></tr></tbody></table></div>"
      ]
     },
     "metadata": {
      "application/vnd.databricks.v1+output": {
       "addedWidgets": {},
       "aggData": [],
       "aggError": "",
       "aggOverflow": false,
       "aggSchema": [],
       "aggSeriesLimitReached": false,
       "aggType": "",
       "arguments": {},
       "columnCustomDisplayInfos": {},
       "data": [
        [
         4,
         66.66666666666666
        ],
        [
         1,
         50.0
        ]
       ],
       "datasetInfos": [],
       "dbfsResultPath": null,
       "isJsonSchema": true,
       "metadata": {},
       "overflow": false,
       "plotOptions": {
        "customPlotOptions": {},
        "displayType": "table",
        "pivotAggregation": null,
        "pivotColumns": null,
        "xColumns": null,
        "yColumns": null
       },
       "removedWidgets": [],
       "schema": [
        {
         "metadata": "{}",
         "name": "user_id",
         "type": "\"long\""
        },
        {
         "metadata": "{}",
         "name": "Home_order_pect",
         "type": "\"double\""
        }
       ],
       "type": "table"
      }
     },
     "output_type": "display_data"
    }
   ],
   "source": [
    "%sql\n",
    "select \n",
    "  T.user_id, \n",
    "  (count(add) / count(*)) * 100 as Home_order_pect\n",
    "from\n",
    "txn_tbl T\n",
    "left join\n",
    "user_tbl U\n",
    "on T.user_id = U.id and T.ship_add = U.add\n",
    "group by T.user_id"
   ]
  },
  {
   "cell_type": "code",
   "execution_count": 0,
   "metadata": {
    "application/vnd.databricks.v1+cell": {
     "cellMetadata": {},
     "inputWidgets": {},
     "nuid": "0e7a74cc-ca03-4538-b726-8c7214bf93ef",
     "showTitle": false,
     "tableResultSettingsMap": {},
     "title": ""
    }
   },
   "outputs": [],
   "source": []
  }
 ],
 "metadata": {
  "application/vnd.databricks.v1+notebook": {
   "computePreferences": null,
   "dashboards": [],
   "environmentMetadata": {
    "base_environment": "",
    "environment_version": "1"
   },
   "inputWidgetPreferences": null,
   "language": "python",
   "notebookMetadata": {
    "mostRecentlyExecutedCommandWithImplicitDF": {
     "commandId": 1900479724057726,
     "dataframes": [
      "_sqldf"
     ]
    },
    "pythonIndentUnit": 4
   },
   "notebookName": "Practice-Pyspark",
   "widgets": {}
  }
 },
 "nbformat": 4,
 "nbformat_minor": 0
}