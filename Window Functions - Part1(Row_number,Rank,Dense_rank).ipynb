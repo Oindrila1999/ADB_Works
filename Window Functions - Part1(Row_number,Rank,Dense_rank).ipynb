{
 "cells": [
  {
   "cell_type": "code",
   "execution_count": 0,
   "metadata": {
    "application/vnd.databricks.v1+cell": {
     "cellMetadata": {
      "byteLimit": 2048000,
      "rowLimit": 10000
     },
     "inputWidgets": {},
     "nuid": "7c7252e8-a6b3-45b3-86b0-f416d6d7655e",
     "showTitle": false,
     "tableResultSettingsMap": {},
     "title": ""
    }
   },
   "outputs": [],
   "source": [
    "import pyspark\n",
    "from pyspark.sql import SparkSession\n",
    "from pyspark.sql.functions import *\n",
    "from pyspark.sql.types import *\n",
    "from pyspark.sql import *"
   ]
  },
  {
   "cell_type": "code",
   "execution_count": 0,
   "metadata": {
    "application/vnd.databricks.v1+cell": {
     "cellMetadata": {
      "byteLimit": 2048000,
      "rowLimit": 10000
     },
     "inputWidgets": {},
     "nuid": "8812407f-2a67-4dc2-9a75-376c4f5e907b",
     "showTitle": false,
     "tableResultSettingsMap": {},
     "title": ""
    }
   },
   "outputs": [],
   "source": [
    "emp_data = [(1,'manish',50000,'IT','m'),\n",
    "(2,'vikash',60000,'sales','m'),\n",
    "(3,'raushan',70000,'marketing','m'),\n",
    "(4,'mukesh',80000,'IT','m'),\n",
    "(5,'priti',90000,'sales','f'),\n",
    "(6,'nikita',45000,'marketing','f'),\n",
    "(7,'ragini',55000,'marketing','f'),\n",
    "(8,'rashi',100000,'IT','f'),\n",
    "(9,'aditya',65000,'IT','m'),\n",
    "(10,'rahul',50000,'marketing','m'),\n",
    "(11,'rakhi',50000,'IT','f'),\n",
    "(12,'akhilesh',90000,'sales','m')]\n",
    "\n",
    "emp_schema = [\"id\",\"name\",\"salary\",\"dept\",\"gender\"]\n",
    "\n",
    "emp_df = spark.createDataFrame(emp_data,emp_schema)\n",
    "\n",
    "emp_df.createOrReplaceTempView(\"emp_table\")\n",
    "\n",
    "emp_df.show()"
   ]
  },
  {
   "cell_type": "markdown",
   "metadata": {
    "application/vnd.databricks.v1+cell": {
     "cellMetadata": {},
     "inputWidgets": {},
     "nuid": "5b237d2d-6dc6-4ad8-9f80-acc3d4894a4f",
     "showTitle": false,
     "tableResultSettingsMap": {},
     "title": ""
    }
   },
   "source": [
    "### **Department wise total salary**"
   ]
  },
  {
   "cell_type": "code",
   "execution_count": 0,
   "metadata": {
    "application/vnd.databricks.v1+cell": {
     "cellMetadata": {
      "byteLimit": 2048000,
      "rowLimit": 10000
     },
     "inputWidgets": {},
     "nuid": "36e32af7-b098-4c79-b9a9-93d1bf759256",
     "showTitle": false,
     "tableResultSettingsMap": {},
     "title": ""
    }
   },
   "outputs": [],
   "source": [
    "emp_df.groupBy(col(\"dept\")).sum(\"salary\").show()"
   ]
  },
  {
   "cell_type": "code",
   "execution_count": 0,
   "metadata": {
    "application/vnd.databricks.v1+cell": {
     "cellMetadata": {
      "byteLimit": 2048000,
      "rowLimit": 10000
     },
     "inputWidgets": {},
     "nuid": "9e08a1da-0967-4101-a719-3a0578206b56",
     "showTitle": false,
     "tableResultSettingsMap": {},
     "title": ""
    }
   },
   "outputs": [],
   "source": [
    "from pyspark.sql.window import Window"
   ]
  },
  {
   "cell_type": "markdown",
   "metadata": {
    "application/vnd.databricks.v1+cell": {
     "cellMetadata": {},
     "inputWidgets": {},
     "nuid": "c141caa9-8530-464e-a121-35eeed344d19",
     "showTitle": false,
     "tableResultSettingsMap": {},
     "title": ""
    }
   },
   "source": [
    "### **ROW NUMBER**"
   ]
  },
  {
   "cell_type": "code",
   "execution_count": 0,
   "metadata": {
    "application/vnd.databricks.v1+cell": {
     "cellMetadata": {
      "byteLimit": 2048000,
      "rowLimit": 10000
     },
     "inputWidgets": {},
     "nuid": "cfcfca17-c602-46ae-87ca-b2c4c9121d7a",
     "showTitle": false,
     "tableResultSettingsMap": {},
     "title": ""
    }
   },
   "outputs": [],
   "source": [
    "window = Window.partitionBy(\"dept\").orderBy(\"salary\")\n",
    "emp_df.withColumn(\"row_number\",row_number().over(window)).show()"
   ]
  },
  {
   "cell_type": "code",
   "execution_count": 0,
   "metadata": {
    "application/vnd.databricks.v1+cell": {
     "cellMetadata": {
      "byteLimit": 2048000,
      "implicitDf": true,
      "rowLimit": 10000
     },
     "inputWidgets": {},
     "nuid": "4b09e6a8-6d9a-4ad7-a395-4a21bbf396c1",
     "showTitle": false,
     "tableResultSettingsMap": {},
     "title": ""
    }
   },
   "outputs": [],
   "source": [
    "%sql\n",
    "select id,name,salary,dept,gender,row_number() over(partition by dept order by salary desc) as row_number from emp_table"
   ]
  },
  {
   "cell_type": "markdown",
   "metadata": {
    "application/vnd.databricks.v1+cell": {
     "cellMetadata": {},
     "inputWidgets": {},
     "nuid": "8f8adb62-a166-4a5f-b54b-912c561767b0",
     "showTitle": false,
     "tableResultSettingsMap": {},
     "title": ""
    }
   },
   "source": [
    "### **RANK**"
   ]
  },
  {
   "cell_type": "code",
   "execution_count": 0,
   "metadata": {
    "application/vnd.databricks.v1+cell": {
     "cellMetadata": {
      "byteLimit": 2048000,
      "rowLimit": 10000
     },
     "inputWidgets": {},
     "nuid": "87ae9470-4841-4589-81be-3ada4d904554",
     "showTitle": false,
     "tableResultSettingsMap": {},
     "title": ""
    }
   },
   "outputs": [],
   "source": [
    "window = Window.partitionBy(\"dept\").orderBy(\"salary\")\n",
    "emp_df.withColumn(\"rank\",rank().over(window)).show()"
   ]
  },
  {
   "cell_type": "code",
   "execution_count": 0,
   "metadata": {
    "application/vnd.databricks.v1+cell": {
     "cellMetadata": {
      "byteLimit": 2048000,
      "implicitDf": true,
      "rowLimit": 10000
     },
     "inputWidgets": {},
     "nuid": "7f9324f8-4e6b-4d5d-8ddf-f87a3b4da422",
     "showTitle": false,
     "tableResultSettingsMap": {},
     "title": ""
    }
   },
   "outputs": [],
   "source": [
    "%sql\n",
    "select id,name,salary,dept,gender,rank() over(partition by dept order by salary desc) as rank from emp_table"
   ]
  },
  {
   "cell_type": "markdown",
   "metadata": {
    "application/vnd.databricks.v1+cell": {
     "cellMetadata": {},
     "inputWidgets": {},
     "nuid": "d85040eb-40c2-460f-af14-453acbd498cb",
     "showTitle": false,
     "tableResultSettingsMap": {},
     "title": ""
    }
   },
   "source": [
    "### **DENSE RANK**"
   ]
  },
  {
   "cell_type": "code",
   "execution_count": 0,
   "metadata": {
    "application/vnd.databricks.v1+cell": {
     "cellMetadata": {
      "byteLimit": 2048000,
      "rowLimit": 10000
     },
     "inputWidgets": {},
     "nuid": "86fa52c0-bf4a-4ddb-a7bb-52af258474b0",
     "showTitle": false,
     "tableResultSettingsMap": {},
     "title": ""
    }
   },
   "outputs": [],
   "source": [
    "window = Window.partitionBy(\"dept\").orderBy(\"salary\")\n",
    "emp_df.withColumn(\"dense_rank\",dense_rank().over(window)).show()"
   ]
  },
  {
   "cell_type": "code",
   "execution_count": 0,
   "metadata": {
    "application/vnd.databricks.v1+cell": {
     "cellMetadata": {
      "byteLimit": 2048000,
      "implicitDf": true,
      "rowLimit": 10000
     },
     "inputWidgets": {},
     "nuid": "69ecc7ca-0c91-400a-8c6d-94e1f1855a6b",
     "showTitle": false,
     "tableResultSettingsMap": {},
     "title": ""
    }
   },
   "outputs": [],
   "source": [
    "%sql\n",
    "select id,name,salary,dept,gender,dense_rank() over(partition by dept order by salary desc) as dense_rank from emp_table"
   ]
  },
  {
   "cell_type": "markdown",
   "metadata": {
    "application/vnd.databricks.v1+cell": {
     "cellMetadata": {},
     "inputWidgets": {},
     "nuid": "d9d1d1e2-51e8-4cea-a637-c0c2fcf912da",
     "showTitle": false,
     "tableResultSettingsMap": {},
     "title": ""
    }
   },
   "source": [
    "### **MULTIPLE PARTITION BY COLUMNS**"
   ]
  },
  {
   "cell_type": "code",
   "execution_count": 0,
   "metadata": {
    "application/vnd.databricks.v1+cell": {
     "cellMetadata": {
      "byteLimit": 2048000,
      "rowLimit": 10000
     },
     "inputWidgets": {},
     "nuid": "0f39fe7b-78e0-4c5c-aad6-7c1861647e6d",
     "showTitle": false,
     "tableResultSettingsMap": {},
     "title": ""
    }
   },
   "outputs": [],
   "source": [
    "window = Window.partitionBy(\"gender\",\"dept\").orderBy(desc(\"salary\"))\n",
    "emp_df.withColumn(\"row_number\",row_number().over(window)) \\\n",
    "    .withColumn(\"rank\",rank().over(window)) \\\n",
    "    .withColumn(\"dense_rank\",dense_rank().over(window)) \\\n",
    "    .show()"
   ]
  },
  {
   "cell_type": "code",
   "execution_count": 0,
   "metadata": {
    "application/vnd.databricks.v1+cell": {
     "cellMetadata": {
      "byteLimit": 2048000,
      "implicitDf": true,
      "rowLimit": 10000
     },
     "inputWidgets": {},
     "nuid": "c2473422-793c-416a-86f5-b3317b189db7",
     "showTitle": false,
     "tableResultSettingsMap": {},
     "title": ""
    }
   },
   "outputs": [],
   "source": [
    "%sql\n",
    "select id,name,salary,gender,dept,row_number() over(partition by gender,dept order by salary desc) as row_number,\n",
    "rank() over(partition by gender,dept order by salary desc) as rank,\n",
    "dense_rank() over(partition by gender,dept order by salary desc) as dense_rank\n",
    "from emp_table"
   ]
  },
  {
   "cell_type": "markdown",
   "metadata": {
    "application/vnd.databricks.v1+cell": {
     "cellMetadata": {},
     "inputWidgets": {},
     "nuid": "ab9805ea-5df8-4665-aab9-12a5c6885088",
     "showTitle": false,
     "tableResultSettingsMap": {},
     "title": ""
    }
   },
   "source": [
    "### **TOP 2 SALARIED PERSON OF EACH DEPARTMENT**"
   ]
  },
  {
   "cell_type": "code",
   "execution_count": 0,
   "metadata": {
    "application/vnd.databricks.v1+cell": {
     "cellMetadata": {
      "byteLimit": 2048000,
      "rowLimit": 10000
     },
     "inputWidgets": {},
     "nuid": "fe199de7-32c7-4878-8f57-f75ee84df2df",
     "showTitle": false,
     "tableResultSettingsMap": {},
     "title": ""
    }
   },
   "outputs": [],
   "source": [
    "window = Window.partitionBy(\"dept\").orderBy(desc(\"salary\"))\n",
    "emp_df.withColumn(\"row_number\",row_number().over(window)) \\\n",
    "    .withColumn(\"rank\",rank().over(window)) \\\n",
    "    .withColumn(\"dense_rank\",dense_rank().over(window)) \\\n",
    "    .filter(col(\"dense_rank\") <= 2) \\\n",
    "    .show()\n",
    "\n",
    "\n",
    "# to get exact 2 use row_number\n",
    "emp_df.withColumn(\"row_number\",row_number().over(window)) \\\n",
    "    .withColumn(\"rank\",rank().over(window)) \\\n",
    "    .withColumn(\"dense_rank\",dense_rank().over(window)) \\\n",
    "    .filter(col(\"row_number\") <= 2) \\\n",
    "    .show()"
   ]
  },
  {
   "cell_type": "code",
   "execution_count": 0,
   "metadata": {
    "application/vnd.databricks.v1+cell": {
     "cellMetadata": {
      "byteLimit": 2048000,
      "implicitDf": true,
      "rowLimit": 10000
     },
     "inputWidgets": {},
     "nuid": "cfd2a6eb-38a7-4c42-8e81-1b8516283094",
     "showTitle": false,
     "tableResultSettingsMap": {},
     "title": ""
    }
   },
   "outputs": [],
   "source": [
    "%sql\n",
    "select id,name,dept,salary from(\n",
    "select id,name,dept,salary,row_number() over(partition by dept order by salary desc) as r_no\n",
    "from emp_table) a\n",
    "where r_no <= 2"
   ]
  },
  {
   "cell_type": "markdown",
   "metadata": {
    "application/vnd.databricks.v1+cell": {
     "cellMetadata": {},
     "inputWidgets": {},
     "nuid": "912c8c03-9432-4b0b-97ab-b3d98d1c384d",
     "showTitle": false,
     "tableResultSettingsMap": {},
     "title": ""
    }
   },
   "source": [
    "### **APPLY SUM OVER EACH WINDOW -- GET DEPT WISE TOTAL EACH ROW**"
   ]
  },
  {
   "cell_type": "code",
   "execution_count": 0,
   "metadata": {
    "application/vnd.databricks.v1+cell": {
     "cellMetadata": {
      "byteLimit": 2048000,
      "rowLimit": 10000
     },
     "inputWidgets": {},
     "nuid": "6c892fda-c4d0-4577-aa48-9175a712eb49",
     "showTitle": false,
     "tableResultSettingsMap": {},
     "title": ""
    }
   },
   "outputs": [],
   "source": [
    "window = Window.partitionBy(\"dept\")\n",
    "new_emp_df = emp_df.withColumn(\"Total_salary\",sum(\"salary\").over(window))\n",
    "new_emp_df.show()"
   ]
  },
  {
   "cell_type": "code",
   "execution_count": 0,
   "metadata": {
    "application/vnd.databricks.v1+cell": {
     "cellMetadata": {
      "byteLimit": 2048000,
      "implicitDf": true,
      "rowLimit": 10000
     },
     "inputWidgets": {},
     "nuid": "a3bac4c0-7e2f-4a78-a924-c22290871888",
     "showTitle": false,
     "tableResultSettingsMap": {},
     "title": ""
    }
   },
   "outputs": [],
   "source": [
    "%sql\n",
    "select e.id,e.name,e.dept,e.salary,a.total_sal from emp_table e\n",
    "join\n",
    "(select dept,sum(salary) as total_sal from emp_table group by dept) a\n",
    "on e.dept = a.dept\n",
    "order by dept asc"
   ]
  },
  {
   "cell_type": "markdown",
   "metadata": {
    "application/vnd.databricks.v1+cell": {
     "cellMetadata": {},
     "inputWidgets": {},
     "nuid": "85760ee4-76a8-48f6-83f1-90a2cc1f1e22",
     "showTitle": false,
     "tableResultSettingsMap": {},
     "title": ""
    }
   },
   "source": [
    "### **GET % OF SALARY GIVEN TO EACH EMPLOYEE OF THEIR DEPARTMENT**"
   ]
  },
  {
   "cell_type": "code",
   "execution_count": 0,
   "metadata": {
    "application/vnd.databricks.v1+cell": {
     "cellMetadata": {
      "byteLimit": 2048000,
      "rowLimit": 10000
     },
     "inputWidgets": {},
     "nuid": "438b6d32-5eb3-47ba-9889-b09561b0b254",
     "showTitle": false,
     "tableResultSettingsMap": {},
     "title": ""
    }
   },
   "outputs": [],
   "source": [
    "window = Window.partitionBy(\"dept\")\n",
    "new_emp_df = emp_df.withColumn(\"Total_salary\",sum(\"salary\").over(window)) \\\n",
    "                   .withColumn(\"% sal of dept\",(col(\"salary\")/col(\"Total_salary\") * 100))\n",
    "new_emp_df.show()"
   ]
  },
  {
   "cell_type": "code",
   "execution_count": 0,
   "metadata": {
    "application/vnd.databricks.v1+cell": {
     "cellMetadata": {
      "byteLimit": 2048000,
      "implicitDf": true,
      "rowLimit": 10000
     },
     "inputWidgets": {},
     "nuid": "be2e55ed-ce34-4dcd-ae28-2bc12b261a52",
     "showTitle": false,
     "tableResultSettingsMap": {},
     "title": ""
    }
   },
   "outputs": [],
   "source": [
    "%sql\n",
    "with dept_total_sal as (select dept,sum(salary) as total_sal from emp_table group by dept)\n",
    "select e.id,e.name,e.dept,e.salary,a.total_sal,(e.salary/a.total_sal)*100 as prcnt_of_sal\n",
    "from emp_table e\n",
    "join dept_total_sal a\n",
    "on e.dept = a.dept\n",
    "order by dept"
   ]
  },
  {
   "cell_type": "markdown",
   "metadata": {
    "application/vnd.databricks.v1+cell": {
     "cellMetadata": {},
     "inputWidgets": {},
     "nuid": "f51cb720-5d54-46d5-a8bc-7ee94aad51b8",
     "showTitle": false,
     "tableResultSettingsMap": {},
     "title": ""
    }
   },
   "source": [
    "### **GET EMPLOYEE WHOSE SAL < 25% OF TOTAL SAL OF THEIR DEPARTMENT**"
   ]
  },
  {
   "cell_type": "code",
   "execution_count": 0,
   "metadata": {
    "application/vnd.databricks.v1+cell": {
     "cellMetadata": {
      "byteLimit": 2048000,
      "rowLimit": 10000
     },
     "inputWidgets": {},
     "nuid": "993d2993-a10e-4937-b98c-64d5aaea19ba",
     "showTitle": false,
     "tableResultSettingsMap": {},
     "title": ""
    }
   },
   "outputs": [],
   "source": [
    "window = Window.partitionBy(\"dept\")\n",
    "new_emp_df = emp_df.withColumn(\"Total_salary\",sum(\"salary\").over(window)) \\\n",
    "                   .filter(col(\"salary\") <= col(\"Total_salary\") * 0.25)\n",
    "new_emp_df.show()"
   ]
  },
  {
   "cell_type": "code",
   "execution_count": 0,
   "metadata": {
    "application/vnd.databricks.v1+cell": {
     "cellMetadata": {
      "byteLimit": 2048000,
      "implicitDf": true,
      "rowLimit": 10000
     },
     "inputWidgets": {},
     "nuid": "c8047208-264c-4983-b73b-bebcc2d79fe2",
     "showTitle": false,
     "tableResultSettingsMap": {},
     "title": ""
    }
   },
   "outputs": [],
   "source": [
    "%sql\n",
    "with dept_total_sal as (select dept,sum(salary) as total_sal from emp_table group by dept)\n",
    "select e.id,e.name,e.dept,e.salary,a.total_sal\n",
    "from emp_table e\n",
    "join dept_total_sal a\n",
    "on e.dept = a.dept\n",
    "where e.salary <= 0.25 * a.total_sal\n",
    "order by dept"
   ]
  },
  {
   "cell_type": "markdown",
   "metadata": {
    "application/vnd.databricks.v1+cell": {
     "cellMetadata": {},
     "inputWidgets": {},
     "nuid": "7f3fe616-8847-4ac8-9f42-064d09c78b62",
     "showTitle": false,
     "tableResultSettingsMap": {},
     "title": ""
    }
   },
   "source": [
    "### **GET SECOND HIGHEST SALARIED PERSON**"
   ]
  },
  {
   "cell_type": "code",
   "execution_count": 0,
   "metadata": {
    "application/vnd.databricks.v1+cell": {
     "cellMetadata": {
      "byteLimit": 2048000,
      "rowLimit": 10000
     },
     "inputWidgets": {},
     "nuid": "d5870ba3-23a4-436c-8fb0-7e8842da1ef9",
     "showTitle": false,
     "tableResultSettingsMap": {},
     "title": ""
    }
   },
   "outputs": [],
   "source": [
    "window = Window.orderBy(desc(\"salary\"))\n",
    "emp_df.withColumn(\"dense_rank\",dense_rank().over(window)).filter(col(\"dense_rank\") == 2).show()\n",
    "\n",
    "## if we don't want same rank both then we can use row_number\n",
    "emp_df.withColumn(\"row_number\",row_number().over(window)).filter(col(\"row_number\") == 2).show()"
   ]
  },
  {
   "cell_type": "code",
   "execution_count": 0,
   "metadata": {
    "application/vnd.databricks.v1+cell": {
     "cellMetadata": {
      "byteLimit": 2048000,
      "implicitDf": true,
      "rowLimit": 10000
     },
     "inputWidgets": {},
     "nuid": "603a6dbb-f558-4680-84cc-7571499d7222",
     "showTitle": false,
     "tableResultSettingsMap": {},
     "title": ""
    }
   },
   "outputs": [],
   "source": [
    "%sql\n",
    "select * from(\n",
    "select id,name,salary,dept,gender,row_number() over(order by salary desc) r_no\n",
    "from emp_table\n",
    ")a\n",
    "where r_no = 2"
   ]
  },
  {
   "cell_type": "markdown",
   "metadata": {
    "application/vnd.databricks.v1+cell": {
     "cellMetadata": {},
     "inputWidgets": {},
     "nuid": "4e8d2b93-e1df-48c0-97b8-f6b3111816e9",
     "showTitle": false,
     "tableResultSettingsMap": {},
     "title": ""
    }
   },
   "source": [
    "### **GET SECOND HIGHEST SALARIED PERSON IN EACH DEPARTMENT**"
   ]
  },
  {
   "cell_type": "code",
   "execution_count": 0,
   "metadata": {
    "application/vnd.databricks.v1+cell": {
     "cellMetadata": {
      "byteLimit": 2048000,
      "rowLimit": 10000
     },
     "inputWidgets": {},
     "nuid": "7260af9f-fbd1-478d-a171-3399163488b0",
     "showTitle": false,
     "tableResultSettingsMap": {},
     "title": ""
    }
   },
   "outputs": [],
   "source": [
    "window = Window.partitionBy(\"dept\").orderBy(desc(\"salary\"))\n",
    "emp_df.withColumn(\"dense_rank\",dense_rank().over(window)).filter(col(\"dense_rank\") == 2).show()"
   ]
  },
  {
   "cell_type": "code",
   "execution_count": 0,
   "metadata": {
    "application/vnd.databricks.v1+cell": {
     "cellMetadata": {
      "byteLimit": 2048000,
      "implicitDf": true,
      "rowLimit": 10000
     },
     "inputWidgets": {},
     "nuid": "6e457a85-103e-4d1e-8bc7-d39bd3cba858",
     "showTitle": false,
     "tableResultSettingsMap": {},
     "title": ""
    }
   },
   "outputs": [],
   "source": [
    "%sql\n",
    "select * from(\n",
    "select id,name,salary,dept,gender,dense_rank() over(partition by dept order by salary desc) dense_rank\n",
    "from emp_table\n",
    ")a\n",
    "where dense_rank = 2"
   ]
  },
  {
   "cell_type": "code",
   "execution_count": 0,
   "metadata": {
    "application/vnd.databricks.v1+cell": {
     "cellMetadata": {},
     "inputWidgets": {},
     "nuid": "78897f5d-0093-4f9c-a1ac-807faf6eae89",
     "showTitle": false,
     "tableResultSettingsMap": {},
     "title": ""
    }
   },
   "outputs": [],
   "source": []
  }
 ],
 "metadata": {
  "application/vnd.databricks.v1+notebook": {
   "computePreferences": null,
   "dashboards": [],
   "environmentMetadata": {
    "base_environment": "",
    "environment_version": "1"
   },
   "inputWidgetPreferences": null,
   "language": "python",
   "notebookMetadata": {
    "mostRecentlyExecutedCommandWithImplicitDF": {
     "commandId": 1778508887055727,
     "dataframes": [
      "_sqldf"
     ]
    },
    "pythonIndentUnit": 4
   },
   "notebookName": "Window Functions - Part1(Row_number,Rank,Dense_rank)",
   "widgets": {}
  },
  "language_info": {
   "name": "python"
  }
 },
 "nbformat": 4,
 "nbformat_minor": 0
}