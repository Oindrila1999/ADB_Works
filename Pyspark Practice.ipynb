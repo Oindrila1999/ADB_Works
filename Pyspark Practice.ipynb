{
 "cells": [
  {
   "cell_type": "code",
   "execution_count": 0,
   "metadata": {
    "application/vnd.databricks.v1+cell": {
     "cellMetadata": {
      "byteLimit": 2048000,
      "rowLimit": 10000
     },
     "inputWidgets": {},
     "nuid": "9565f65b-5b62-467d-a717-845735c26805",
     "showTitle": false,
     "tableResultSettingsMap": {},
     "title": ""
    }
   },
   "outputs": [],
   "source": [
    "import pyspark\n",
    "from pyspark.sql import SparkSession\n",
    "from pyspark.sql.functions import *\n",
    "from pyspark.sql.types import *\n",
    "from pyspark.sql import *"
   ]
  },
  {
   "cell_type": "code",
   "execution_count": 0,
   "metadata": {
    "application/vnd.databricks.v1+cell": {
     "cellMetadata": {
      "byteLimit": 2048000,
      "rowLimit": 10000
     },
     "inputWidgets": {},
     "nuid": "5a6893db-ec2d-4cba-878b-805998ab4a4a",
     "showTitle": false,
     "tableResultSettingsMap": {},
     "title": ""
    }
   },
   "outputs": [
    {
     "output_type": "stream",
     "name": "stdout",
     "output_type": "stream",
     "text": [
      "+----+-----+\n|Dept|count|\n+----+-----+\n|  IT|    4|\n+----+-----+\n\n"
     ]
    }
   ],
   "source": [
    "## See spark jobs and DAG\n",
    "## Jobs for actions: format,inferSchema,show\n",
    "emp_data = spark.read.format(\"csv\") \\\n",
    "                     .option(\"header\",\"True\") \\\n",
    "                     .option(\"inferSchema\",\"true\") \\\n",
    "                     .load(\"dbfs:/FileStore/shared_uploads/oindrilamoonmete1999@gmail.com/Employee_details.csv\")\n",
    "\n",
    "emp_Data_rept = emp_data.repartition(3)\n",
    "\n",
    "gender_m = emp_data.filter(col(\"Gender\") == \"M\")\n",
    "dept_gen_m = gender_m.filter(col(\"Dept\") == \"IT\")\n",
    "\n",
    "total_male = dept_gen_m.groupby(\"Dept\").count()\n",
    "total_male.show()"
   ]
  }
 ],
 "metadata": {
  "application/vnd.databricks.v1+notebook": {
   "computePreferences": null,
   "dashboards": [],
   "environmentMetadata": {
    "base_environment": "",
    "environment_version": "1"
   },
   "inputWidgetPreferences": null,
   "language": "python",
   "notebookMetadata": {
    "mostRecentlyExecutedCommandWithImplicitDF": {
     "commandId": 100548362132124,
     "dataframes": [
      "_sqldf"
     ]
    },
    "pythonIndentUnit": 4
   },
   "notebookName": "Pyspark Practice",
   "widgets": {}
  }
 },
 "nbformat": 4,
 "nbformat_minor": 0
}